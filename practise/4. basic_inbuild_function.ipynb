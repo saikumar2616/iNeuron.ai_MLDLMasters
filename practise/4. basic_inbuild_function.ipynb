{
  "nbformat": 4,
  "nbformat_minor": 0,
  "metadata": {
    "kernelspec": {
      "display_name": "Python 3",
      "language": "python",
      "name": "python3"
    },
    "language_info": {
      "codemirror_mode": {
        "name": "ipython",
        "version": 3
      },
      "file_extension": ".py",
      "mimetype": "text/x-python",
      "name": "python",
      "nbconvert_exporter": "python",
      "pygments_lexer": "ipython3",
      "version": "3.8.5"
    },
    "colab": {
      "name": "basic inbuild function.ipynb",
      "provenance": []
    }
  },
  "cells": [
    {
      "cell_type": "code",
      "metadata": {
        "colab": {
          "base_uri": "https://localhost:8080/"
        },
        "id": "kypq6bgkjMIh",
        "outputId": "3bf473b9-9899-40b9-fb30-5c8f38821790"
      },
      "source": [
        "l = [1,2,1,2,4,5,6]\n",
        "for i in  l:\n",
        "    print(i)"
      ],
      "execution_count": 1,
      "outputs": [
        {
          "output_type": "stream",
          "text": [
            "1\n",
            "2\n",
            "1\n",
            "2\n",
            "4\n",
            "5\n",
            "6\n"
          ],
          "name": "stdout"
        }
      ]
    },
    {
      "cell_type": "code",
      "metadata": {
        "colab": {
          "base_uri": "https://localhost:8080/"
        },
        "id": "bxriGE55jMIl",
        "outputId": "4a3c3f13-1a44-4ca4-bc7a-a99683996978"
      },
      "source": [
        "for i in l:\n",
        "    print(i)\n",
        "else :\n",
        "    print(\"this will execute once for loop will complete iteslf \")"
      ],
      "execution_count": 2,
      "outputs": [
        {
          "output_type": "stream",
          "text": [
            "1\n",
            "2\n",
            "1\n",
            "2\n",
            "4\n",
            "5\n",
            "6\n",
            "this will execute once for loop will complete iteslf \n"
          ],
          "name": "stdout"
        }
      ]
    },
    {
      "cell_type": "code",
      "metadata": {
        "colab": {
          "base_uri": "https://localhost:8080/"
        },
        "id": "Ucq9nzOojMIn",
        "outputId": "d54108f1-8b2c-496b-a2f8-4b0129ff48e9"
      },
      "source": [
        "l"
      ],
      "execution_count": 3,
      "outputs": [
        {
          "output_type": "execute_result",
          "data": {
            "text/plain": [
              "[1, 2, 1, 2, 4, 5, 6]"
            ]
          },
          "metadata": {
            "tags": []
          },
          "execution_count": 3
        }
      ]
    },
    {
      "cell_type": "code",
      "metadata": {
        "colab": {
          "base_uri": "https://localhost:8080/"
        },
        "id": "RHaMoX5JjMIo",
        "outputId": "e1432f21-73c5-4acb-bbe5-16dcb1ebb501"
      },
      "source": [
        "for i in l :\n",
        "    print(i)\n",
        "    if i == 4:\n",
        "        print(\"break the statemetn\")\n",
        "        break\n",
        "else :\n",
        "    print(\"it will exexute this once for looop will be able to complte it self\") "
      ],
      "execution_count": 4,
      "outputs": [
        {
          "output_type": "stream",
          "text": [
            "1\n",
            "2\n",
            "1\n",
            "2\n",
            "4\n",
            "break the statemetn\n"
          ],
          "name": "stdout"
        }
      ]
    },
    {
      "cell_type": "code",
      "metadata": {
        "colab": {
          "base_uri": "https://localhost:8080/"
        },
        "id": "Lv1smmWJjMIp",
        "outputId": "5611c8ab-6b61-42d2-d2ff-d14ec920bb57"
      },
      "source": [
        "for i in l :\n",
        "    print(i)\n",
        "else :\n",
        "    print(\"try to perrofm some operation \")\n",
        "    for i in l :\n",
        "        print(\"fsfsf\")"
      ],
      "execution_count": 5,
      "outputs": [
        {
          "output_type": "stream",
          "text": [
            "1\n",
            "2\n",
            "1\n",
            "2\n",
            "4\n",
            "5\n",
            "6\n",
            "try to perrofm some operation \n",
            "fsfsf\n",
            "fsfsf\n",
            "fsfsf\n",
            "fsfsf\n",
            "fsfsf\n",
            "fsfsf\n",
            "fsfsf\n"
          ],
          "name": "stdout"
        }
      ]
    },
    {
      "cell_type": "code",
      "metadata": {
        "colab": {
          "base_uri": "https://localhost:8080/"
        },
        "id": "A3MEBnT1jMIq",
        "outputId": "eba437f3-4b8e-472c-ca6e-1deac70989da"
      },
      "source": [
        "for i in range(0,7):\n",
        "    for j in range(0,i+1):\n",
        "        print(\" * \" , end = \"\")\n",
        "        \n",
        "    print(\"\\r\")\n",
        "    "
      ],
      "execution_count": 6,
      "outputs": [
        {
          "output_type": "stream",
          "text": [
            " * \r\n",
            " *  * \r\n",
            " *  *  * \r\n",
            " *  *  *  * \r\n",
            " *  *  *  *  * \r\n",
            " *  *  *  *  *  * \r\n",
            " *  *  *  *  *  *  * \r\n"
          ],
          "name": "stdout"
        }
      ]
    },
    {
      "cell_type": "code",
      "metadata": {
        "colab": {
          "base_uri": "https://localhost:8080/"
        },
        "id": "1zAibfXilWi7",
        "outputId": "fceadce2-e761-4f00-f913-63f5ecf7e8de"
      },
      "source": [
        "for i in range(0,7):\n",
        "    print(\" * \"*(i+1))"
      ],
      "execution_count": 74,
      "outputs": [
        {
          "output_type": "stream",
          "text": [
            " * \n",
            " *  * \n",
            " *  *  * \n",
            " *  *  *  * \n",
            " *  *  *  *  * \n",
            " *  *  *  *  *  * \n",
            " *  *  *  *  *  *  * \n"
          ],
          "name": "stdout"
        }
      ]
    },
    {
      "cell_type": "code",
      "metadata": {
        "colab": {
          "base_uri": "https://localhost:8080/"
        },
        "id": "nky8cvgCjMIq",
        "outputId": "d393f7b6-e44a-4175-9f16-df172ffb421e"
      },
      "source": [
        "for i in range(0,7):\n",
        "    print(\"*\")"
      ],
      "execution_count": 7,
      "outputs": [
        {
          "output_type": "stream",
          "text": [
            "*\n",
            "*\n",
            "*\n",
            "*\n",
            "*\n",
            "*\n",
            "*\n"
          ],
          "name": "stdout"
        }
      ]
    },
    {
      "cell_type": "code",
      "metadata": {
        "colab": {
          "base_uri": "https://localhost:8080/"
        },
        "id": "EYbSI69pjMIr",
        "outputId": "c614b13f-75ea-47fd-8d28-6dd7376f5383"
      },
      "source": [
        "a = 1\n",
        "while a <= 7 :\n",
        "    print(\"this is a valid statement \")\n",
        "    a = a + 1 "
      ],
      "execution_count": 8,
      "outputs": [
        {
          "output_type": "stream",
          "text": [
            "this is a valid statement \n",
            "this is a valid statement \n",
            "this is a valid statement \n",
            "this is a valid statement \n",
            "this is a valid statement \n",
            "this is a valid statement \n",
            "this is a valid statement \n"
          ],
          "name": "stdout"
        }
      ]
    },
    {
      "cell_type": "code",
      "metadata": {
        "colab": {
          "base_uri": "https://localhost:8080/"
        },
        "id": "C9fknvecjMIs",
        "outputId": "345283d4-438c-4c9f-f2f2-3db5f787fc4f"
      },
      "source": [
        "x = 0 \n",
        "while x < 7 :\n",
        "    x = x  +1\n",
        "    if x == 4 :\n",
        "        continue\n",
        "    print(x)"
      ],
      "execution_count": 9,
      "outputs": [
        {
          "output_type": "stream",
          "text": [
            "1\n",
            "2\n",
            "3\n",
            "5\n",
            "6\n",
            "7\n"
          ],
          "name": "stdout"
        }
      ]
    },
    {
      "cell_type": "code",
      "metadata": {
        "colab": {
          "base_uri": "https://localhost:8080/"
        },
        "id": "vK1t8XnbjMIt",
        "outputId": "ec33a713-083b-4773-c4d5-000a5099f975"
      },
      "source": [
        "x = 0 \n",
        "while x < 7 :\n",
        "    x = x  +1\n",
        "    if x == 4 :\n",
        "        break\n",
        "    print(x)"
      ],
      "execution_count": 10,
      "outputs": [
        {
          "output_type": "stream",
          "text": [
            "1\n",
            "2\n",
            "3\n"
          ],
          "name": "stdout"
        }
      ]
    },
    {
      "cell_type": "code",
      "metadata": {
        "colab": {
          "base_uri": "https://localhost:8080/"
        },
        "id": "xvdCgV6VjMIu",
        "outputId": "4e7ea380-760f-4525-8d54-4d72c2b279ee"
      },
      "source": [
        "for i in range(7):\n",
        "    if i == 4 : \n",
        "        continue\n",
        "    print(i)\n",
        "else :\n",
        "    print(\"check \")"
      ],
      "execution_count": 11,
      "outputs": [
        {
          "output_type": "stream",
          "text": [
            "0\n",
            "1\n",
            "2\n",
            "3\n",
            "5\n",
            "6\n",
            "check \n"
          ],
          "name": "stdout"
        }
      ]
    },
    {
      "cell_type": "code",
      "metadata": {
        "id": "umatEAxKjMIu"
      },
      "source": [
        "for i in range(7):\n",
        "    pass"
      ],
      "execution_count": 12,
      "outputs": []
    },
    {
      "cell_type": "code",
      "metadata": {
        "colab": {
          "base_uri": "https://localhost:8080/"
        },
        "id": "oG4Eh9AjjMIu",
        "outputId": "f38dc7d1-1ded-44f7-c1ec-e07ab75929b2"
      },
      "source": [
        "i = 1\n",
        "note = 5\n",
        "while i <= note:\n",
        "    print(i)\n",
        "    i +=1\n",
        "print(\"val of i \" , i ) "
      ],
      "execution_count": 13,
      "outputs": [
        {
          "output_type": "stream",
          "text": [
            "1\n",
            "2\n",
            "3\n",
            "4\n",
            "5\n",
            "val of i  6\n"
          ],
          "name": "stdout"
        }
      ]
    },
    {
      "cell_type": "code",
      "metadata": {
        "id": "1cYGdz9bjMIv"
      },
      "source": [
        "s = \"sudhhhsdfsfhh\""
      ],
      "execution_count": 14,
      "outputs": []
    },
    {
      "cell_type": "code",
      "metadata": {
        "colab": {
          "base_uri": "https://localhost:8080/"
        },
        "id": "6FP44G9BjMIv",
        "outputId": "8adac739-26f2-4841-d2d6-0adc2fc9e75c"
      },
      "source": [
        "len(s)"
      ],
      "execution_count": 15,
      "outputs": [
        {
          "output_type": "execute_result",
          "data": {
            "text/plain": [
              "13"
            ]
          },
          "metadata": {
            "tags": []
          },
          "execution_count": 15
        }
      ]
    },
    {
      "cell_type": "code",
      "metadata": {
        "colab": {
          "base_uri": "https://localhost:8080/"
        },
        "id": "uVNdJcyljMIw",
        "outputId": "ccbefb4f-b725-4662-e79d-1a1341f56ac2"
      },
      "source": [
        "s.find('h')"
      ],
      "execution_count": 16,
      "outputs": [
        {
          "output_type": "execute_result",
          "data": {
            "text/plain": [
              "3"
            ]
          },
          "metadata": {
            "tags": []
          },
          "execution_count": 16
        }
      ]
    },
    {
      "cell_type": "code",
      "metadata": {
        "colab": {
          "base_uri": "https://localhost:8080/"
        },
        "id": "DIqHEK7ljMIw",
        "outputId": "37a27b8a-b2fb-4c88-a3a7-df40ae9e2064"
      },
      "source": [
        "s.find('s')"
      ],
      "execution_count": 17,
      "outputs": [
        {
          "output_type": "execute_result",
          "data": {
            "text/plain": [
              "0"
            ]
          },
          "metadata": {
            "tags": []
          },
          "execution_count": 17
        }
      ]
    },
    {
      "cell_type": "code",
      "metadata": {
        "colab": {
          "base_uri": "https://localhost:8080/"
        },
        "id": "hmK8dfaTjMIx",
        "outputId": "ee0b3cc7-e618-4110-ea3c-5788aa5ebd99"
      },
      "source": [
        "s.count('su')"
      ],
      "execution_count": 18,
      "outputs": [
        {
          "output_type": "execute_result",
          "data": {
            "text/plain": [
              "1"
            ]
          },
          "metadata": {
            "tags": []
          },
          "execution_count": 18
        }
      ]
    },
    {
      "cell_type": "code",
      "metadata": {
        "colab": {
          "base_uri": "https://localhost:8080/"
        },
        "id": "804mM8I-jMIy",
        "outputId": "c88b7818-439e-4e56-8c09-066e207865a7"
      },
      "source": [
        "s.count('S')"
      ],
      "execution_count": 19,
      "outputs": [
        {
          "output_type": "execute_result",
          "data": {
            "text/plain": [
              "0"
            ]
          },
          "metadata": {
            "tags": []
          },
          "execution_count": 19
        }
      ]
    },
    {
      "cell_type": "code",
      "metadata": {
        "colab": {
          "base_uri": "https://localhost:8080/"
        },
        "id": "IN5aUZjpjMIy",
        "outputId": "e7a906f9-fabd-43ce-ca1c-05c83993a393"
      },
      "source": [
        "s.find('sdfz')"
      ],
      "execution_count": 20,
      "outputs": [
        {
          "output_type": "execute_result",
          "data": {
            "text/plain": [
              "-1"
            ]
          },
          "metadata": {
            "tags": []
          },
          "execution_count": 20
        }
      ]
    },
    {
      "cell_type": "code",
      "metadata": {
        "colab": {
          "base_uri": "https://localhost:8080/",
          "height": 35
        },
        "id": "ysq55HC_jMIy",
        "outputId": "a4fc0903-d8ec-4048-afa9-c85641ad4794"
      },
      "source": [
        "s"
      ],
      "execution_count": 21,
      "outputs": [
        {
          "output_type": "execute_result",
          "data": {
            "application/vnd.google.colaboratory.intrinsic+json": {
              "type": "string"
            },
            "text/plain": [
              "'sudhhhsdfsfhh'"
            ]
          },
          "metadata": {
            "tags": []
          },
          "execution_count": 21
        }
      ]
    },
    {
      "cell_type": "code",
      "metadata": {
        "colab": {
          "base_uri": "https://localhost:8080/"
        },
        "id": "maa0o2bCjMIz",
        "outputId": "bc9a86d5-2344-4f4f-f6bb-cc890b5dede2"
      },
      "source": [
        "s.split('h')"
      ],
      "execution_count": 22,
      "outputs": [
        {
          "output_type": "execute_result",
          "data": {
            "text/plain": [
              "['sud', '', '', 'sdfsf', '', '']"
            ]
          },
          "metadata": {
            "tags": []
          },
          "execution_count": 22
        }
      ]
    },
    {
      "cell_type": "code",
      "metadata": {
        "id": "01atjLJkjMIz"
      },
      "source": [
        "s = \"fds,fsdf,f,f,fsd,sdf,sdf,sdf,s,fs\""
      ],
      "execution_count": 23,
      "outputs": []
    },
    {
      "cell_type": "code",
      "metadata": {
        "colab": {
          "base_uri": "https://localhost:8080/"
        },
        "id": "c2qkumpOjMIz",
        "outputId": "263f111c-f3fb-4456-966f-39097ec3fa62"
      },
      "source": [
        "for i in s.split(','):\n",
        "    print(i)"
      ],
      "execution_count": 24,
      "outputs": [
        {
          "output_type": "stream",
          "text": [
            "fds\n",
            "fsdf\n",
            "f\n",
            "f\n",
            "fsd\n",
            "sdf\n",
            "sdf\n",
            "sdf\n",
            "s\n",
            "fs\n"
          ],
          "name": "stdout"
        }
      ]
    },
    {
      "cell_type": "code",
      "metadata": {
        "id": "KJI_l5S6jMI0"
      },
      "source": [
        "s = \"\"\"Google LLC is an American multinational technology company that specializes in Internet-related services and products, which include online advertising technologies, a search engine, cloud computing, software, and hardware. It is considered one of the five Big Tech companies along with Amazon, Facebook, Apple, and Microsoft.[9][10][11]\n",
        "\n",
        "Google was founded in September 1998 by Larry Page and Sergey Brin while they were Ph.D. students at Stanford University in California. Together they own about 14% of its shares and control 56% of the stockholder voting power through super-voting stock. Google was incorporated in California on September 4, 1998. Google was then reincorporated in Delaware on October 22, 2002.[12] In July 2003, Google moved to its headquarters in Mountain View, California, nicknamed the Googleplex. The company became a public company via an initial public offering (IPO) on August 19, 2004. In October 2015, Google reorganized as a subsidiary of a conglomerate called Alphabet Inc. Google is Alphabet's largest subsidiary and is a holding company for Alphabet's Internet interests. Sundar Pichai was appointed CEO of Google, replacing Larry Page, who became the CEO of Alphabet. In 2021, the Alphabet Workers Union was founded, mainly composed of Google employees.[13]\n",
        "\n",
        "The company's rapid growth since incorporation has included products, acquisitions, and partnerships beyond Google's core search engine, (Google Search). It offers services designed for work and productivity (Google Docs, Google Sheets, and Google Slides), email (Gmail), scheduling and time management (Google Calendar), cloud storage (Google Drive), instant messaging and video chat (Google Duo, Hangouts, Google Chat, and Google Meet), language translation (Google Translate), mapping and navigation (Google Maps, Waze, Google Earth, and Street View), podcast hosting (Google Podcasts), video sharing (YouTube), blog publishing (Blogger), note-taking (Google Keep and Jamboard), and photo organizing and editing (Google Photos). The company leads the development of the Android mobile operating system, the Google Chrome web browser, and Chrome OS, a lightweight operating system based on the Chrome browser. Google has moved increasingly into hardware; from 2010 to 2015, it partnered with major electronics manufacturers in the production of its Google Nexus devices, and it released multiple hardware products in October 2016, including the Google Pixel line of smartphones, Google Home smart speaker, Google Wifi mesh wireless router, and Google Daydream virtual reality headset. Google has also experimented with becoming an Internet carrier (Google Fiber, Google Fi, and Google Station).[14]\n",
        "\n",
        "Google.com is the most visited website worldwide. Several other Google-owned websites also are on the list of most popular websites, including YouTube and Blogger.[15]\n",
        "\n",
        "On the list of most valuable brands, Google is ranked second by Forbes[16] and fourth by Interbrand.[17] It has received significant criticism involving issues such as privacy concerns, tax avoidance, antitrust, censorship, and search neutrality.\"\"\""
      ],
      "execution_count": 25,
      "outputs": []
    },
    {
      "cell_type": "code",
      "metadata": {
        "colab": {
          "base_uri": "https://localhost:8080/",
          "height": 322
        },
        "id": "s32GPDotjMI0",
        "outputId": "a090bd33-a881-4804-aa8d-2f36a0318c63"
      },
      "source": [
        "s"
      ],
      "execution_count": 26,
      "outputs": [
        {
          "output_type": "execute_result",
          "data": {
            "application/vnd.google.colaboratory.intrinsic+json": {
              "type": "string"
            },
            "text/plain": [
              "\"Google LLC is an American multinational technology company that specializes in Internet-related services and products, which include online advertising technologies, a search engine, cloud computing, software, and hardware. It is considered one of the five Big Tech companies along with Amazon, Facebook, Apple, and Microsoft.[9][10][11]\\n\\nGoogle was founded in September 1998 by Larry Page and Sergey Brin while they were Ph.D. students at Stanford University in California. Together they own about 14% of its shares and control 56% of the stockholder voting power through super-voting stock. Google was incorporated in California on September 4, 1998. Google was then reincorporated in Delaware on October 22, 2002.[12] In July 2003, Google moved to its headquarters in Mountain View, California, nicknamed the Googleplex. The company became a public company via an initial public offering (IPO) on August 19, 2004. In October 2015, Google reorganized as a subsidiary of a conglomerate called Alphabet Inc. Google is Alphabet's largest subsidiary and is a holding company for Alphabet's Internet interests. Sundar Pichai was appointed CEO of Google, replacing Larry Page, who became the CEO of Alphabet. In 2021, the Alphabet Workers Union was founded, mainly composed of Google employees.[13]\\n\\nThe company's rapid growth since incorporation has included products, acquisitions, and partnerships beyond Google's core search engine, (Google Search). It offers services designed for work and productivity (Google Docs, Google Sheets, and Google Slides), email (Gmail), scheduling and time management (Google Calendar), cloud storage (Google Drive), instant messaging and video chat (Google Duo, Hangouts, Google Chat, and Google Meet), language translation (Google Translate), mapping and navigation (Google Maps, Waze, Google Earth, and Street View), podcast hosting (Google Podcasts), video sharing (YouTube), blog publishing (Blogger), note-taking (Google Keep and Jamboard), and photo organizing and editing (Google Photos). The company leads the development of the Android mobile operating system, the Google Chrome web browser, and Chrome OS, a lightweight operating system based on the Chrome browser. Google has moved increasingly into hardware; from 2010 to 2015, it partnered with major electronics manufacturers in the production of its Google Nexus devices, and it released multiple hardware products in October 2016, including the Google Pixel line of smartphones, Google Home smart speaker, Google Wifi mesh wireless router, and Google Daydream virtual reality headset. Google has also experimented with becoming an Internet carrier (Google Fiber, Google Fi, and Google Station).[14]\\n\\nGoogle.com is the most visited website worldwide. Several other Google-owned websites also are on the list of most popular websites, including YouTube and Blogger.[15]\\n\\nOn the list of most valuable brands, Google is ranked second by Forbes[16] and fourth by Interbrand.[17] It has received significant criticism involving issues such as privacy concerns, tax avoidance, antitrust, censorship, and search neutrality.\""
            ]
          },
          "metadata": {
            "tags": []
          },
          "execution_count": 26
        }
      ]
    },
    {
      "cell_type": "code",
      "metadata": {
        "colab": {
          "base_uri": "https://localhost:8080/"
        },
        "id": "rrHY3HtZjMI1",
        "outputId": "5932643a-72e5-43ce-eef6-6bf12142a41c"
      },
      "source": [
        "for i in s.split('.'):\n",
        "    print(i)"
      ],
      "execution_count": 27,
      "outputs": [
        {
          "output_type": "stream",
          "text": [
            "Google LLC is an American multinational technology company that specializes in Internet-related services and products, which include online advertising technologies, a search engine, cloud computing, software, and hardware\n",
            " It is considered one of the five Big Tech companies along with Amazon, Facebook, Apple, and Microsoft\n",
            "[9][10][11]\n",
            "\n",
            "Google was founded in September 1998 by Larry Page and Sergey Brin while they were Ph\n",
            "D\n",
            " students at Stanford University in California\n",
            " Together they own about 14% of its shares and control 56% of the stockholder voting power through super-voting stock\n",
            " Google was incorporated in California on September 4, 1998\n",
            " Google was then reincorporated in Delaware on October 22, 2002\n",
            "[12] In July 2003, Google moved to its headquarters in Mountain View, California, nicknamed the Googleplex\n",
            " The company became a public company via an initial public offering (IPO) on August 19, 2004\n",
            " In October 2015, Google reorganized as a subsidiary of a conglomerate called Alphabet Inc\n",
            " Google is Alphabet's largest subsidiary and is a holding company for Alphabet's Internet interests\n",
            " Sundar Pichai was appointed CEO of Google, replacing Larry Page, who became the CEO of Alphabet\n",
            " In 2021, the Alphabet Workers Union was founded, mainly composed of Google employees\n",
            "[13]\n",
            "\n",
            "The company's rapid growth since incorporation has included products, acquisitions, and partnerships beyond Google's core search engine, (Google Search)\n",
            " It offers services designed for work and productivity (Google Docs, Google Sheets, and Google Slides), email (Gmail), scheduling and time management (Google Calendar), cloud storage (Google Drive), instant messaging and video chat (Google Duo, Hangouts, Google Chat, and Google Meet), language translation (Google Translate), mapping and navigation (Google Maps, Waze, Google Earth, and Street View), podcast hosting (Google Podcasts), video sharing (YouTube), blog publishing (Blogger), note-taking (Google Keep and Jamboard), and photo organizing and editing (Google Photos)\n",
            " The company leads the development of the Android mobile operating system, the Google Chrome web browser, and Chrome OS, a lightweight operating system based on the Chrome browser\n",
            " Google has moved increasingly into hardware; from 2010 to 2015, it partnered with major electronics manufacturers in the production of its Google Nexus devices, and it released multiple hardware products in October 2016, including the Google Pixel line of smartphones, Google Home smart speaker, Google Wifi mesh wireless router, and Google Daydream virtual reality headset\n",
            " Google has also experimented with becoming an Internet carrier (Google Fiber, Google Fi, and Google Station)\n",
            "[14]\n",
            "\n",
            "Google\n",
            "com is the most visited website worldwide\n",
            " Several other Google-owned websites also are on the list of most popular websites, including YouTube and Blogger\n",
            "[15]\n",
            "\n",
            "On the list of most valuable brands, Google is ranked second by Forbes[16] and fourth by Interbrand\n",
            "[17] It has received significant criticism involving issues such as privacy concerns, tax avoidance, antitrust, censorship, and search neutrality\n",
            "\n"
          ],
          "name": "stdout"
        }
      ]
    },
    {
      "cell_type": "code",
      "metadata": {
        "id": "5tBHc_BJjMI1"
      },
      "source": [
        "s= s.split('.')"
      ],
      "execution_count": 28,
      "outputs": []
    },
    {
      "cell_type": "code",
      "metadata": {
        "id": "I91Rl1sTjMI2"
      },
      "source": [
        "s1 = s[-2]"
      ],
      "execution_count": 29,
      "outputs": []
    },
    {
      "cell_type": "code",
      "metadata": {
        "colab": {
          "base_uri": "https://localhost:8080/",
          "height": 35
        },
        "id": "vTxyfwvwjMI2",
        "outputId": "652ffbb0-2b32-447d-c821-1542b99f6470"
      },
      "source": [
        "s1"
      ],
      "execution_count": 30,
      "outputs": [
        {
          "output_type": "execute_result",
          "data": {
            "application/vnd.google.colaboratory.intrinsic+json": {
              "type": "string"
            },
            "text/plain": [
              "'[17] It has received significant criticism involving issues such as privacy concerns, tax avoidance, antitrust, censorship, and search neutrality'"
            ]
          },
          "metadata": {
            "tags": []
          },
          "execution_count": 30
        }
      ]
    },
    {
      "cell_type": "code",
      "metadata": {
        "colab": {
          "base_uri": "https://localhost:8080/",
          "height": 35
        },
        "id": "zHsWMoV7jMI2",
        "outputId": "d95b17a1-065f-449d-8791-6d26276e5aa5"
      },
      "source": [
        "s1.lower()"
      ],
      "execution_count": 31,
      "outputs": [
        {
          "output_type": "execute_result",
          "data": {
            "application/vnd.google.colaboratory.intrinsic+json": {
              "type": "string"
            },
            "text/plain": [
              "'[17] it has received significant criticism involving issues such as privacy concerns, tax avoidance, antitrust, censorship, and search neutrality'"
            ]
          },
          "metadata": {
            "tags": []
          },
          "execution_count": 31
        }
      ]
    },
    {
      "cell_type": "code",
      "metadata": {
        "colab": {
          "base_uri": "https://localhost:8080/",
          "height": 35
        },
        "id": "-uc4ZHsrjMI3",
        "outputId": "4ec82250-5dbd-453a-9a10-9d915fcaf852"
      },
      "source": [
        "s1.upper()"
      ],
      "execution_count": 32,
      "outputs": [
        {
          "output_type": "execute_result",
          "data": {
            "application/vnd.google.colaboratory.intrinsic+json": {
              "type": "string"
            },
            "text/plain": [
              "'[17] IT HAS RECEIVED SIGNIFICANT CRITICISM INVOLVING ISSUES SUCH AS PRIVACY CONCERNS, TAX AVOIDANCE, ANTITRUST, CENSORSHIP, AND SEARCH NEUTRALITY'"
            ]
          },
          "metadata": {
            "tags": []
          },
          "execution_count": 32
        }
      ]
    },
    {
      "cell_type": "code",
      "metadata": {
        "colab": {
          "base_uri": "https://localhost:8080/",
          "height": 35
        },
        "id": "kveC9BhijMI3",
        "outputId": "e3d5a81b-cc75-4127-dd80-751ee1f2c583"
      },
      "source": [
        "s1.title()"
      ],
      "execution_count": 33,
      "outputs": [
        {
          "output_type": "execute_result",
          "data": {
            "application/vnd.google.colaboratory.intrinsic+json": {
              "type": "string"
            },
            "text/plain": [
              "'[17] It Has Received Significant Criticism Involving Issues Such As Privacy Concerns, Tax Avoidance, Antitrust, Censorship, And Search Neutrality'"
            ]
          },
          "metadata": {
            "tags": []
          },
          "execution_count": 33
        }
      ]
    },
    {
      "cell_type": "code",
      "metadata": {
        "colab": {
          "base_uri": "https://localhost:8080/",
          "height": 35
        },
        "id": "RINQuXKPjMI3",
        "outputId": "ac3365d9-119d-491f-8835-41fe906054d9"
      },
      "source": [
        "s1.capitalize()"
      ],
      "execution_count": 34,
      "outputs": [
        {
          "output_type": "execute_result",
          "data": {
            "application/vnd.google.colaboratory.intrinsic+json": {
              "type": "string"
            },
            "text/plain": [
              "'[17] it has received significant criticism involving issues such as privacy concerns, tax avoidance, antitrust, censorship, and search neutrality'"
            ]
          },
          "metadata": {
            "tags": []
          },
          "execution_count": 34
        }
      ]
    },
    {
      "cell_type": "code",
      "metadata": {
        "id": "A76rloORjMI7"
      },
      "source": [
        "s = \"sudh\""
      ],
      "execution_count": 35,
      "outputs": []
    },
    {
      "cell_type": "code",
      "metadata": {
        "colab": {
          "base_uri": "https://localhost:8080/",
          "height": 35
        },
        "id": "xnpI3SYvjMI7",
        "outputId": "540281a6-851c-4f78-a0b2-2b476c18eed3"
      },
      "source": [
        "s.center(30,'#')"
      ],
      "execution_count": 36,
      "outputs": [
        {
          "output_type": "execute_result",
          "data": {
            "application/vnd.google.colaboratory.intrinsic+json": {
              "type": "string"
            },
            "text/plain": [
              "'#############sudh#############'"
            ]
          },
          "metadata": {
            "tags": []
          },
          "execution_count": 36
        }
      ]
    },
    {
      "cell_type": "code",
      "metadata": {
        "id": "OSp-vXPXjMI7"
      },
      "source": [
        "s = \"    ineu    ron    \""
      ],
      "execution_count": 37,
      "outputs": []
    },
    {
      "cell_type": "code",
      "metadata": {
        "colab": {
          "base_uri": "https://localhost:8080/",
          "height": 35
        },
        "id": "eh1aBtIbjMI7",
        "outputId": "2a4c94e0-f913-45b0-b898-66b6e90cc0c6"
      },
      "source": [
        "s"
      ],
      "execution_count": 38,
      "outputs": [
        {
          "output_type": "execute_result",
          "data": {
            "application/vnd.google.colaboratory.intrinsic+json": {
              "type": "string"
            },
            "text/plain": [
              "'    ineu    ron    '"
            ]
          },
          "metadata": {
            "tags": []
          },
          "execution_count": 38
        }
      ]
    },
    {
      "cell_type": "code",
      "metadata": {
        "colab": {
          "base_uri": "https://localhost:8080/",
          "height": 35
        },
        "id": "777mVLL5jMI8",
        "outputId": "0f8b4876-fa3d-4c1e-84ee-74872fab1609"
      },
      "source": [
        "s.rstrip()"
      ],
      "execution_count": 39,
      "outputs": [
        {
          "output_type": "execute_result",
          "data": {
            "application/vnd.google.colaboratory.intrinsic+json": {
              "type": "string"
            },
            "text/plain": [
              "'    ineu    ron'"
            ]
          },
          "metadata": {
            "tags": []
          },
          "execution_count": 39
        }
      ]
    },
    {
      "cell_type": "code",
      "metadata": {
        "colab": {
          "base_uri": "https://localhost:8080/",
          "height": 35
        },
        "id": "3akHSRBBjMI8",
        "outputId": "29043632-ec10-46cc-8368-af7d4b2e8b74"
      },
      "source": [
        "s.lstrip()"
      ],
      "execution_count": 40,
      "outputs": [
        {
          "output_type": "execute_result",
          "data": {
            "application/vnd.google.colaboratory.intrinsic+json": {
              "type": "string"
            },
            "text/plain": [
              "'ineu    ron    '"
            ]
          },
          "metadata": {
            "tags": []
          },
          "execution_count": 40
        }
      ]
    },
    {
      "cell_type": "code",
      "metadata": {
        "colab": {
          "base_uri": "https://localhost:8080/",
          "height": 35
        },
        "id": "uUJflmD2jMI8",
        "outputId": "92ba7a39-298a-4be8-c860-8e7d88c21aba"
      },
      "source": [
        "s.strip()"
      ],
      "execution_count": 41,
      "outputs": [
        {
          "output_type": "execute_result",
          "data": {
            "application/vnd.google.colaboratory.intrinsic+json": {
              "type": "string"
            },
            "text/plain": [
              "'ineu    ron'"
            ]
          },
          "metadata": {
            "tags": []
          },
          "execution_count": 41
        }
      ]
    },
    {
      "cell_type": "code",
      "metadata": {
        "id": "N1Tvr8kzjMI8"
      },
      "source": [
        "s = \"sudh\""
      ],
      "execution_count": 75,
      "outputs": []
    },
    {
      "cell_type": "code",
      "metadata": {
        "colab": {
          "base_uri": "https://localhost:8080/",
          "height": 35
        },
        "id": "TBWN4ztEjMI9",
        "outputId": "81275e65-faf3-4686-96ac-e9309fb8e58c"
      },
      "source": [
        "s.join('zrb')"
      ],
      "execution_count": 76,
      "outputs": [
        {
          "output_type": "execute_result",
          "data": {
            "application/vnd.google.colaboratory.intrinsic+json": {
              "type": "string"
            },
            "text/plain": [
              "'zsudhrsudhb'"
            ]
          },
          "metadata": {
            "tags": []
          },
          "execution_count": 76
        }
      ]
    },
    {
      "cell_type": "code",
      "metadata": {
        "colab": {
          "base_uri": "https://localhost:8080/"
        },
        "id": "24wUUzmWjMI9",
        "outputId": "3f5c02a9-5fdd-48e0-cf37-ec0b7b254617"
      },
      "source": [
        "s = \"sudh\"\n",
        "for i in \"zrb\":\n",
        "    s= i+s\n",
        "    print(s)"
      ],
      "execution_count": 44,
      "outputs": [
        {
          "output_type": "stream",
          "text": [
            "zsudh\n",
            "rzsudh\n",
            "brzsudh\n"
          ],
          "name": "stdout"
        }
      ]
    },
    {
      "cell_type": "code",
      "metadata": {
        "colab": {
          "base_uri": "https://localhost:8080/",
          "height": 35
        },
        "id": "mhPoBuNvjMI-",
        "outputId": "2535ef73-688c-44c6-8e83-c4c71b61089c"
      },
      "source": [
        "t=('sunny','bunny','chinny') \n",
        "s='-'.join(t)\n",
        "s"
      ],
      "execution_count": 45,
      "outputs": [
        {
          "output_type": "execute_result",
          "data": {
            "application/vnd.google.colaboratory.intrinsic+json": {
              "type": "string"
            },
            "text/plain": [
              "'sunny-bunny-chinny'"
            ]
          },
          "metadata": {
            "tags": []
          },
          "execution_count": 45
        }
      ]
    },
    {
      "cell_type": "code",
      "metadata": {
        "id": "eK0UpdsXjMI_"
      },
      "source": [
        ""
      ],
      "execution_count": 45,
      "outputs": []
    },
    {
      "cell_type": "code",
      "metadata": {
        "id": "LFr_KfyYjMI_"
      },
      "source": [
        ""
      ],
      "execution_count": 45,
      "outputs": []
    },
    {
      "cell_type": "code",
      "metadata": {
        "colab": {
          "base_uri": "https://localhost:8080/"
        },
        "id": "Na34YbImjMJA",
        "outputId": "078ec673-34ac-4a30-d7ef-33e2853f27a0"
      },
      "source": [
        "a"
      ],
      "execution_count": 77,
      "outputs": [
        {
          "output_type": "execute_result",
          "data": {
            "text/plain": [
              "8"
            ]
          },
          "metadata": {
            "tags": []
          },
          "execution_count": 77
        }
      ]
    },
    {
      "cell_type": "code",
      "metadata": {
        "colab": {
          "base_uri": "https://localhost:8080/"
        },
        "id": "hZlmkW-HjMJA",
        "outputId": "f62c5018-e278-4d15-be72-825dddb72c14"
      },
      "source": [
        "a <= 7 "
      ],
      "execution_count": 46,
      "outputs": [
        {
          "output_type": "execute_result",
          "data": {
            "text/plain": [
              "False"
            ]
          },
          "metadata": {
            "tags": []
          },
          "execution_count": 46
        }
      ]
    },
    {
      "cell_type": "code",
      "metadata": {
        "colab": {
          "base_uri": "https://localhost:8080/"
        },
        "id": "dJ-Ep538jMJB",
        "outputId": "886c48a6-826d-4d5a-cb58-2a5e63fb4b7a"
      },
      "source": [
        "for i in range(0,6):\n",
        "    for j in range(0,6-i):\n",
        "        print(\" \", end = \"\")\n",
        "    for k in range(j,6):\n",
        "        print(\"* \", end = \"\")\n",
        "    \n",
        "    print(\"\\n\")\n"
      ],
      "execution_count": 82,
      "outputs": [
        {
          "output_type": "stream",
          "text": [
            "      * \n",
            "\n",
            "     * * \n",
            "\n",
            "    * * * \n",
            "\n",
            "   * * * * \n",
            "\n",
            "  * * * * * \n",
            "\n",
            " * * * * * * \n",
            "\n"
          ],
          "name": "stdout"
        }
      ]
    },
    {
      "cell_type": "code",
      "metadata": {
        "colab": {
          "base_uri": "https://localhost:8080/",
          "height": 35
        },
        "id": "pIlmhmVwjMJB",
        "outputId": "10fd9020-7d0f-412b-ff92-7d56c0a2e730"
      },
      "source": [
        "s = \"ineurion i \"\n",
        "s.replace('i', 'sudh')"
      ],
      "execution_count": 48,
      "outputs": [
        {
          "output_type": "execute_result",
          "data": {
            "application/vnd.google.colaboratory.intrinsic+json": {
              "type": "string"
            },
            "text/plain": [
              "'sudhneursudhon sudh '"
            ]
          },
          "metadata": {
            "tags": []
          },
          "execution_count": 48
        }
      ]
    },
    {
      "cell_type": "code",
      "metadata": {
        "id": "wsyqjEBsjMJC"
      },
      "source": [
        "s = 'sudh\\tineuron'"
      ],
      "execution_count": 49,
      "outputs": []
    },
    {
      "cell_type": "code",
      "metadata": {
        "colab": {
          "base_uri": "https://localhost:8080/",
          "height": 35
        },
        "id": "ff_jXV-pjMJC",
        "outputId": "7c59b091-5c69-487e-c014-27ca26e319ee"
      },
      "source": [
        "s.expandtabs()"
      ],
      "execution_count": 50,
      "outputs": [
        {
          "output_type": "execute_result",
          "data": {
            "application/vnd.google.colaboratory.intrinsic+json": {
              "type": "string"
            },
            "text/plain": [
              "'sudh    ineuron'"
            ]
          },
          "metadata": {
            "tags": []
          },
          "execution_count": 50
        }
      ]
    },
    {
      "cell_type": "code",
      "metadata": {
        "id": "m5DJUaILty8b",
        "outputId": "c8105d28-3791-47e9-ea3e-0e3feb516a79",
        "colab": {
          "base_uri": "https://localhost:8080/"
        }
      },
      "source": [
        "s.isalpha()"
      ],
      "execution_count": 83,
      "outputs": [
        {
          "output_type": "execute_result",
          "data": {
            "text/plain": [
              "True"
            ]
          },
          "metadata": {
            "tags": []
          },
          "execution_count": 83
        }
      ]
    },
    {
      "cell_type": "code",
      "metadata": {
        "id": "BOhgG2E9jMJC"
      },
      "source": [
        "s = \"Sudhsd546756\""
      ],
      "execution_count": 51,
      "outputs": []
    },
    {
      "cell_type": "code",
      "metadata": {
        "colab": {
          "base_uri": "https://localhost:8080/"
        },
        "id": "_wDAHDapjMJC",
        "outputId": "df81b117-2a8a-4e7d-cc25-bb6d5be3446d"
      },
      "source": [
        "s.isalpha()"
      ],
      "execution_count": 52,
      "outputs": [
        {
          "output_type": "execute_result",
          "data": {
            "text/plain": [
              "False"
            ]
          },
          "metadata": {
            "tags": []
          },
          "execution_count": 52
        }
      ]
    },
    {
      "cell_type": "code",
      "metadata": {
        "colab": {
          "base_uri": "https://localhost:8080/"
        },
        "id": "cIIbOQTXjMJD",
        "outputId": "b1f18c7a-d9f5-447b-8d18-09f542c5688c"
      },
      "source": [
        "s.isalnum()"
      ],
      "execution_count": 53,
      "outputs": [
        {
          "output_type": "execute_result",
          "data": {
            "text/plain": [
              "True"
            ]
          },
          "metadata": {
            "tags": []
          },
          "execution_count": 53
        }
      ]
    },
    {
      "cell_type": "code",
      "metadata": {
        "colab": {
          "base_uri": "https://localhost:8080/"
        },
        "id": "dtqvhfQTjMJD",
        "outputId": "a6a318b4-0942-4cb0-f817-a80a0258b240"
      },
      "source": [
        "s.isdigit()"
      ],
      "execution_count": 54,
      "outputs": [
        {
          "output_type": "execute_result",
          "data": {
            "text/plain": [
              "False"
            ]
          },
          "metadata": {
            "tags": []
          },
          "execution_count": 54
        }
      ]
    },
    {
      "cell_type": "code",
      "metadata": {
        "colab": {
          "base_uri": "https://localhost:8080/"
        },
        "id": "MceAdsTXjMJD",
        "outputId": "d519ed0a-5886-439d-eba7-6723545659e2"
      },
      "source": [
        "s.istitle()"
      ],
      "execution_count": 55,
      "outputs": [
        {
          "output_type": "execute_result",
          "data": {
            "text/plain": [
              "True"
            ]
          },
          "metadata": {
            "tags": []
          },
          "execution_count": 55
        }
      ]
    },
    {
      "cell_type": "code",
      "metadata": {
        "id": "-fgoC4k_t4hV",
        "outputId": "05d4c51f-0cc3-4b92-a4ba-938d67f89a75",
        "colab": {
          "base_uri": "https://localhost:8080/"
        }
      },
      "source": [
        "m = 'Dfgh'\n",
        "m.istitle()"
      ],
      "execution_count": 86,
      "outputs": [
        {
          "output_type": "execute_result",
          "data": {
            "text/plain": [
              "True"
            ]
          },
          "metadata": {
            "tags": []
          },
          "execution_count": 86
        }
      ]
    },
    {
      "cell_type": "code",
      "metadata": {
        "id": "_aN9uLoNjMJD"
      },
      "source": [
        "l = [1,2,3,43,4,5,6,6,6,67,\"sudh\" , \"kumar\"]"
      ],
      "execution_count": 56,
      "outputs": []
    },
    {
      "cell_type": "code",
      "metadata": {
        "colab": {
          "base_uri": "https://localhost:8080/"
        },
        "id": "4Zd9_3CqjMJE",
        "outputId": "94c5f123-278a-4d85-c8fd-886dbb37c76c"
      },
      "source": [
        "l"
      ],
      "execution_count": 57,
      "outputs": [
        {
          "output_type": "execute_result",
          "data": {
            "text/plain": [
              "[1, 2, 3, 43, 4, 5, 6, 6, 6, 67, 'sudh', 'kumar']"
            ]
          },
          "metadata": {
            "tags": []
          },
          "execution_count": 57
        }
      ]
    },
    {
      "cell_type": "code",
      "metadata": {
        "id": "7iphKuo9jMJE"
      },
      "source": [
        "l.append([2,3,4,5,6])"
      ],
      "execution_count": 58,
      "outputs": []
    },
    {
      "cell_type": "code",
      "metadata": {
        "colab": {
          "base_uri": "https://localhost:8080/"
        },
        "id": "Am7ZMGVAjMJE",
        "outputId": "030892ec-e792-4362-ed48-9b4565470818"
      },
      "source": [
        "l"
      ],
      "execution_count": 59,
      "outputs": [
        {
          "output_type": "execute_result",
          "data": {
            "text/plain": [
              "[1, 2, 3, 43, 4, 5, 6, 6, 6, 67, 'sudh', 'kumar', [2, 3, 4, 5, 6]]"
            ]
          },
          "metadata": {
            "tags": []
          },
          "execution_count": 59
        }
      ]
    },
    {
      "cell_type": "code",
      "metadata": {
        "colab": {
          "base_uri": "https://localhost:8080/"
        },
        "id": "hvcPrg3njMJE",
        "outputId": "a543ce13-c9c5-42c8-8885-8bd9ad9cda57"
      },
      "source": [
        "l + [1,2,3,4,5,6,6]"
      ],
      "execution_count": 60,
      "outputs": [
        {
          "output_type": "execute_result",
          "data": {
            "text/plain": [
              "[1,\n",
              " 2,\n",
              " 3,\n",
              " 43,\n",
              " 4,\n",
              " 5,\n",
              " 6,\n",
              " 6,\n",
              " 6,\n",
              " 67,\n",
              " 'sudh',\n",
              " 'kumar',\n",
              " [2, 3, 4, 5, 6],\n",
              " 1,\n",
              " 2,\n",
              " 3,\n",
              " 4,\n",
              " 5,\n",
              " 6,\n",
              " 6]"
            ]
          },
          "metadata": {
            "tags": []
          },
          "execution_count": 60
        }
      ]
    },
    {
      "cell_type": "code",
      "metadata": {
        "colab": {
          "base_uri": "https://localhost:8080/"
        },
        "id": "i4N-er5sjMJF",
        "outputId": "323686ae-9340-40d4-d56b-fee1aff3ef41"
      },
      "source": [
        "l"
      ],
      "execution_count": 61,
      "outputs": [
        {
          "output_type": "execute_result",
          "data": {
            "text/plain": [
              "[1, 2, 3, 43, 4, 5, 6, 6, 6, 67, 'sudh', 'kumar', [2, 3, 4, 5, 6]]"
            ]
          },
          "metadata": {
            "tags": []
          },
          "execution_count": 61
        }
      ]
    },
    {
      "cell_type": "code",
      "metadata": {
        "colab": {
          "base_uri": "https://localhost:8080/"
        },
        "id": "v2lKuZzdjMJF",
        "outputId": "31b31702-9371-4961-c215-7bf738dc8a28"
      },
      "source": [
        "l.pop()"
      ],
      "execution_count": 62,
      "outputs": [
        {
          "output_type": "execute_result",
          "data": {
            "text/plain": [
              "[2, 3, 4, 5, 6]"
            ]
          },
          "metadata": {
            "tags": []
          },
          "execution_count": 62
        }
      ]
    },
    {
      "cell_type": "code",
      "metadata": {
        "colab": {
          "base_uri": "https://localhost:8080/"
        },
        "id": "AYox_2WjjMJF",
        "outputId": "d371d5bb-2b39-483c-b656-ba2c9befb8f9"
      },
      "source": [
        "l"
      ],
      "execution_count": 63,
      "outputs": [
        {
          "output_type": "execute_result",
          "data": {
            "text/plain": [
              "[1, 2, 3, 43, 4, 5, 6, 6, 6, 67, 'sudh', 'kumar']"
            ]
          },
          "metadata": {
            "tags": []
          },
          "execution_count": 63
        }
      ]
    },
    {
      "cell_type": "code",
      "metadata": {
        "colab": {
          "base_uri": "https://localhost:8080/"
        },
        "id": "cjdSvsj0jMJF",
        "outputId": "0c265830-f9af-4b11-9119-d0704c280e08"
      },
      "source": [
        "l.pop(2)"
      ],
      "execution_count": 64,
      "outputs": [
        {
          "output_type": "execute_result",
          "data": {
            "text/plain": [
              "3"
            ]
          },
          "metadata": {
            "tags": []
          },
          "execution_count": 64
        }
      ]
    },
    {
      "cell_type": "code",
      "metadata": {
        "colab": {
          "base_uri": "https://localhost:8080/"
        },
        "id": "rTShdwKEjMJG",
        "outputId": "15c7e525-6515-4ef8-e21c-931ab0c736b5"
      },
      "source": [
        "l"
      ],
      "execution_count": 65,
      "outputs": [
        {
          "output_type": "execute_result",
          "data": {
            "text/plain": [
              "[1, 2, 43, 4, 5, 6, 6, 6, 67, 'sudh', 'kumar']"
            ]
          },
          "metadata": {
            "tags": []
          },
          "execution_count": 65
        }
      ]
    },
    {
      "cell_type": "code",
      "metadata": {
        "colab": {
          "base_uri": "https://localhost:8080/"
        },
        "id": "6ZFAuVBpjMJG",
        "outputId": "e0126c6b-1b6c-4226-bc15-fa54e3bf5558"
      },
      "source": [
        "l"
      ],
      "execution_count": 66,
      "outputs": [
        {
          "output_type": "execute_result",
          "data": {
            "text/plain": [
              "[1, 2, 43, 4, 5, 6, 6, 6, 67, 'sudh', 'kumar']"
            ]
          },
          "metadata": {
            "tags": []
          },
          "execution_count": 66
        }
      ]
    },
    {
      "cell_type": "code",
      "metadata": {
        "id": "sxtlc9E1jMJG"
      },
      "source": [
        "l.reverse()"
      ],
      "execution_count": 67,
      "outputs": []
    },
    {
      "cell_type": "code",
      "metadata": {
        "colab": {
          "base_uri": "https://localhost:8080/"
        },
        "id": "5P4-yDVRjMJG",
        "outputId": "24fb7de8-d653-41ba-904c-5a79644d2cd1"
      },
      "source": [
        "l"
      ],
      "execution_count": 68,
      "outputs": [
        {
          "output_type": "execute_result",
          "data": {
            "text/plain": [
              "['kumar', 'sudh', 67, 6, 6, 6, 5, 4, 43, 2, 1]"
            ]
          },
          "metadata": {
            "tags": []
          },
          "execution_count": 68
        }
      ]
    },
    {
      "cell_type": "code",
      "metadata": {
        "id": "uqlFk2VMjMJH"
      },
      "source": [
        "l = l[::-1]"
      ],
      "execution_count": 69,
      "outputs": []
    },
    {
      "cell_type": "code",
      "metadata": {
        "colab": {
          "base_uri": "https://localhost:8080/"
        },
        "id": "solZjprOjMJH",
        "outputId": "832477d3-128c-4a16-ca7f-1e31e342b358"
      },
      "source": [
        "l"
      ],
      "execution_count": 70,
      "outputs": [
        {
          "output_type": "execute_result",
          "data": {
            "text/plain": [
              "[1, 2, 43, 4, 5, 6, 6, 6, 67, 'sudh', 'kumar']"
            ]
          },
          "metadata": {
            "tags": []
          },
          "execution_count": 70
        }
      ]
    },
    {
      "cell_type": "code",
      "metadata": {
        "colab": {
          "base_uri": "https://localhost:8080/",
          "height": 162
        },
        "id": "wJct-s-njMJH",
        "outputId": "6726756e-815f-4549-ab00-52822319ab79"
      },
      "source": [
        "l.sort()"
      ],
      "execution_count": 71,
      "outputs": [
        {
          "output_type": "error",
          "ename": "TypeError",
          "evalue": "ignored",
          "traceback": [
            "\u001b[0;31m---------------------------------------------------------------------------\u001b[0m",
            "\u001b[0;31mTypeError\u001b[0m                                 Traceback (most recent call last)",
            "\u001b[0;32m<ipython-input-71-fb07ac7c73ab>\u001b[0m in \u001b[0;36m<module>\u001b[0;34m()\u001b[0m\n\u001b[0;32m----> 1\u001b[0;31m \u001b[0ml\u001b[0m\u001b[0;34m.\u001b[0m\u001b[0msort\u001b[0m\u001b[0;34m(\u001b[0m\u001b[0;34m)\u001b[0m\u001b[0;34m\u001b[0m\u001b[0;34m\u001b[0m\u001b[0m\n\u001b[0m",
            "\u001b[0;31mTypeError\u001b[0m: '<' not supported between instances of 'str' and 'int'"
          ]
        }
      ]
    },
    {
      "cell_type": "code",
      "metadata": {
        "colab": {
          "base_uri": "https://localhost:8080/"
        },
        "id": "_9n5eNLOjMJH",
        "outputId": "c4bf7e8f-6cef-4090-9935-a19e82dbc3e3"
      },
      "source": [
        "l"
      ],
      "execution_count": 87,
      "outputs": [
        {
          "output_type": "execute_result",
          "data": {
            "text/plain": [
              "[1, 2, 4, 5, 6, 6, 6, 43, 67, 'sudh', 'kumar']"
            ]
          },
          "metadata": {
            "tags": []
          },
          "execution_count": 87
        }
      ]
    },
    {
      "cell_type": "code",
      "metadata": {
        "id": "zAvzkYoPjMJI"
      },
      "source": [
        "l = [\"a\",\"sudh\",\"fsdfs\"]"
      ],
      "execution_count": 88,
      "outputs": []
    },
    {
      "cell_type": "code",
      "metadata": {
        "id": "5QkfUrYMjMJI"
      },
      "source": [
        "l.sort()"
      ],
      "execution_count": 89,
      "outputs": []
    },
    {
      "cell_type": "code",
      "metadata": {
        "colab": {
          "base_uri": "https://localhost:8080/"
        },
        "id": "84yweSR4jMJI",
        "outputId": "30c1ef7c-7170-4404-8eb3-a9f015330709"
      },
      "source": [
        "l"
      ],
      "execution_count": 90,
      "outputs": [
        {
          "output_type": "execute_result",
          "data": {
            "text/plain": [
              "['a', 'fsdfs', 'sudh']"
            ]
          },
          "metadata": {
            "tags": []
          },
          "execution_count": 90
        }
      ]
    },
    {
      "cell_type": "code",
      "metadata": {
        "id": "t9uTcsOajMJI"
      },
      "source": [
        "l = [ 43, 2, 1]"
      ],
      "execution_count": 91,
      "outputs": []
    },
    {
      "cell_type": "code",
      "metadata": {
        "id": "s1Shp-DEjMJJ"
      },
      "source": [
        "l.extend((4,6,8))"
      ],
      "execution_count": 92,
      "outputs": []
    },
    {
      "cell_type": "code",
      "metadata": {
        "colab": {
          "base_uri": "https://localhost:8080/"
        },
        "id": "Lp9YONzIjMJJ",
        "outputId": "16403678-8ec3-499d-c39b-090c7dfb33de"
      },
      "source": [
        "l"
      ],
      "execution_count": 93,
      "outputs": [
        {
          "output_type": "execute_result",
          "data": {
            "text/plain": [
              "[43, 2, 1, 4, 6, 8]"
            ]
          },
          "metadata": {
            "tags": []
          },
          "execution_count": 93
        }
      ]
    },
    {
      "cell_type": "code",
      "metadata": {
        "id": "5Hw3szxrjMJJ"
      },
      "source": [
        ""
      ],
      "execution_count": 93,
      "outputs": []
    },
    {
      "cell_type": "code",
      "metadata": {
        "colab": {
          "base_uri": "https://localhost:8080/"
        },
        "id": "CvtO-i0FjMJJ",
        "outputId": "e98735cc-c8f7-4e18-bc38-38a6f3a97edf"
      },
      "source": [
        "l"
      ],
      "execution_count": 94,
      "outputs": [
        {
          "output_type": "execute_result",
          "data": {
            "text/plain": [
              "[43, 2, 1, 4, 6, 8]"
            ]
          },
          "metadata": {
            "tags": []
          },
          "execution_count": 94
        }
      ]
    },
    {
      "cell_type": "code",
      "metadata": {
        "id": "sSlSwMvrjMJJ"
      },
      "source": [
        "l.append(\"fsdfasf\")"
      ],
      "execution_count": 95,
      "outputs": []
    },
    {
      "cell_type": "code",
      "metadata": {
        "colab": {
          "base_uri": "https://localhost:8080/"
        },
        "id": "1Z2M0J85jMJK",
        "outputId": "f5c581b8-3da9-4774-ef1d-92a5afa7433e"
      },
      "source": [
        "l"
      ],
      "execution_count": 96,
      "outputs": [
        {
          "output_type": "execute_result",
          "data": {
            "text/plain": [
              "[43, 2, 1, 4, 6, 8, 'fsdfasf']"
            ]
          },
          "metadata": {
            "tags": []
          },
          "execution_count": 96
        }
      ]
    },
    {
      "cell_type": "code",
      "metadata": {
        "id": "ub7wp3U_jMJK"
      },
      "source": [
        "l = [4,3,5]"
      ],
      "execution_count": 97,
      "outputs": []
    },
    {
      "cell_type": "code",
      "metadata": {
        "colab": {
          "base_uri": "https://localhost:8080/"
        },
        "id": "1509fercjMJK",
        "outputId": "db959081-f01f-4c29-c1fb-8b8d1eed6f76"
      },
      "source": [
        "l+ [\"sudh\",6,7,8,[4,5,6,7,8]]"
      ],
      "execution_count": 98,
      "outputs": [
        {
          "output_type": "execute_result",
          "data": {
            "text/plain": [
              "[4, 3, 5, 'sudh', 6, 7, 8, [4, 5, 6, 7, 8]]"
            ]
          },
          "metadata": {
            "tags": []
          },
          "execution_count": 98
        }
      ]
    },
    {
      "cell_type": "code",
      "metadata": {
        "id": "5_HfZofKjMJL"
      },
      "source": [
        "l.append([\"sudh\",6,7,8,[4,5,6,7,8]])"
      ],
      "execution_count": 99,
      "outputs": []
    },
    {
      "cell_type": "code",
      "metadata": {
        "colab": {
          "base_uri": "https://localhost:8080/"
        },
        "id": "hOI2EJnjjMJL",
        "outputId": "7e78d4d8-21c1-4979-de2c-14c11bc5da07"
      },
      "source": [
        "l"
      ],
      "execution_count": 100,
      "outputs": [
        {
          "output_type": "execute_result",
          "data": {
            "text/plain": [
              "[4, 3, 5, ['sudh', 6, 7, 8, [4, 5, 6, 7, 8]]]"
            ]
          },
          "metadata": {
            "tags": []
          },
          "execution_count": 100
        }
      ]
    },
    {
      "cell_type": "code",
      "metadata": {
        "id": "5I0pPPNijMJL"
      },
      "source": [
        ""
      ],
      "execution_count": 100,
      "outputs": []
    },
    {
      "cell_type": "code",
      "metadata": {
        "id": "W31DOzLsjMJL"
      },
      "source": [
        ""
      ],
      "execution_count": 100,
      "outputs": []
    },
    {
      "cell_type": "code",
      "metadata": {
        "id": "imVtVUrbjMJL"
      },
      "source": [
        "l.extend(['sudh', 6, 7, 8, [4, 5, 6, 7, 8]])"
      ],
      "execution_count": 101,
      "outputs": []
    },
    {
      "cell_type": "code",
      "metadata": {
        "colab": {
          "base_uri": "https://localhost:8080/"
        },
        "id": "hfwP5y-ZjMJM",
        "outputId": "9e907659-ed39-4231-b5a9-59f0c330e1c0"
      },
      "source": [
        "l"
      ],
      "execution_count": 102,
      "outputs": [
        {
          "output_type": "execute_result",
          "data": {
            "text/plain": [
              "[4, 3, 5, ['sudh', 6, 7, 8, [4, 5, 6, 7, 8]], 'sudh', 6, 7, 8, [4, 5, 6, 7, 8]]"
            ]
          },
          "metadata": {
            "tags": []
          },
          "execution_count": 102
        }
      ]
    },
    {
      "cell_type": "code",
      "metadata": {
        "id": "0I5JZczhjMJM"
      },
      "source": [
        "l = [1,2,3,4,4,4,4,4,4,3,4,5,6,7]"
      ],
      "execution_count": 103,
      "outputs": []
    },
    {
      "cell_type": "code",
      "metadata": {
        "colab": {
          "base_uri": "https://localhost:8080/"
        },
        "id": "QYKpdZnjjMJM",
        "outputId": "b5d1fea4-dc4b-4468-8b54-d04702600bfd"
      },
      "source": [
        "l.count(40)"
      ],
      "execution_count": 104,
      "outputs": [
        {
          "output_type": "execute_result",
          "data": {
            "text/plain": [
              "0"
            ]
          },
          "metadata": {
            "tags": []
          },
          "execution_count": 104
        }
      ]
    },
    {
      "cell_type": "code",
      "metadata": {
        "colab": {
          "base_uri": "https://localhost:8080/"
        },
        "id": "VlWzo7-3jMJM",
        "outputId": "d5978591-e835-475e-8192-5d5aadff1c70"
      },
      "source": [
        "l.index(4)"
      ],
      "execution_count": 105,
      "outputs": [
        {
          "output_type": "execute_result",
          "data": {
            "text/plain": [
              "3"
            ]
          },
          "metadata": {
            "tags": []
          },
          "execution_count": 105
        }
      ]
    },
    {
      "cell_type": "code",
      "metadata": {
        "id": "GumW43dwjMJN"
      },
      "source": [
        ""
      ],
      "execution_count": 105,
      "outputs": []
    },
    {
      "cell_type": "code",
      "metadata": {
        "id": "8nSiWsxNjMJN"
      },
      "source": [
        "l= [1, 2, 3, 4, 4, 4]"
      ],
      "execution_count": 106,
      "outputs": []
    },
    {
      "cell_type": "code",
      "metadata": {
        "id": "2lPVZQ3ijMJN"
      },
      "source": [
        "l.insert(2,\"sudh\")"
      ],
      "execution_count": 107,
      "outputs": []
    },
    {
      "cell_type": "code",
      "metadata": {
        "colab": {
          "base_uri": "https://localhost:8080/"
        },
        "id": "4PLppPkCjMJN",
        "outputId": "fb0e04e3-3e03-4d5e-cfc4-94754366280b"
      },
      "source": [
        "l"
      ],
      "execution_count": 108,
      "outputs": [
        {
          "output_type": "execute_result",
          "data": {
            "text/plain": [
              "[1, 2, 'sudh', 3, 4, 4, 4]"
            ]
          },
          "metadata": {
            "tags": []
          },
          "execution_count": 108
        }
      ]
    },
    {
      "cell_type": "code",
      "metadata": {
        "colab": {
          "base_uri": "https://localhost:8080/"
        },
        "id": "XnnyK7JBjMJO",
        "outputId": "ecd062be-1064-4360-bbc0-a92ab6a8e664"
      },
      "source": [
        " l"
      ],
      "execution_count": 109,
      "outputs": [
        {
          "output_type": "execute_result",
          "data": {
            "text/plain": [
              "[1, 2, 'sudh', 3, 4, 4, 4]"
            ]
          },
          "metadata": {
            "tags": []
          },
          "execution_count": 109
        }
      ]
    },
    {
      "cell_type": "code",
      "metadata": {
        "colab": {
          "base_uri": "https://localhost:8080/",
          "height": 162
        },
        "id": "fgbgO5NrjMJO",
        "outputId": "d8b2cc37-a9dd-4331-eae8-a69e48d2513d"
      },
      "source": [
        "l.remove([5, 7, 7])"
      ],
      "execution_count": 110,
      "outputs": [
        {
          "output_type": "error",
          "ename": "ValueError",
          "evalue": "ignored",
          "traceback": [
            "\u001b[0;31m---------------------------------------------------------------------------\u001b[0m",
            "\u001b[0;31mValueError\u001b[0m                                Traceback (most recent call last)",
            "\u001b[0;32m<ipython-input-110-cb90319aef50>\u001b[0m in \u001b[0;36m<module>\u001b[0;34m()\u001b[0m\n\u001b[0;32m----> 1\u001b[0;31m \u001b[0ml\u001b[0m\u001b[0;34m.\u001b[0m\u001b[0mremove\u001b[0m\u001b[0;34m(\u001b[0m\u001b[0;34m[\u001b[0m\u001b[0;36m5\u001b[0m\u001b[0;34m,\u001b[0m \u001b[0;36m7\u001b[0m\u001b[0;34m,\u001b[0m \u001b[0;36m7\u001b[0m\u001b[0;34m]\u001b[0m\u001b[0;34m)\u001b[0m\u001b[0;34m\u001b[0m\u001b[0;34m\u001b[0m\u001b[0m\n\u001b[0m",
            "\u001b[0;31mValueError\u001b[0m: list.remove(x): x not in list"
          ]
        }
      ]
    },
    {
      "cell_type": "code",
      "metadata": {
        "id": "PqfetkfHjMJO"
      },
      "source": [
        "l = [1,2,2,3,3,34,54,5,56]"
      ],
      "execution_count": 111,
      "outputs": []
    },
    {
      "cell_type": "code",
      "metadata": {
        "colab": {
          "base_uri": "https://localhost:8080/"
        },
        "id": "i7r_dW6RjMJO",
        "outputId": "76ec7d8e-ef01-4ac9-cdbb-7d579f0bb3e7"
      },
      "source": [
        "l"
      ],
      "execution_count": 112,
      "outputs": [
        {
          "output_type": "execute_result",
          "data": {
            "text/plain": [
              "[1, 2, 2, 3, 3, 34, 54, 5, 56]"
            ]
          },
          "metadata": {
            "tags": []
          },
          "execution_count": 112
        }
      ]
    },
    {
      "cell_type": "code",
      "metadata": {
        "id": "cRHOHLtNjMJP"
      },
      "source": [
        "l.remove(2)"
      ],
      "execution_count": 113,
      "outputs": []
    },
    {
      "cell_type": "code",
      "metadata": {
        "colab": {
          "base_uri": "https://localhost:8080/"
        },
        "id": "X6Ss_nbZjMJP",
        "outputId": "7c8a5a4e-8dda-4dba-eb2e-1071f48b3608"
      },
      "source": [
        "l"
      ],
      "execution_count": 114,
      "outputs": [
        {
          "output_type": "execute_result",
          "data": {
            "text/plain": [
              "[1, 2, 3, 3, 34, 54, 5, 56]"
            ]
          },
          "metadata": {
            "tags": []
          },
          "execution_count": 114
        }
      ]
    },
    {
      "cell_type": "code",
      "metadata": {
        "id": "Nd_mOHz5jMJP"
      },
      "source": [
        "t = (3,4,5,6,7,8,8)"
      ],
      "execution_count": 115,
      "outputs": []
    },
    {
      "cell_type": "code",
      "metadata": {
        "id": "432iTb6GjMJQ"
      },
      "source": [
        ""
      ],
      "execution_count": 115,
      "outputs": []
    }
  ]
}