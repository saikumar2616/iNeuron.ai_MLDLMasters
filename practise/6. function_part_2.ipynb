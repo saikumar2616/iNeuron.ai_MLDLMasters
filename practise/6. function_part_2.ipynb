{
  "nbformat": 4,
  "nbformat_minor": 0,
  "metadata": {
    "kernelspec": {
      "display_name": "Python 3",
      "language": "python",
      "name": "python3"
    },
    "language_info": {
      "codemirror_mode": {
        "name": "ipython",
        "version": 3
      },
      "file_extension": ".py",
      "mimetype": "text/x-python",
      "name": "python",
      "nbconvert_exporter": "python",
      "pygments_lexer": "ipython3",
      "version": "3.8.5"
    },
    "colab": {
      "name": "function part 2.ipynb",
      "provenance": []
    }
  },
  "cells": [
    {
      "cell_type": "code",
      "metadata": {
        "id": "4GLXaKtk1bQi"
      },
      "source": [
        "def test1(a,b,c,d,e):\n",
        "    return a + b "
      ],
      "execution_count": 1,
      "outputs": []
    },
    {
      "cell_type": "code",
      "metadata": {
        "id": "JAEijziZ1bQm"
      },
      "source": [
        "def test2(*args):\n",
        "    return args"
      ],
      "execution_count": 2,
      "outputs": []
    },
    {
      "cell_type": "code",
      "metadata": {
        "id": "Iz963Ddp1bQn",
        "outputId": "77667fc7-85e5-41be-9432-a5f407ede801",
        "colab": {
          "base_uri": "https://localhost:8080/"
        }
      },
      "source": [
        "test2()"
      ],
      "execution_count": 3,
      "outputs": [
        {
          "output_type": "execute_result",
          "data": {
            "text/plain": [
              "()"
            ]
          },
          "metadata": {
            "tags": []
          },
          "execution_count": 3
        }
      ]
    },
    {
      "cell_type": "code",
      "metadata": {
        "id": "k163m6iv1bQo",
        "outputId": "af8b59da-3878-4f79-c038-9602f901ac02",
        "colab": {
          "base_uri": "https://localhost:8080/"
        }
      },
      "source": [
        "test2(\"sudh\",434)"
      ],
      "execution_count": 4,
      "outputs": [
        {
          "output_type": "execute_result",
          "data": {
            "text/plain": [
              "('sudh', 434)"
            ]
          },
          "metadata": {
            "tags": []
          },
          "execution_count": 4
        }
      ]
    },
    {
      "cell_type": "code",
      "metadata": {
        "id": "shmmguwL1bQp",
        "outputId": "5a6297db-d877-47e5-901c-eac3b09b8613",
        "colab": {
          "base_uri": "https://localhost:8080/"
        }
      },
      "source": [
        "test2(234,45.54,True,4+7j)"
      ],
      "execution_count": 5,
      "outputs": [
        {
          "output_type": "execute_result",
          "data": {
            "text/plain": [
              "(234, 45.54, True, (4+7j))"
            ]
          },
          "metadata": {
            "tags": []
          },
          "execution_count": 5
        }
      ]
    },
    {
      "cell_type": "code",
      "metadata": {
        "id": "tu8V8HZw1bQr"
      },
      "source": [
        "def test3(*args,a,b):\n",
        "    return  a+b"
      ],
      "execution_count": 6,
      "outputs": []
    },
    {
      "cell_type": "code",
      "metadata": {
        "id": "vGwILWWC1bQs",
        "outputId": "3fbb569a-c6e7-4df7-90ab-c3fd4ad5df5f",
        "colab": {
          "base_uri": "https://localhost:8080/"
        }
      },
      "source": [
        "test3(a=6,b = 7)"
      ],
      "execution_count": 7,
      "outputs": [
        {
          "output_type": "execute_result",
          "data": {
            "text/plain": [
              "13"
            ]
          },
          "metadata": {
            "tags": []
          },
          "execution_count": 7
        }
      ]
    },
    {
      "cell_type": "code",
      "metadata": {
        "id": "BEgzZnx81bQt"
      },
      "source": [
        "def test4(*args):\n",
        "    if len(args) >0:\n",
        "        for i in args:\n",
        "            print(i)"
      ],
      "execution_count": 8,
      "outputs": []
    },
    {
      "cell_type": "code",
      "metadata": {
        "id": "Uhhwk7R21bQt"
      },
      "source": [
        "test4()"
      ],
      "execution_count": 9,
      "outputs": []
    },
    {
      "cell_type": "code",
      "metadata": {
        "id": "Rq38X-UJ1bQu",
        "outputId": "1453922e-ac62-4f96-84fa-5687e1968d10",
        "colab": {
          "base_uri": "https://localhost:8080/"
        }
      },
      "source": [
        "test4(45,5,67)"
      ],
      "execution_count": 10,
      "outputs": [
        {
          "output_type": "stream",
          "text": [
            "45\n",
            "5\n",
            "67\n"
          ],
          "name": "stdout"
        }
      ]
    },
    {
      "cell_type": "code",
      "metadata": {
        "id": "MBDEk8de1bQu"
      },
      "source": [
        "def test4(*args):\n",
        "    if(len(args)>0):\n",
        "        for i in args:\n",
        "            print(i)\n"
      ],
      "execution_count": 11,
      "outputs": []
    },
    {
      "cell_type": "code",
      "metadata": {
        "id": "SvcedHeK1bQv",
        "outputId": "14ab6619-6a89-4072-d246-4de9f5ab909c",
        "colab": {
          "base_uri": "https://localhost:8080/"
        }
      },
      "source": [
        "print(test4(45,47,69))\n"
      ],
      "execution_count": 12,
      "outputs": [
        {
          "output_type": "stream",
          "text": [
            "45\n",
            "47\n",
            "69\n",
            "None\n"
          ],
          "name": "stdout"
        }
      ]
    },
    {
      "cell_type": "code",
      "metadata": {
        "id": "K9CILHKd1bQw",
        "outputId": "070c95d7-714d-4d97-d109-654b781263a8",
        "colab": {
          "base_uri": "https://localhost:8080/"
        }
      },
      "source": [
        "test4(45,47,69)"
      ],
      "execution_count": 13,
      "outputs": [
        {
          "output_type": "stream",
          "text": [
            "45\n",
            "47\n",
            "69\n"
          ],
          "name": "stdout"
        }
      ]
    },
    {
      "cell_type": "code",
      "metadata": {
        "id": "4-YzBgMu1bQy"
      },
      "source": [
        "def test4(*args):\n",
        "    if len(args) > 1:\n",
        "        for i in args:\n",
        "            print(i)\n"
      ],
      "execution_count": 14,
      "outputs": []
    },
    {
      "cell_type": "code",
      "metadata": {
        "id": "Iych5p_v1bQz",
        "outputId": "1ebcb156-af77-405e-f251-ac94b897cf3d",
        "colab": {
          "base_uri": "https://localhost:8080/"
        }
      },
      "source": [
        "test4(445,56,556,56)"
      ],
      "execution_count": 15,
      "outputs": [
        {
          "output_type": "stream",
          "text": [
            "445\n",
            "56\n",
            "556\n",
            "56\n"
          ],
          "name": "stdout"
        }
      ]
    },
    {
      "cell_type": "code",
      "metadata": {
        "id": "Wi6OzqSS1bQ0"
      },
      "source": [
        "def test1(*param,a,b):\n",
        "    z=\"\"\n",
        "    for i in param:\n",
        "       z=z+str(i)\n",
        "    return z,a+b\n"
      ],
      "execution_count": 16,
      "outputs": []
    },
    {
      "cell_type": "code",
      "metadata": {
        "id": "vkRkX3_i1bQ0",
        "outputId": "78ac75ff-ebda-4bd6-a906-508049bdf0c4",
        "colab": {
          "base_uri": "https://localhost:8080/"
        }
      },
      "source": [
        "test1(1,24,5,2,2,a= 6,b = 4)\n"
      ],
      "execution_count": 17,
      "outputs": [
        {
          "output_type": "execute_result",
          "data": {
            "text/plain": [
              "('124522', 10)"
            ]
          },
          "metadata": {
            "tags": []
          },
          "execution_count": 17
        }
      ]
    },
    {
      "cell_type": "code",
      "metadata": {
        "id": "sLTPgA_M1bQ1"
      },
      "source": [
        "def test5(*sudh):\n",
        "    return sudh"
      ],
      "execution_count": 18,
      "outputs": []
    },
    {
      "cell_type": "code",
      "metadata": {
        "id": "KO_Pgfek1bQ1",
        "outputId": "db8b5fe0-9e05-4b8c-9336-3394f733364d",
        "colab": {
          "base_uri": "https://localhost:8080/"
        }
      },
      "source": [
        "test5()"
      ],
      "execution_count": 19,
      "outputs": [
        {
          "output_type": "execute_result",
          "data": {
            "text/plain": [
              "()"
            ]
          },
          "metadata": {
            "tags": []
          },
          "execution_count": 19
        }
      ]
    },
    {
      "cell_type": "code",
      "metadata": {
        "id": "L0RsMWNT1bQ2",
        "outputId": "7bca5580-2767-4a0b-d4fa-9a6a47e095b8",
        "colab": {
          "base_uri": "https://localhost:8080/"
        }
      },
      "source": [
        "test5(45,67,78,34)"
      ],
      "execution_count": 20,
      "outputs": [
        {
          "output_type": "execute_result",
          "data": {
            "text/plain": [
              "(45, 67, 78, 34)"
            ]
          },
          "metadata": {
            "tags": []
          },
          "execution_count": 20
        }
      ]
    },
    {
      "cell_type": "code",
      "metadata": {
        "id": "DwLv3jup1bQ2"
      },
      "source": [
        "def test6(**kwargs):\n",
        "    return kwargs"
      ],
      "execution_count": 21,
      "outputs": []
    },
    {
      "cell_type": "code",
      "metadata": {
        "id": "3U7dO6Jh1bQ2",
        "outputId": "0db6b80c-087f-4bd1-fab8-37f16f6c944e",
        "colab": {
          "base_uri": "https://localhost:8080/"
        }
      },
      "source": [
        "type(test6())"
      ],
      "execution_count": 50,
      "outputs": [
        {
          "output_type": "execute_result",
          "data": {
            "text/plain": [
              "dict"
            ]
          },
          "metadata": {
            "tags": []
          },
          "execution_count": 50
        }
      ]
    },
    {
      "cell_type": "code",
      "metadata": {
        "id": "eytYvZ4Y1bQ3",
        "outputId": "2a9f0200-f1d7-4da4-8a31-b3e3e7355fd3",
        "colab": {
          "base_uri": "https://localhost:8080/"
        }
      },
      "source": [
        "test6(a=34,b=(3,4,5,6,7),c = [3,4,5,6,7],s = \"sudh\")"
      ],
      "execution_count": 23,
      "outputs": [
        {
          "output_type": "execute_result",
          "data": {
            "text/plain": [
              "{'a': 34, 'b': (3, 4, 5, 6, 7), 'c': [3, 4, 5, 6, 7], 's': 'sudh'}"
            ]
          },
          "metadata": {
            "tags": []
          },
          "execution_count": 23
        }
      ]
    },
    {
      "cell_type": "code",
      "metadata": {
        "id": "km4mJlsU1bQ3"
      },
      "source": [
        "def test7(**kwargs):\n",
        "    for i in kwargs.values():\n",
        "        if type(i) == list:\n",
        "            print(i)"
      ],
      "execution_count": 24,
      "outputs": []
    },
    {
      "cell_type": "code",
      "metadata": {
        "id": "16XV4kyw1bQ6",
        "outputId": "28de8c58-d994-4914-f34d-557fae76e90c",
        "colab": {
          "base_uri": "https://localhost:8080/"
        }
      },
      "source": [
        "test7(a=34,b=(3,4,5,6,7),c = [3,4,5,6,7],s = \"sudh\")"
      ],
      "execution_count": 25,
      "outputs": [
        {
          "output_type": "stream",
          "text": [
            "[3, 4, 5, 6, 7]\n"
          ],
          "name": "stdout"
        }
      ]
    },
    {
      "cell_type": "code",
      "metadata": {
        "id": "LjYXpfJF1bQ6"
      },
      "source": [
        "def test8(**sudh):\n",
        "    return sudh"
      ],
      "execution_count": 26,
      "outputs": []
    },
    {
      "cell_type": "code",
      "metadata": {
        "id": "jt0Jx4Vf1bQ7",
        "outputId": "ab545eed-c002-4e19-829f-971e170a8bcd",
        "colab": {
          "base_uri": "https://localhost:8080/"
        }
      },
      "source": [
        "test8(a = 5)"
      ],
      "execution_count": 27,
      "outputs": [
        {
          "output_type": "execute_result",
          "data": {
            "text/plain": [
              "{'a': 5}"
            ]
          },
          "metadata": {
            "tags": []
          },
          "execution_count": 27
        }
      ]
    },
    {
      "cell_type": "code",
      "metadata": {
        "id": "aQVVKq6U1bQ7"
      },
      "source": [
        "a = 1\n",
        "b = 2\n",
        "def test9(a,b):\n",
        "    return a+b"
      ],
      "execution_count": 28,
      "outputs": []
    },
    {
      "cell_type": "code",
      "metadata": {
        "id": "i51y_J5d1bQ7",
        "outputId": "5da130e6-994d-4332-893f-6742bf0428cb",
        "colab": {
          "base_uri": "https://localhost:8080/"
        }
      },
      "source": [
        "test9(a,b)"
      ],
      "execution_count": 29,
      "outputs": [
        {
          "output_type": "execute_result",
          "data": {
            "text/plain": [
              "3"
            ]
          },
          "metadata": {
            "tags": []
          },
          "execution_count": 29
        }
      ]
    },
    {
      "cell_type": "code",
      "metadata": {
        "id": "0kdBhzH41bQ7"
      },
      "source": [
        "s = lambda a , b : a + b"
      ],
      "execution_count": 30,
      "outputs": []
    },
    {
      "cell_type": "code",
      "metadata": {
        "id": "65oT6A1n1bQ8",
        "outputId": "7cdee97a-3dbc-418b-ffcc-846266c97ee6",
        "colab": {
          "base_uri": "https://localhost:8080/"
        }
      },
      "source": [
        "s(a,b)"
      ],
      "execution_count": 31,
      "outputs": [
        {
          "output_type": "execute_result",
          "data": {
            "text/plain": [
              "3"
            ]
          },
          "metadata": {
            "tags": []
          },
          "execution_count": 31
        }
      ]
    },
    {
      "cell_type": "code",
      "metadata": {
        "id": "cA5w65xm1bQ8",
        "outputId": "0318e395-4402-4015-f105-210447b3fddc",
        "colab": {
          "base_uri": "https://localhost:8080/"
        }
      },
      "source": [
        "s(45,56)"
      ],
      "execution_count": 32,
      "outputs": [
        {
          "output_type": "execute_result",
          "data": {
            "text/plain": [
              "101"
            ]
          },
          "metadata": {
            "tags": []
          },
          "execution_count": 32
        }
      ]
    },
    {
      "cell_type": "code",
      "metadata": {
        "id": "pLlj0UdS1bQ8"
      },
      "source": [
        "b = lambda a , n : a **n"
      ],
      "execution_count": 33,
      "outputs": []
    },
    {
      "cell_type": "code",
      "metadata": {
        "id": "NO5w-0Pg1bQ9",
        "outputId": "191f6075-642f-4490-f88d-cac9d6a8e2db",
        "colab": {
          "base_uri": "https://localhost:8080/"
        }
      },
      "source": [
        "test7"
      ],
      "execution_count": 34,
      "outputs": [
        {
          "output_type": "execute_result",
          "data": {
            "text/plain": [
              "<function __main__.test7>"
            ]
          },
          "metadata": {
            "tags": []
          },
          "execution_count": 34
        }
      ]
    },
    {
      "cell_type": "code",
      "metadata": {
        "id": "24KvYe571bQ9",
        "outputId": "efc52f94-bdd7-41ea-b607-57beaada4b88",
        "colab": {
          "base_uri": "https://localhost:8080/"
        }
      },
      "source": [
        "b(2,3)"
      ],
      "execution_count": 35,
      "outputs": [
        {
          "output_type": "execute_result",
          "data": {
            "text/plain": [
              "8"
            ]
          },
          "metadata": {
            "tags": []
          },
          "execution_count": 35
        }
      ]
    },
    {
      "cell_type": "code",
      "metadata": {
        "id": "OntKjgJ31bQ9"
      },
      "source": [
        "c = lambda *args : args\n"
      ],
      "execution_count": 36,
      "outputs": []
    },
    {
      "cell_type": "code",
      "metadata": {
        "id": "NBV_4VBd1bQ-",
        "outputId": "8aaf0775-2bb6-4ae7-8e6a-51be3e026430",
        "colab": {
          "base_uri": "https://localhost:8080/"
        }
      },
      "source": [
        "c"
      ],
      "execution_count": 37,
      "outputs": [
        {
          "output_type": "execute_result",
          "data": {
            "text/plain": [
              "<function __main__.<lambda>>"
            ]
          },
          "metadata": {
            "tags": []
          },
          "execution_count": 37
        }
      ]
    },
    {
      "cell_type": "code",
      "metadata": {
        "id": "8Ml4PDMh1bQ-",
        "outputId": "53f8d0d3-1994-4a24-f8a1-5aecf46155aa",
        "colab": {
          "base_uri": "https://localhost:8080/"
        }
      },
      "source": [
        "c(45,67,78)"
      ],
      "execution_count": 38,
      "outputs": [
        {
          "output_type": "execute_result",
          "data": {
            "text/plain": [
              "(45, 67, 78)"
            ]
          },
          "metadata": {
            "tags": []
          },
          "execution_count": 38
        }
      ]
    },
    {
      "cell_type": "code",
      "metadata": {
        "id": "gPFN06m31bQ-"
      },
      "source": [
        "c1 = lambda *args :[ i**2  for i in args]"
      ],
      "execution_count": 39,
      "outputs": []
    },
    {
      "cell_type": "code",
      "metadata": {
        "id": "mGybOZBX1bQ_",
        "outputId": "9c00e3fe-a2e1-4c99-9b72-3c4678c9f3b8",
        "colab": {
          "base_uri": "https://localhost:8080/"
        }
      },
      "source": [
        "c1(45,6,78)"
      ],
      "execution_count": 40,
      "outputs": [
        {
          "output_type": "execute_result",
          "data": {
            "text/plain": [
              "[2025, 36, 6084]"
            ]
          },
          "metadata": {
            "tags": []
          },
          "execution_count": 40
        }
      ]
    },
    {
      "cell_type": "code",
      "metadata": {
        "id": "V2T5laZe1bQ_"
      },
      "source": [
        "c2 = lambda *args :{ i : 'sudh' for i in args}"
      ],
      "execution_count": 41,
      "outputs": []
    },
    {
      "cell_type": "code",
      "metadata": {
        "id": "GK1AsQcP1bQ_",
        "outputId": "974d277c-58aa-4332-8f54-b78c45888764",
        "colab": {
          "base_uri": "https://localhost:8080/"
        }
      },
      "source": [
        "c2(45,6,78)"
      ],
      "execution_count": 42,
      "outputs": [
        {
          "output_type": "execute_result",
          "data": {
            "text/plain": [
              "{6: 'sudh', 45: 'sudh', 78: 'sudh'}"
            ]
          },
          "metadata": {
            "tags": []
          },
          "execution_count": 42
        }
      ]
    },
    {
      "cell_type": "code",
      "metadata": {
        "id": "1KiDIlBC1bRA"
      },
      "source": [
        "def test9(n):\n",
        "    l = []\n",
        "    for i in range(n):\n",
        "        l.append(i)\n",
        "    return l"
      ],
      "execution_count": 43,
      "outputs": []
    },
    {
      "cell_type": "code",
      "metadata": {
        "id": "ehl80K6s1bRA",
        "outputId": "c4f9ef02-0b62-4f83-fbcb-9dfdf0c44074",
        "colab": {
          "base_uri": "https://localhost:8080/"
        }
      },
      "source": [
        "test9(10)"
      ],
      "execution_count": 44,
      "outputs": [
        {
          "output_type": "execute_result",
          "data": {
            "text/plain": [
              "[0, 1, 2, 3, 4, 5, 6, 7, 8, 9]"
            ]
          },
          "metadata": {
            "tags": []
          },
          "execution_count": 44
        }
      ]
    },
    {
      "cell_type": "code",
      "metadata": {
        "id": "tqKtF4Bf1bRA",
        "outputId": "d72b0024-2652-4afb-f44b-ca7ce81e5b79",
        "colab": {
          "base_uri": "https://localhost:8080/"
        }
      },
      "source": [
        "[i for i in range(10)]"
      ],
      "execution_count": 45,
      "outputs": [
        {
          "output_type": "execute_result",
          "data": {
            "text/plain": [
              "[0, 1, 2, 3, 4, 5, 6, 7, 8, 9]"
            ]
          },
          "metadata": {
            "tags": []
          },
          "execution_count": 45
        }
      ]
    },
    {
      "cell_type": "code",
      "metadata": {
        "id": "UbQiWUap1bRB"
      },
      "source": [
        "c3 = lambda n : [i for i in range(n)]"
      ],
      "execution_count": 46,
      "outputs": []
    },
    {
      "cell_type": "code",
      "metadata": {
        "id": "sBt4mtDp1bRB",
        "outputId": "4160b593-798a-4234-e7d0-a1a9fd012175",
        "colab": {
          "base_uri": "https://localhost:8080/"
        }
      },
      "source": [
        "c3(10)"
      ],
      "execution_count": 47,
      "outputs": [
        {
          "output_type": "execute_result",
          "data": {
            "text/plain": [
              "[0, 1, 2, 3, 4, 5, 6, 7, 8, 9]"
            ]
          },
          "metadata": {
            "tags": []
          },
          "execution_count": 47
        }
      ]
    },
    {
      "cell_type": "code",
      "metadata": {
        "id": "lKJnrQLt1bRC"
      },
      "source": [
        "c=lambda *args:[i for i in range(args)]"
      ],
      "execution_count": 48,
      "outputs": []
    },
    {
      "cell_type": "code",
      "metadata": {
        "id": "z_ujcAIB1bRD",
        "outputId": "dd388f1b-637f-40e6-b184-9fe9ce2756ef",
        "colab": {
          "base_uri": "https://localhost:8080/",
          "height": 212
        }
      },
      "source": [
        "c(34,45,56,65)"
      ],
      "execution_count": 49,
      "outputs": [
        {
          "output_type": "error",
          "ename": "TypeError",
          "evalue": "ignored",
          "traceback": [
            "\u001b[0;31m---------------------------------------------------------------------------\u001b[0m",
            "\u001b[0;31mTypeError\u001b[0m                                 Traceback (most recent call last)",
            "\u001b[0;32m<ipython-input-49-7a4d787876d2>\u001b[0m in \u001b[0;36m<module>\u001b[0;34m()\u001b[0m\n\u001b[0;32m----> 1\u001b[0;31m \u001b[0mc\u001b[0m\u001b[0;34m(\u001b[0m\u001b[0;36m34\u001b[0m\u001b[0;34m,\u001b[0m\u001b[0;36m45\u001b[0m\u001b[0;34m,\u001b[0m\u001b[0;36m56\u001b[0m\u001b[0;34m,\u001b[0m\u001b[0;36m65\u001b[0m\u001b[0;34m)\u001b[0m\u001b[0;34m\u001b[0m\u001b[0;34m\u001b[0m\u001b[0m\n\u001b[0m",
            "\u001b[0;32m<ipython-input-48-235f5030ae90>\u001b[0m in \u001b[0;36m<lambda>\u001b[0;34m(*args)\u001b[0m\n\u001b[0;32m----> 1\u001b[0;31m \u001b[0mc\u001b[0m\u001b[0;34m=\u001b[0m\u001b[0;32mlambda\u001b[0m \u001b[0;34m*\u001b[0m\u001b[0margs\u001b[0m\u001b[0;34m:\u001b[0m\u001b[0;34m[\u001b[0m\u001b[0mi\u001b[0m \u001b[0;32mfor\u001b[0m \u001b[0mi\u001b[0m \u001b[0;32min\u001b[0m \u001b[0mrange\u001b[0m\u001b[0;34m(\u001b[0m\u001b[0margs\u001b[0m\u001b[0;34m)\u001b[0m\u001b[0;34m]\u001b[0m\u001b[0;34m\u001b[0m\u001b[0;34m\u001b[0m\u001b[0m\n\u001b[0m",
            "\u001b[0;31mTypeError\u001b[0m: 'tuple' object cannot be interpreted as an integer"
          ]
        }
      ]
    },
    {
      "cell_type": "code",
      "metadata": {
        "id": "SLeTaqTP1bRE",
        "outputId": "93ee8c44-fde2-4263-ea00-35bd3ee46375",
        "colab": {
          "base_uri": "https://localhost:8080/",
          "height": 162
        }
      },
      "source": [
        "range((45,34,546))"
      ],
      "execution_count": 51,
      "outputs": [
        {
          "output_type": "error",
          "ename": "TypeError",
          "evalue": "ignored",
          "traceback": [
            "\u001b[0;31m---------------------------------------------------------------------------\u001b[0m",
            "\u001b[0;31mTypeError\u001b[0m                                 Traceback (most recent call last)",
            "\u001b[0;32m<ipython-input-51-35d1e42775eb>\u001b[0m in \u001b[0;36m<module>\u001b[0;34m()\u001b[0m\n\u001b[0;32m----> 1\u001b[0;31m \u001b[0mrange\u001b[0m\u001b[0;34m(\u001b[0m\u001b[0;34m(\u001b[0m\u001b[0;36m45\u001b[0m\u001b[0;34m,\u001b[0m\u001b[0;36m34\u001b[0m\u001b[0;34m,\u001b[0m\u001b[0;36m546\u001b[0m\u001b[0;34m)\u001b[0m\u001b[0;34m)\u001b[0m\u001b[0;34m\u001b[0m\u001b[0;34m\u001b[0m\u001b[0m\n\u001b[0m",
            "\u001b[0;31mTypeError\u001b[0m: 'tuple' object cannot be interpreted as an integer"
          ]
        }
      ]
    },
    {
      "cell_type": "code",
      "metadata": {
        "id": "p8azwj171bRE"
      },
      "source": [
        "a = [3,4,5]\n",
        "b = [5,6,7]"
      ],
      "execution_count": 52,
      "outputs": []
    },
    {
      "cell_type": "code",
      "metadata": {
        "id": "9ZbQnV-o1bRF",
        "outputId": "63e62be2-9ede-4bb7-fcc7-ef4d98e0848f",
        "colab": {
          "base_uri": "https://localhost:8080/"
        }
      },
      "source": [
        "for i in zip(a,b):\n",
        "    print(i)"
      ],
      "execution_count": 53,
      "outputs": [
        {
          "output_type": "stream",
          "text": [
            "(3, 5)\n",
            "(4, 6)\n",
            "(5, 7)\n"
          ],
          "name": "stdout"
        }
      ]
    },
    {
      "cell_type": "code",
      "metadata": {
        "id": "9z1fwIv11bRF",
        "outputId": "2153f74e-c67b-4e03-9e59-4bb324db9ba3",
        "colab": {
          "base_uri": "https://localhost:8080/"
        }
      },
      "source": [
        "a = input()"
      ],
      "execution_count": 54,
      "outputs": [
        {
          "output_type": "stream",
          "text": [
            "gmk\n"
          ],
          "name": "stdout"
        }
      ]
    },
    {
      "cell_type": "code",
      "metadata": {
        "id": "A459Dk3C1bRG",
        "outputId": "03826b1e-13ab-4140-b388-ef2a23903bdc",
        "colab": {
          "base_uri": "https://localhost:8080/",
          "height": 35
        }
      },
      "source": [
        "a"
      ],
      "execution_count": 55,
      "outputs": [
        {
          "output_type": "execute_result",
          "data": {
            "application/vnd.google.colaboratory.intrinsic+json": {
              "type": "string"
            },
            "text/plain": [
              "'gmk'"
            ]
          },
          "metadata": {
            "tags": []
          },
          "execution_count": 55
        }
      ]
    },
    {
      "cell_type": "code",
      "metadata": {
        "id": "u4sPBO3L1bRG"
      },
      "source": [
        ""
      ],
      "execution_count": null,
      "outputs": []
    }
  ]
}