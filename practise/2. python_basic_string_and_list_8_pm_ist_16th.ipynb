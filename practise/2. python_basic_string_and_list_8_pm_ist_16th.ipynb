{
  "nbformat": 4,
  "nbformat_minor": 0,
  "metadata": {
    "kernelspec": {
      "display_name": "Python 3",
      "language": "python",
      "name": "python3"
    },
    "language_info": {
      "codemirror_mode": {
        "name": "ipython",
        "version": 3
      },
      "file_extension": ".py",
      "mimetype": "text/x-python",
      "name": "python",
      "nbconvert_exporter": "python",
      "pygments_lexer": "ipython3",
      "version": "3.8.5"
    },
    "colab": {
      "name": "python basic string and list 8 pm ist 16th.ipynb",
      "provenance": []
    }
  },
  "cells": [
    {
      "cell_type": "code",
      "metadata": {
        "id": "720DhuFc3PUx"
      },
      "source": [
        "a = 10 "
      ],
      "execution_count": 1,
      "outputs": []
    },
    {
      "cell_type": "code",
      "metadata": {
        "id": "liPlkTkj3PU6"
      },
      "source": [
        "l = [12,34,45,45,454,54]"
      ],
      "execution_count": 2,
      "outputs": []
    },
    {
      "cell_type": "code",
      "metadata": {
        "id": "bBNEkRNw3PU8",
        "outputId": "e4833620-2210-41cb-8ea7-6f50f1be78b3",
        "colab": {
          "base_uri": "https://localhost:8080/"
        }
      },
      "source": [
        "type(l)"
      ],
      "execution_count": 3,
      "outputs": [
        {
          "output_type": "execute_result",
          "data": {
            "text/plain": [
              "list"
            ]
          },
          "metadata": {
            "tags": []
          },
          "execution_count": 3
        }
      ]
    },
    {
      "cell_type": "code",
      "metadata": {
        "id": "yKDnlGbJ3PU_"
      },
      "source": [
        "l1 = [34,345,\"sudh\" , True , 4+7j ,45.567, [45,56,676,\"sdf\",\"dfsfdgsf\"]]"
      ],
      "execution_count": 4,
      "outputs": []
    },
    {
      "cell_type": "code",
      "metadata": {
        "id": "daBRzwbx3PVA",
        "outputId": "7e67114e-5fb7-4093-c6a8-601d024535d8",
        "colab": {
          "base_uri": "https://localhost:8080/"
        }
      },
      "source": [
        "l1"
      ],
      "execution_count": 5,
      "outputs": [
        {
          "output_type": "execute_result",
          "data": {
            "text/plain": [
              "[34, 345, 'sudh', True, (4+7j), 45.567, [45, 56, 676, 'sdf', 'dfsfdgsf']]"
            ]
          },
          "metadata": {
            "tags": []
          },
          "execution_count": 5
        }
      ]
    },
    {
      "cell_type": "code",
      "metadata": {
        "id": "KOthLAOv3PVB"
      },
      "source": [
        "s = \"sudh dfsfsa fsd asdfas safs asdfas fasdf sfs\""
      ],
      "execution_count": 6,
      "outputs": []
    },
    {
      "cell_type": "code",
      "metadata": {
        "id": "gF0MzU3S3PVC",
        "outputId": "9b76d982-4134-4a30-a7e7-3190b3815a36",
        "colab": {
          "base_uri": "https://localhost:8080/"
        }
      },
      "source": [
        "l1[0]"
      ],
      "execution_count": 7,
      "outputs": [
        {
          "output_type": "execute_result",
          "data": {
            "text/plain": [
              "34"
            ]
          },
          "metadata": {
            "tags": []
          },
          "execution_count": 7
        }
      ]
    },
    {
      "cell_type": "code",
      "metadata": {
        "id": "5Ofg0q9z3PVD",
        "outputId": "7dc4333a-94e2-4087-edb8-13e438daa02c",
        "colab": {
          "base_uri": "https://localhost:8080/"
        }
      },
      "source": [
        "l1[6][1]"
      ],
      "execution_count": 8,
      "outputs": [
        {
          "output_type": "execute_result",
          "data": {
            "text/plain": [
              "56"
            ]
          },
          "metadata": {
            "tags": []
          },
          "execution_count": 8
        }
      ]
    },
    {
      "cell_type": "code",
      "metadata": {
        "id": "TK7Yzsr03PVE",
        "outputId": "b5bf3215-526b-498d-a294-b1f46bc697fb",
        "colab": {
          "base_uri": "https://localhost:8080/"
        }
      },
      "source": [
        "l1[-2]"
      ],
      "execution_count": 9,
      "outputs": [
        {
          "output_type": "execute_result",
          "data": {
            "text/plain": [
              "45.567"
            ]
          },
          "metadata": {
            "tags": []
          },
          "execution_count": 9
        }
      ]
    },
    {
      "cell_type": "code",
      "metadata": {
        "id": "81a3YF0C3PVF",
        "outputId": "b0258ca8-d03e-4daf-bbbf-f3d739d29519",
        "colab": {
          "base_uri": "https://localhost:8080/",
          "height": 163
        }
      },
      "source": [
        "l1[50]"
      ],
      "execution_count": 10,
      "outputs": [
        {
          "output_type": "error",
          "ename": "IndexError",
          "evalue": "ignored",
          "traceback": [
            "\u001b[0;31m---------------------------------------------------------------------------\u001b[0m",
            "\u001b[0;31mIndexError\u001b[0m                                Traceback (most recent call last)",
            "\u001b[0;32m<ipython-input-10-09fccc1e3311>\u001b[0m in \u001b[0;36m<module>\u001b[0;34m()\u001b[0m\n\u001b[0;32m----> 1\u001b[0;31m \u001b[0ml1\u001b[0m\u001b[0;34m[\u001b[0m\u001b[0;36m50\u001b[0m\u001b[0;34m]\u001b[0m\u001b[0;34m\u001b[0m\u001b[0;34m\u001b[0m\u001b[0m\n\u001b[0m",
            "\u001b[0;31mIndexError\u001b[0m: list index out of range"
          ]
        }
      ]
    },
    {
      "cell_type": "code",
      "metadata": {
        "id": "vw8wq4Va3PVG",
        "outputId": "beb0507e-711d-4d0b-d43b-95510fb4ec37",
        "colab": {
          "base_uri": "https://localhost:8080/",
          "height": 35
        }
      },
      "source": [
        "s"
      ],
      "execution_count": 11,
      "outputs": [
        {
          "output_type": "execute_result",
          "data": {
            "application/vnd.google.colaboratory.intrinsic+json": {
              "type": "string"
            },
            "text/plain": [
              "'sudh dfsfsa fsd asdfas safs asdfas fasdf sfs'"
            ]
          },
          "metadata": {
            "tags": []
          },
          "execution_count": 11
        }
      ]
    },
    {
      "cell_type": "code",
      "metadata": {
        "id": "8sO7hMYT3PVH",
        "outputId": "89455d13-3841-4335-a29a-fe9caa8977c0",
        "colab": {
          "base_uri": "https://localhost:8080/",
          "height": 35
        }
      },
      "source": [
        "s[0]"
      ],
      "execution_count": 12,
      "outputs": [
        {
          "output_type": "execute_result",
          "data": {
            "application/vnd.google.colaboratory.intrinsic+json": {
              "type": "string"
            },
            "text/plain": [
              "'s'"
            ]
          },
          "metadata": {
            "tags": []
          },
          "execution_count": 12
        }
      ]
    },
    {
      "cell_type": "code",
      "metadata": {
        "id": "5UJGKXRA3PVH",
        "outputId": "c2aeeaa4-f7ca-4f40-efec-e7ee774a361b",
        "colab": {
          "base_uri": "https://localhost:8080/",
          "height": 35
        }
      },
      "source": [
        "s[9]"
      ],
      "execution_count": 13,
      "outputs": [
        {
          "output_type": "execute_result",
          "data": {
            "application/vnd.google.colaboratory.intrinsic+json": {
              "type": "string"
            },
            "text/plain": [
              "'s'"
            ]
          },
          "metadata": {
            "tags": []
          },
          "execution_count": 13
        }
      ]
    },
    {
      "cell_type": "code",
      "metadata": {
        "id": "awl8PMba3PVI",
        "outputId": "f7e309da-6470-4486-d19c-1f71f28922dd",
        "colab": {
          "base_uri": "https://localhost:8080/",
          "height": 35
        }
      },
      "source": [
        "s[-2]"
      ],
      "execution_count": 14,
      "outputs": [
        {
          "output_type": "execute_result",
          "data": {
            "application/vnd.google.colaboratory.intrinsic+json": {
              "type": "string"
            },
            "text/plain": [
              "'f'"
            ]
          },
          "metadata": {
            "tags": []
          },
          "execution_count": 14
        }
      ]
    },
    {
      "cell_type": "code",
      "metadata": {
        "id": "lWN5zdkg3PVI",
        "outputId": "148103e9-2573-4011-913b-57ebe7ea2e5d",
        "colab": {
          "base_uri": "https://localhost:8080/",
          "height": 163
        }
      },
      "source": [
        "s[700]"
      ],
      "execution_count": 15,
      "outputs": [
        {
          "output_type": "error",
          "ename": "IndexError",
          "evalue": "ignored",
          "traceback": [
            "\u001b[0;31m---------------------------------------------------------------------------\u001b[0m",
            "\u001b[0;31mIndexError\u001b[0m                                Traceback (most recent call last)",
            "\u001b[0;32m<ipython-input-15-79ca5a5bac48>\u001b[0m in \u001b[0;36m<module>\u001b[0;34m()\u001b[0m\n\u001b[0;32m----> 1\u001b[0;31m \u001b[0ms\u001b[0m\u001b[0;34m[\u001b[0m\u001b[0;36m700\u001b[0m\u001b[0;34m]\u001b[0m\u001b[0;34m\u001b[0m\u001b[0;34m\u001b[0m\u001b[0m\n\u001b[0m",
            "\u001b[0;31mIndexError\u001b[0m: string index out of range"
          ]
        }
      ]
    },
    {
      "cell_type": "code",
      "metadata": {
        "id": "miCBTWhY3PVJ",
        "outputId": "701d4c0a-2671-41c1-db32-569924ac2427",
        "colab": {
          "base_uri": "https://localhost:8080/"
        }
      },
      "source": [
        "l1"
      ],
      "execution_count": 16,
      "outputs": [
        {
          "output_type": "execute_result",
          "data": {
            "text/plain": [
              "[34, 345, 'sudh', True, (4+7j), 45.567, [45, 56, 676, 'sdf', 'dfsfdgsf']]"
            ]
          },
          "metadata": {
            "tags": []
          },
          "execution_count": 16
        }
      ]
    },
    {
      "cell_type": "code",
      "metadata": {
        "id": "YbvV0C4l3PVJ",
        "outputId": "7a299970-afa1-4e3e-8295-d61105feefee",
        "colab": {
          "base_uri": "https://localhost:8080/",
          "height": 35
        }
      },
      "source": [
        "s"
      ],
      "execution_count": 17,
      "outputs": [
        {
          "output_type": "execute_result",
          "data": {
            "application/vnd.google.colaboratory.intrinsic+json": {
              "type": "string"
            },
            "text/plain": [
              "'sudh dfsfsa fsd asdfas safs asdfas fasdf sfs'"
            ]
          },
          "metadata": {
            "tags": []
          },
          "execution_count": 17
        }
      ]
    },
    {
      "cell_type": "code",
      "metadata": {
        "id": "ANMtdDZF3PVK",
        "outputId": "bc64b33b-c103-4ad0-ef00-6607c2cbeadb",
        "colab": {
          "base_uri": "https://localhost:8080/"
        }
      },
      "source": [
        "l1[0:70]"
      ],
      "execution_count": 18,
      "outputs": [
        {
          "output_type": "execute_result",
          "data": {
            "text/plain": [
              "[34, 345, 'sudh', True, (4+7j), 45.567, [45, 56, 676, 'sdf', 'dfsfdgsf']]"
            ]
          },
          "metadata": {
            "tags": []
          },
          "execution_count": 18
        }
      ]
    },
    {
      "cell_type": "code",
      "metadata": {
        "id": "3u9Dc1iE3PVK",
        "outputId": "2e31a34e-33fd-4aab-d5d6-86ddc799bcf7",
        "colab": {
          "base_uri": "https://localhost:8080/"
        }
      },
      "source": [
        "l1[0:10:1]"
      ],
      "execution_count": 19,
      "outputs": [
        {
          "output_type": "execute_result",
          "data": {
            "text/plain": [
              "[34, 345, 'sudh', True, (4+7j), 45.567, [45, 56, 676, 'sdf', 'dfsfdgsf']]"
            ]
          },
          "metadata": {
            "tags": []
          },
          "execution_count": 19
        }
      ]
    },
    {
      "cell_type": "code",
      "metadata": {
        "id": "Cx-3dir93PVL",
        "outputId": "cf245a8b-259f-4526-f7e3-b4c5ff93aacd",
        "colab": {
          "base_uri": "https://localhost:8080/"
        }
      },
      "source": [
        "l1[0:10:3]"
      ],
      "execution_count": 20,
      "outputs": [
        {
          "output_type": "execute_result",
          "data": {
            "text/plain": [
              "[34, True, [45, 56, 676, 'sdf', 'dfsfdgsf']]"
            ]
          },
          "metadata": {
            "tags": []
          },
          "execution_count": 20
        }
      ]
    },
    {
      "cell_type": "code",
      "metadata": {
        "id": "5FA5UE833PVL",
        "outputId": "47cdea47-e370-4f1d-fb0d-a85bbdf02fb9",
        "colab": {
          "base_uri": "https://localhost:8080/"
        }
      },
      "source": [
        "l1[10:0:-1]"
      ],
      "execution_count": 21,
      "outputs": [
        {
          "output_type": "execute_result",
          "data": {
            "text/plain": [
              "[[45, 56, 676, 'sdf', 'dfsfdgsf'], 45.567, (4+7j), True, 'sudh', 345]"
            ]
          },
          "metadata": {
            "tags": []
          },
          "execution_count": 21
        }
      ]
    },
    {
      "cell_type": "code",
      "metadata": {
        "id": "bJmlcmYR3PVM",
        "outputId": "cb62f79e-fe70-4e57-a158-7c40392fff1c",
        "colab": {
          "base_uri": "https://localhost:8080/"
        }
      },
      "source": [
        "l1[100:0:-2]"
      ],
      "execution_count": 22,
      "outputs": [
        {
          "output_type": "execute_result",
          "data": {
            "text/plain": [
              "[[45, 56, 676, 'sdf', 'dfsfdgsf'], (4+7j), 'sudh']"
            ]
          },
          "metadata": {
            "tags": []
          },
          "execution_count": 22
        }
      ]
    },
    {
      "cell_type": "code",
      "metadata": {
        "id": "AoOft8_O3PVM",
        "outputId": "e2ca6ed6-c163-48b7-e248-8b2ff2f2e11d",
        "colab": {
          "base_uri": "https://localhost:8080/"
        }
      },
      "source": [
        "l1[100::-1]"
      ],
      "execution_count": 23,
      "outputs": [
        {
          "output_type": "execute_result",
          "data": {
            "text/plain": [
              "[[45, 56, 676, 'sdf', 'dfsfdgsf'], 45.567, (4+7j), True, 'sudh', 345, 34]"
            ]
          },
          "metadata": {
            "tags": []
          },
          "execution_count": 23
        }
      ]
    },
    {
      "cell_type": "code",
      "metadata": {
        "id": "xSdehjHx3PVN",
        "outputId": "3da2e95f-d265-474c-c261-71278de91298",
        "colab": {
          "base_uri": "https://localhost:8080/"
        }
      },
      "source": [
        "l1[-2:100]"
      ],
      "execution_count": 24,
      "outputs": [
        {
          "output_type": "execute_result",
          "data": {
            "text/plain": [
              "[45.567, [45, 56, 676, 'sdf', 'dfsfdgsf']]"
            ]
          },
          "metadata": {
            "tags": []
          },
          "execution_count": 24
        }
      ]
    },
    {
      "cell_type": "code",
      "metadata": {
        "id": "Vd5zw9md3PVN",
        "outputId": "0af63b23-c4fc-4af4-cea7-599dbfe8ea4e",
        "colab": {
          "base_uri": "https://localhost:8080/"
        }
      },
      "source": [
        "l1"
      ],
      "execution_count": 25,
      "outputs": [
        {
          "output_type": "execute_result",
          "data": {
            "text/plain": [
              "[34, 345, 'sudh', True, (4+7j), 45.567, [45, 56, 676, 'sdf', 'dfsfdgsf']]"
            ]
          },
          "metadata": {
            "tags": []
          },
          "execution_count": 25
        }
      ]
    },
    {
      "cell_type": "code",
      "metadata": {
        "id": "eB2q2fS_3PVO",
        "outputId": "41c0632c-39b7-42bf-c5f2-b74b587a8caa",
        "colab": {
          "base_uri": "https://localhost:8080/"
        }
      },
      "source": [
        "l1[-2:100:-1]"
      ],
      "execution_count": 26,
      "outputs": [
        {
          "output_type": "execute_result",
          "data": {
            "text/plain": [
              "[]"
            ]
          },
          "metadata": {
            "tags": []
          },
          "execution_count": 26
        }
      ]
    },
    {
      "cell_type": "code",
      "metadata": {
        "id": "dPsGeDeA3PVO",
        "outputId": "7fb9584e-1053-4a95-fbdf-c1e4dd02b8cc",
        "colab": {
          "base_uri": "https://localhost:8080/",
          "height": 35
        }
      },
      "source": [
        "s"
      ],
      "execution_count": 27,
      "outputs": [
        {
          "output_type": "execute_result",
          "data": {
            "application/vnd.google.colaboratory.intrinsic+json": {
              "type": "string"
            },
            "text/plain": [
              "'sudh dfsfsa fsd asdfas safs asdfas fasdf sfs'"
            ]
          },
          "metadata": {
            "tags": []
          },
          "execution_count": 27
        }
      ]
    },
    {
      "cell_type": "code",
      "metadata": {
        "id": "rG7wO6lp3PVO",
        "outputId": "840956fe-2bfe-466f-b33b-926485cdc4a1",
        "colab": {
          "base_uri": "https://localhost:8080/",
          "height": 35
        }
      },
      "source": [
        "s[0]"
      ],
      "execution_count": 28,
      "outputs": [
        {
          "output_type": "execute_result",
          "data": {
            "application/vnd.google.colaboratory.intrinsic+json": {
              "type": "string"
            },
            "text/plain": [
              "'s'"
            ]
          },
          "metadata": {
            "tags": []
          },
          "execution_count": 28
        }
      ]
    },
    {
      "cell_type": "code",
      "metadata": {
        "id": "J5tZ3bRU3PVT",
        "outputId": "da9274c4-e5bc-485c-e042-3588eed5fb4f",
        "colab": {
          "base_uri": "https://localhost:8080/",
          "height": 35
        }
      },
      "source": [
        "s[0:10:1]"
      ],
      "execution_count": 29,
      "outputs": [
        {
          "output_type": "execute_result",
          "data": {
            "application/vnd.google.colaboratory.intrinsic+json": {
              "type": "string"
            },
            "text/plain": [
              "'sudh dfsfs'"
            ]
          },
          "metadata": {
            "tags": []
          },
          "execution_count": 29
        }
      ]
    },
    {
      "cell_type": "code",
      "metadata": {
        "id": "PScR37Qi3PVU",
        "outputId": "ae648465-8b88-4654-f34b-26042b32618b",
        "colab": {
          "base_uri": "https://localhost:8080/",
          "height": 35
        }
      },
      "source": [
        "s[::-1]"
      ],
      "execution_count": 30,
      "outputs": [
        {
          "output_type": "execute_result",
          "data": {
            "application/vnd.google.colaboratory.intrinsic+json": {
              "type": "string"
            },
            "text/plain": [
              "'sfs fdsaf safdsa sfas safdsa dsf asfsfd hdus'"
            ]
          },
          "metadata": {
            "tags": []
          },
          "execution_count": 30
        }
      ]
    },
    {
      "cell_type": "code",
      "metadata": {
        "id": "leEJGRZR3PVU",
        "outputId": "7c44efec-62a5-4a5c-a73a-5e5437916fcc",
        "colab": {
          "base_uri": "https://localhost:8080/",
          "height": 35
        }
      },
      "source": [
        "s[3:20:-1]"
      ],
      "execution_count": 31,
      "outputs": [
        {
          "output_type": "execute_result",
          "data": {
            "application/vnd.google.colaboratory.intrinsic+json": {
              "type": "string"
            },
            "text/plain": [
              "''"
            ]
          },
          "metadata": {
            "tags": []
          },
          "execution_count": 31
        }
      ]
    },
    {
      "cell_type": "code",
      "metadata": {
        "id": "4kAPluCE3PVV",
        "outputId": "dc3e4a6b-1108-4d98-999d-8444a33e0479",
        "colab": {
          "base_uri": "https://localhost:8080/",
          "height": 35
        }
      },
      "source": [
        "s[20:3:-1]"
      ],
      "execution_count": 32,
      "outputs": [
        {
          "output_type": "execute_result",
          "data": {
            "application/vnd.google.colaboratory.intrinsic+json": {
              "type": "string"
            },
            "text/plain": [
              "'afdsa dsf asfsfd '"
            ]
          },
          "metadata": {
            "tags": []
          },
          "execution_count": 32
        }
      ]
    },
    {
      "cell_type": "code",
      "metadata": {
        "id": "MfofXPwZ3PVW",
        "outputId": "48dd8531-c18b-4c1c-89dd-6ca57d5acf31",
        "colab": {
          "base_uri": "https://localhost:8080/",
          "height": 35
        }
      },
      "source": [
        "s[20:3:-2]"
      ],
      "execution_count": 33,
      "outputs": [
        {
          "output_type": "execute_result",
          "data": {
            "application/vnd.google.colaboratory.intrinsic+json": {
              "type": "string"
            },
            "text/plain": [
              "'adadfaff '"
            ]
          },
          "metadata": {
            "tags": []
          },
          "execution_count": 33
        }
      ]
    },
    {
      "cell_type": "code",
      "metadata": {
        "id": "WcQmWKWj3PVX",
        "outputId": "0181d001-0a19-4a7c-9526-f3254c82b781",
        "colab": {
          "base_uri": "https://localhost:8080/"
        }
      },
      "source": [
        "range(10)"
      ],
      "execution_count": 34,
      "outputs": [
        {
          "output_type": "execute_result",
          "data": {
            "text/plain": [
              "range(0, 10)"
            ]
          },
          "metadata": {
            "tags": []
          },
          "execution_count": 34
        }
      ]
    },
    {
      "cell_type": "code",
      "metadata": {
        "id": "H7qWKFSQ3PVX",
        "outputId": "b25435a0-0e17-48c8-dfff-9099171f8365",
        "colab": {
          "base_uri": "https://localhost:8080/"
        }
      },
      "source": [
        "list(range(10))"
      ],
      "execution_count": 35,
      "outputs": [
        {
          "output_type": "execute_result",
          "data": {
            "text/plain": [
              "[0, 1, 2, 3, 4, 5, 6, 7, 8, 9]"
            ]
          },
          "metadata": {
            "tags": []
          },
          "execution_count": 35
        }
      ]
    },
    {
      "cell_type": "code",
      "metadata": {
        "id": "vMcjICXw3PVY",
        "outputId": "ab9488ea-d3b8-4856-f7f3-0b963695655e",
        "colab": {
          "base_uri": "https://localhost:8080/"
        }
      },
      "source": [
        "list(range(2,20))"
      ],
      "execution_count": 36,
      "outputs": [
        {
          "output_type": "execute_result",
          "data": {
            "text/plain": [
              "[2, 3, 4, 5, 6, 7, 8, 9, 10, 11, 12, 13, 14, 15, 16, 17, 18, 19]"
            ]
          },
          "metadata": {
            "tags": []
          },
          "execution_count": 36
        }
      ]
    },
    {
      "cell_type": "code",
      "metadata": {
        "id": "5ItXctPw3PVZ",
        "outputId": "8a398ff4-0076-4ddf-db68-093383fa661c",
        "colab": {
          "base_uri": "https://localhost:8080/"
        }
      },
      "source": [
        "list(range(2,20,-1))"
      ],
      "execution_count": 37,
      "outputs": [
        {
          "output_type": "execute_result",
          "data": {
            "text/plain": [
              "[]"
            ]
          },
          "metadata": {
            "tags": []
          },
          "execution_count": 37
        }
      ]
    },
    {
      "cell_type": "code",
      "metadata": {
        "id": "DmRiAPe23PVZ",
        "outputId": "d3d00f94-f04a-4a9d-ff12-cd543f172915",
        "colab": {
          "base_uri": "https://localhost:8080/"
        }
      },
      "source": [
        "list(range(20,2,-1))"
      ],
      "execution_count": 38,
      "outputs": [
        {
          "output_type": "execute_result",
          "data": {
            "text/plain": [
              "[20, 19, 18, 17, 16, 15, 14, 13, 12, 11, 10, 9, 8, 7, 6, 5, 4, 3]"
            ]
          },
          "metadata": {
            "tags": []
          },
          "execution_count": 38
        }
      ]
    },
    {
      "cell_type": "code",
      "metadata": {
        "id": "Ds2T8Ey13PVa",
        "outputId": "53b7d1eb-7606-4b88-d073-a92adc4121c3",
        "colab": {
          "base_uri": "https://localhost:8080/"
        }
      },
      "source": [
        "list(range(0,101,5))"
      ],
      "execution_count": 39,
      "outputs": [
        {
          "output_type": "execute_result",
          "data": {
            "text/plain": [
              "[0,\n",
              " 5,\n",
              " 10,\n",
              " 15,\n",
              " 20,\n",
              " 25,\n",
              " 30,\n",
              " 35,\n",
              " 40,\n",
              " 45,\n",
              " 50,\n",
              " 55,\n",
              " 60,\n",
              " 65,\n",
              " 70,\n",
              " 75,\n",
              " 80,\n",
              " 85,\n",
              " 90,\n",
              " 95,\n",
              " 100]"
            ]
          },
          "metadata": {
            "tags": []
          },
          "execution_count": 39
        }
      ]
    },
    {
      "cell_type": "code",
      "metadata": {
        "id": "yuacYtzC3PVa",
        "outputId": "57732f06-f957-4dd0-89ac-a3ed26a47403",
        "colab": {
          "base_uri": "https://localhost:8080/"
        }
      },
      "source": [
        "l = int(input(\"insert lower bound of data \"))\n",
        "u = int(input(\"insert upper bound of data\"))\n",
        "s = int(input(\"insert step size of data\"))\n",
        "list(range(l,u,s))"
      ],
      "execution_count": 40,
      "outputs": [
        {
          "output_type": "stream",
          "text": [
            "insert lower bound of data 1\n",
            "insert upper bound of data100\n",
            "insert step size of data10\n"
          ],
          "name": "stdout"
        },
        {
          "output_type": "execute_result",
          "data": {
            "text/plain": [
              "[1, 11, 21, 31, 41, 51, 61, 71, 81, 91]"
            ]
          },
          "metadata": {
            "tags": []
          },
          "execution_count": 40
        }
      ]
    },
    {
      "cell_type": "code",
      "metadata": {
        "id": "P1bljbzV3PVb"
      },
      "source": [
        "l = [[23,234,45,454,545,45],[234,545,6456,546,645,665],[45,34,544,54,54,\"sudh\"],\"sudh\",\"kumar\"]"
      ],
      "execution_count": 41,
      "outputs": []
    },
    {
      "cell_type": "code",
      "metadata": {
        "id": "C5-Swx6G3PVc",
        "outputId": "93d85bce-2b76-4a24-9f93-c551826fc5b1",
        "colab": {
          "base_uri": "https://localhost:8080/"
        }
      },
      "source": [
        "l[0:3][2]"
      ],
      "execution_count": 42,
      "outputs": [
        {
          "output_type": "execute_result",
          "data": {
            "text/plain": [
              "[45, 34, 544, 54, 54, 'sudh']"
            ]
          },
          "metadata": {
            "tags": []
          },
          "execution_count": 42
        }
      ]
    },
    {
      "cell_type": "code",
      "metadata": {
        "id": "JP36ioq03PVc",
        "outputId": "6fb2247a-fd95-4ffc-f6a3-4bf99eeb57af",
        "colab": {
          "base_uri": "https://localhost:8080/"
        }
      },
      "source": [
        "l[:][2]"
      ],
      "execution_count": 43,
      "outputs": [
        {
          "output_type": "execute_result",
          "data": {
            "text/plain": [
              "[45, 34, 544, 54, 54, 'sudh']"
            ]
          },
          "metadata": {
            "tags": []
          },
          "execution_count": 43
        }
      ]
    },
    {
      "cell_type": "code",
      "metadata": {
        "id": "0vjJS59K3PVd",
        "outputId": "ac07c023-5e46-4e55-e4b2-15ccda4e003f",
        "colab": {
          "base_uri": "https://localhost:8080/"
        }
      },
      "source": [
        "[45,6456,544]"
      ],
      "execution_count": 44,
      "outputs": [
        {
          "output_type": "execute_result",
          "data": {
            "text/plain": [
              "[45, 6456, 544]"
            ]
          },
          "metadata": {
            "tags": []
          },
          "execution_count": 44
        }
      ]
    },
    {
      "cell_type": "code",
      "metadata": {
        "id": "kDVmxK353PVd",
        "outputId": "33225589-6e63-4c5b-83a3-18bb548516a3",
        "colab": {
          "base_uri": "https://localhost:8080/"
        }
      },
      "source": [
        "l[::][2]"
      ],
      "execution_count": 45,
      "outputs": [
        {
          "output_type": "execute_result",
          "data": {
            "text/plain": [
              "[45, 34, 544, 54, 54, 'sudh']"
            ]
          },
          "metadata": {
            "tags": []
          },
          "execution_count": 45
        }
      ]
    },
    {
      "cell_type": "code",
      "metadata": {
        "id": "Wr2LAhSE3PVd",
        "outputId": "f9c1cfdd-86b3-4c86-8149-bf6bed245abd",
        "colab": {
          "base_uri": "https://localhost:8080/"
        }
      },
      "source": [
        "l2 = []\n",
        "for i in l :\n",
        "    if type(i) == list:\n",
        "        l2.append(i[2])\n",
        "print(l2)"
      ],
      "execution_count": 46,
      "outputs": [
        {
          "output_type": "stream",
          "text": [
            "[45, 6456, 544]\n"
          ],
          "name": "stdout"
        }
      ]
    },
    {
      "cell_type": "code",
      "metadata": {
        "id": "da1tuIUl3PVe",
        "outputId": "99597575-b7dc-4777-a321-113bfd36245a",
        "colab": {
          "base_uri": "https://localhost:8080/"
        }
      },
      "source": [
        "[l[0][2],l[1][2],l[2][2]]"
      ],
      "execution_count": 47,
      "outputs": [
        {
          "output_type": "execute_result",
          "data": {
            "text/plain": [
              "[45, 6456, 544]"
            ]
          },
          "metadata": {
            "tags": []
          },
          "execution_count": 47
        }
      ]
    },
    {
      "cell_type": "code",
      "metadata": {
        "id": "BjDs9Pqs3PVe",
        "outputId": "347bb478-4d70-4f02-925d-15414df729c2",
        "colab": {
          "base_uri": "https://localhost:8080/"
        }
      },
      "source": [
        "l[0:3][2][0:3]"
      ],
      "execution_count": 48,
      "outputs": [
        {
          "output_type": "execute_result",
          "data": {
            "text/plain": [
              "[45, 34, 544]"
            ]
          },
          "metadata": {
            "tags": []
          },
          "execution_count": 48
        }
      ]
    },
    {
      "cell_type": "code",
      "metadata": {
        "id": "UF3zyjul3PVf",
        "outputId": "d456375e-2a91-40b1-b0b8-c6152c32a87f",
        "colab": {
          "base_uri": "https://localhost:8080/"
        }
      },
      "source": [
        "l[0:3]"
      ],
      "execution_count": 49,
      "outputs": [
        {
          "output_type": "execute_result",
          "data": {
            "text/plain": [
              "[[23, 234, 45, 454, 545, 45],\n",
              " [234, 545, 6456, 546, 645, 665],\n",
              " [45, 34, 544, 54, 54, 'sudh']]"
            ]
          },
          "metadata": {
            "tags": []
          },
          "execution_count": 49
        }
      ]
    },
    {
      "cell_type": "code",
      "metadata": {
        "id": "p7-ki0_y3PVf",
        "outputId": "97dd72b3-b6ff-42f3-d25e-30a8600c58a8",
        "colab": {
          "base_uri": "https://localhost:8080/"
        }
      },
      "source": [
        "l[0:3][2][0:3]"
      ],
      "execution_count": 50,
      "outputs": [
        {
          "output_type": "execute_result",
          "data": {
            "text/plain": [
              "[45, 34, 544]"
            ]
          },
          "metadata": {
            "tags": []
          },
          "execution_count": 50
        }
      ]
    },
    {
      "cell_type": "code",
      "metadata": {
        "id": "-SEy3dsC3PVg"
      },
      "source": [
        "income = 30000\n",
        "if a > 30000:\n",
        "    print(\" i will buy a car\")"
      ],
      "execution_count": 51,
      "outputs": []
    },
    {
      "cell_type": "code",
      "metadata": {
        "id": "sjnhXePe3PVg"
      },
      "source": [
        "if a>3000:\n",
        "    pass\n",
        "    "
      ],
      "execution_count": 52,
      "outputs": []
    },
    {
      "cell_type": "code",
      "metadata": {
        "id": "VAYfkN3E3PVh",
        "outputId": "e7679576-35ae-4535-a6fa-f383c35b9f49",
        "colab": {
          "base_uri": "https://localhost:8080/",
          "height": 129
        }
      },
      "source": [
        "if income > 30000:\n",
        "    "
      ],
      "execution_count": 53,
      "outputs": [
        {
          "output_type": "error",
          "ename": "SyntaxError",
          "evalue": "ignored",
          "traceback": [
            "\u001b[0;36m  File \u001b[0;32m\"<ipython-input-53-1a75b508300a>\"\u001b[0;36m, line \u001b[0;32m2\u001b[0m\n\u001b[0;31m    \u001b[0m\n\u001b[0m    ^\u001b[0m\n\u001b[0;31mSyntaxError\u001b[0m\u001b[0;31m:\u001b[0m unexpected EOF while parsing\n"
          ]
        }
      ]
    },
    {
      "cell_type": "code",
      "metadata": {
        "id": "GRdIrVVc3PVh",
        "outputId": "c9004657-89cc-4f61-fd80-51d2d193a1dc",
        "colab": {
          "base_uri": "https://localhost:8080/"
        }
      },
      "source": [
        "income > 30000"
      ],
      "execution_count": 54,
      "outputs": [
        {
          "output_type": "execute_result",
          "data": {
            "text/plain": [
              "False"
            ]
          },
          "metadata": {
            "tags": []
          },
          "execution_count": 54
        }
      ]
    },
    {
      "cell_type": "code",
      "metadata": {
        "id": "MotFvl8P3PVi",
        "outputId": "0bb51862-c8e7-4671-eabe-0bd40498dbfd",
        "colab": {
          "base_uri": "https://localhost:8080/"
        }
      },
      "source": [
        "income <30000"
      ],
      "execution_count": 55,
      "outputs": [
        {
          "output_type": "execute_result",
          "data": {
            "text/plain": [
              "False"
            ]
          },
          "metadata": {
            "tags": []
          },
          "execution_count": 55
        }
      ]
    },
    {
      "cell_type": "code",
      "metadata": {
        "id": "GThPtKpQ3PVi",
        "outputId": "02312e42-02df-4e81-be05-60ab7a420bfb",
        "colab": {
          "base_uri": "https://localhost:8080/"
        }
      },
      "source": [
        "income = int(input(\"enter your income \"))"
      ],
      "execution_count": 56,
      "outputs": [
        {
          "output_type": "stream",
          "text": [
            "enter your income 100000\n"
          ],
          "name": "stdout"
        }
      ]
    },
    {
      "cell_type": "code",
      "metadata": {
        "id": "HmwjGpZY3PVj",
        "outputId": "c2515c6f-ebd1-4b2c-b363-b90a1a2a5e51",
        "colab": {
          "base_uri": "https://localhost:8080/"
        }
      },
      "source": [
        "if income> 30000:\n",
        "    print(\"yes i can buy \")\n",
        "    if 3<4:\n",
        "        print(\"yes this statemnt is vaid \")\n",
        "    else:\n",
        "        print(\"this statemnt is not valid\")\n",
        "    \n",
        "elif income <2000:\n",
        "    print(\"i can buy a bike\")\n",
        "    if 3<4:\n",
        "        print(\"yes this statemnt is vaid \")\n",
        "    else:\n",
        "        print(\"this statemnt is not valid\")\n",
        "else :\n",
        "    print(\"no i cant buy\")\n",
        "    if 3<4:\n",
        "        print(\"yes this statemnt is vaid \")\n",
        "    else:\n",
        "        print(\"this statemnt is not valid\")"
      ],
      "execution_count": 57,
      "outputs": [
        {
          "output_type": "stream",
          "text": [
            "yes i can buy \n",
            "yes this statemnt is vaid \n"
          ],
          "name": "stdout"
        }
      ]
    },
    {
      "cell_type": "code",
      "metadata": {
        "id": "h9sSUclI3PVl"
      },
      "source": [
        ""
      ],
      "execution_count": 57,
      "outputs": []
    }
  ]
}