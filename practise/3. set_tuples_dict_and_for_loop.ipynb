{
  "nbformat": 4,
  "nbformat_minor": 0,
  "metadata": {
    "kernelspec": {
      "display_name": "Python 3",
      "language": "python",
      "name": "python3"
    },
    "language_info": {
      "codemirror_mode": {
        "name": "ipython",
        "version": 3
      },
      "file_extension": ".py",
      "mimetype": "text/x-python",
      "name": "python",
      "nbconvert_exporter": "python",
      "pygments_lexer": "ipython3",
      "version": "3.8.5"
    },
    "colab": {
      "name": "set tuples dict and for loop.ipynb",
      "provenance": []
    }
  },
  "cells": [
    {
      "cell_type": "code",
      "metadata": {
        "id": "D0-OYN1E97-L"
      },
      "source": [
        "t = (4,5,6,7,\"sudh\",\"kumar\")"
      ],
      "execution_count": 1,
      "outputs": []
    },
    {
      "cell_type": "code",
      "metadata": {
        "id": "VAjbfmcl97-P",
        "outputId": "be90700d-9384-4df3-a4f2-0bc7174b18ba",
        "colab": {
          "base_uri": "https://localhost:8080/"
        }
      },
      "source": [
        "t"
      ],
      "execution_count": 2,
      "outputs": [
        {
          "output_type": "execute_result",
          "data": {
            "text/plain": [
              "(4, 5, 6, 7, 'sudh', 'kumar')"
            ]
          },
          "metadata": {
            "tags": []
          },
          "execution_count": 2
        }
      ]
    },
    {
      "cell_type": "code",
      "metadata": {
        "id": "7s4bfE5a97-R"
      },
      "source": [
        "l  = [3,4,5,6,7,\"sudh\"]"
      ],
      "execution_count": 3,
      "outputs": []
    },
    {
      "cell_type": "code",
      "metadata": {
        "id": "aKxyBHZN97-R",
        "outputId": "af685ea1-207c-4059-d981-246f2172493f",
        "colab": {
          "base_uri": "https://localhost:8080/"
        }
      },
      "source": [
        "l"
      ],
      "execution_count": 4,
      "outputs": [
        {
          "output_type": "execute_result",
          "data": {
            "text/plain": [
              "[3, 4, 5, 6, 7, 'sudh']"
            ]
          },
          "metadata": {
            "tags": []
          },
          "execution_count": 4
        }
      ]
    },
    {
      "cell_type": "code",
      "metadata": {
        "id": "7rxe-j8N97-S",
        "outputId": "b7df74a7-8487-4646-864b-2d226bea5af0",
        "colab": {
          "base_uri": "https://localhost:8080/"
        }
      },
      "source": [
        "type(t)"
      ],
      "execution_count": 5,
      "outputs": [
        {
          "output_type": "execute_result",
          "data": {
            "text/plain": [
              "tuple"
            ]
          },
          "metadata": {
            "tags": []
          },
          "execution_count": 5
        }
      ]
    },
    {
      "cell_type": "code",
      "metadata": {
        "id": "ZoWjxbM997-S",
        "outputId": "f1019dee-1201-4156-8249-833529e571d9",
        "colab": {
          "base_uri": "https://localhost:8080/"
        }
      },
      "source": [
        "type(l)"
      ],
      "execution_count": 6,
      "outputs": [
        {
          "output_type": "execute_result",
          "data": {
            "text/plain": [
              "list"
            ]
          },
          "metadata": {
            "tags": []
          },
          "execution_count": 6
        }
      ]
    },
    {
      "cell_type": "code",
      "metadata": {
        "id": "wUgBXQuN97-T",
        "outputId": "32b97cf8-1bac-4274-d68f-13baf6e25d97",
        "colab": {
          "base_uri": "https://localhost:8080/"
        }
      },
      "source": [
        "l[0]"
      ],
      "execution_count": 7,
      "outputs": [
        {
          "output_type": "execute_result",
          "data": {
            "text/plain": [
              "3"
            ]
          },
          "metadata": {
            "tags": []
          },
          "execution_count": 7
        }
      ]
    },
    {
      "cell_type": "code",
      "metadata": {
        "id": "tJ_T4xbn97-T",
        "outputId": "8e65f7e9-de5f-41a5-c7a1-c1c3587849d2",
        "colab": {
          "base_uri": "https://localhost:8080/"
        }
      },
      "source": [
        "t[0]"
      ],
      "execution_count": 8,
      "outputs": [
        {
          "output_type": "execute_result",
          "data": {
            "text/plain": [
              "4"
            ]
          },
          "metadata": {
            "tags": []
          },
          "execution_count": 8
        }
      ]
    },
    {
      "cell_type": "code",
      "metadata": {
        "id": "XXSBWlCE97-U",
        "outputId": "c2114a3e-0318-4987-ffd4-8d6aef46d6f2",
        "colab": {
          "base_uri": "https://localhost:8080/"
        }
      },
      "source": [
        "t"
      ],
      "execution_count": 9,
      "outputs": [
        {
          "output_type": "execute_result",
          "data": {
            "text/plain": [
              "(4, 5, 6, 7, 'sudh', 'kumar')"
            ]
          },
          "metadata": {
            "tags": []
          },
          "execution_count": 9
        }
      ]
    },
    {
      "cell_type": "code",
      "metadata": {
        "id": "4di3pE-Z97-U",
        "outputId": "118569b1-0cfc-4098-92d4-dbac7ee3bbc0",
        "colab": {
          "base_uri": "https://localhost:8080/",
          "height": 35
        }
      },
      "source": [
        "t[-1]"
      ],
      "execution_count": 10,
      "outputs": [
        {
          "output_type": "execute_result",
          "data": {
            "application/vnd.google.colaboratory.intrinsic+json": {
              "type": "string"
            },
            "text/plain": [
              "'kumar'"
            ]
          },
          "metadata": {
            "tags": []
          },
          "execution_count": 10
        }
      ]
    },
    {
      "cell_type": "code",
      "metadata": {
        "id": "iirfh9Ve97-V",
        "outputId": "b455dbf7-ef32-40a6-ba87-77dfb8f8a144",
        "colab": {
          "base_uri": "https://localhost:8080/"
        }
      },
      "source": [
        "t[0:3:-1]"
      ],
      "execution_count": 11,
      "outputs": [
        {
          "output_type": "execute_result",
          "data": {
            "text/plain": [
              "()"
            ]
          },
          "metadata": {
            "tags": []
          },
          "execution_count": 11
        }
      ]
    },
    {
      "cell_type": "code",
      "metadata": {
        "id": "u2SkdErU97-V",
        "outputId": "fef121ed-bf11-4644-93e4-4e99e1fffb49",
        "colab": {
          "base_uri": "https://localhost:8080/"
        }
      },
      "source": [
        "t[4:0:-1]"
      ],
      "execution_count": 12,
      "outputs": [
        {
          "output_type": "execute_result",
          "data": {
            "text/plain": [
              "('sudh', 7, 6, 5)"
            ]
          },
          "metadata": {
            "tags": []
          },
          "execution_count": 12
        }
      ]
    },
    {
      "cell_type": "code",
      "metadata": {
        "id": "ZPMToUTN97-W",
        "outputId": "f58b690c-35fd-4b93-c6d8-465f74e2b9b6",
        "colab": {
          "base_uri": "https://localhost:8080/"
        }
      },
      "source": [
        "l[0:3]"
      ],
      "execution_count": 13,
      "outputs": [
        {
          "output_type": "execute_result",
          "data": {
            "text/plain": [
              "[3, 4, 5]"
            ]
          },
          "metadata": {
            "tags": []
          },
          "execution_count": 13
        }
      ]
    },
    {
      "cell_type": "code",
      "metadata": {
        "id": "u7tElZpJ97-W",
        "outputId": "3bf5f0e4-c15f-4e18-bb98-b21d544828da",
        "colab": {
          "base_uri": "https://localhost:8080/"
        }
      },
      "source": [
        "l"
      ],
      "execution_count": 14,
      "outputs": [
        {
          "output_type": "execute_result",
          "data": {
            "text/plain": [
              "[3, 4, 5, 6, 7, 'sudh']"
            ]
          },
          "metadata": {
            "tags": []
          },
          "execution_count": 14
        }
      ]
    },
    {
      "cell_type": "code",
      "metadata": {
        "id": "KWX9cFhp97-W",
        "outputId": "76891662-55c0-4988-c731-1dd0f778542b",
        "colab": {
          "base_uri": "https://localhost:8080/"
        }
      },
      "source": [
        "t"
      ],
      "execution_count": 15,
      "outputs": [
        {
          "output_type": "execute_result",
          "data": {
            "text/plain": [
              "(4, 5, 6, 7, 'sudh', 'kumar')"
            ]
          },
          "metadata": {
            "tags": []
          },
          "execution_count": 15
        }
      ]
    },
    {
      "cell_type": "code",
      "metadata": {
        "id": "ptS1vNnv97-X"
      },
      "source": [
        "l[0] = 34"
      ],
      "execution_count": 16,
      "outputs": []
    },
    {
      "cell_type": "code",
      "metadata": {
        "id": "UuySGSM997-X",
        "outputId": "554a94a2-a3bd-48c0-abd4-160a2a67253f",
        "colab": {
          "base_uri": "https://localhost:8080/"
        }
      },
      "source": [
        "l"
      ],
      "execution_count": 17,
      "outputs": [
        {
          "output_type": "execute_result",
          "data": {
            "text/plain": [
              "[34, 4, 5, 6, 7, 'sudh']"
            ]
          },
          "metadata": {
            "tags": []
          },
          "execution_count": 17
        }
      ]
    },
    {
      "cell_type": "code",
      "metadata": {
        "id": "d5B4qaLh97-X",
        "outputId": "6bb08ffc-3cfe-4992-e095-9aa1bff22d3d",
        "colab": {
          "base_uri": "https://localhost:8080/",
          "height": 163
        }
      },
      "source": [
        "t[0] = 234"
      ],
      "execution_count": 18,
      "outputs": [
        {
          "output_type": "error",
          "ename": "TypeError",
          "evalue": "ignored",
          "traceback": [
            "\u001b[0;31m---------------------------------------------------------------------------\u001b[0m",
            "\u001b[0;31mTypeError\u001b[0m                                 Traceback (most recent call last)",
            "\u001b[0;32m<ipython-input-18-bac8d1cf9b35>\u001b[0m in \u001b[0;36m<module>\u001b[0;34m()\u001b[0m\n\u001b[0;32m----> 1\u001b[0;31m \u001b[0mt\u001b[0m\u001b[0;34m[\u001b[0m\u001b[0;36m0\u001b[0m\u001b[0;34m]\u001b[0m \u001b[0;34m=\u001b[0m \u001b[0;36m234\u001b[0m\u001b[0;34m\u001b[0m\u001b[0;34m\u001b[0m\u001b[0m\n\u001b[0m",
            "\u001b[0;31mTypeError\u001b[0m: 'tuple' object does not support item assignment"
          ]
        }
      ]
    },
    {
      "cell_type": "code",
      "metadata": {
        "id": "Ftx6s44997-Y"
      },
      "source": [
        "t = [5,6,7,8]"
      ],
      "execution_count": 19,
      "outputs": []
    },
    {
      "cell_type": "code",
      "metadata": {
        "id": "RMYXN4ID97-Y",
        "outputId": "30acee51-7108-4b43-a8f8-7d4e49f383f4",
        "colab": {
          "base_uri": "https://localhost:8080/"
        }
      },
      "source": [
        "t"
      ],
      "execution_count": 20,
      "outputs": [
        {
          "output_type": "execute_result",
          "data": {
            "text/plain": [
              "[5, 6, 7, 8]"
            ]
          },
          "metadata": {
            "tags": []
          },
          "execution_count": 20
        }
      ]
    },
    {
      "cell_type": "code",
      "metadata": {
        "id": "-X6-RXvc97-Y"
      },
      "source": [
        "t = (4,5,6,7,[2,3,4,5,6] , \"sudh\",True,4+7j, 45.56, (3,4,5,6,7))"
      ],
      "execution_count": 21,
      "outputs": []
    },
    {
      "cell_type": "code",
      "metadata": {
        "id": "w1GIw6VR97-Y",
        "outputId": "a27d4979-6162-4427-d9c7-7adff88cce2d",
        "colab": {
          "base_uri": "https://localhost:8080/"
        }
      },
      "source": [
        "t"
      ],
      "execution_count": 22,
      "outputs": [
        {
          "output_type": "execute_result",
          "data": {
            "text/plain": [
              "(4, 5, 6, 7, [2, 3, 4, 5, 6], 'sudh', True, (4+7j), 45.56, (3, 4, 5, 6, 7))"
            ]
          },
          "metadata": {
            "tags": []
          },
          "execution_count": 22
        }
      ]
    },
    {
      "cell_type": "code",
      "metadata": {
        "id": "K_ihEHpk97-Z"
      },
      "source": [
        "l = [(3,4,5,6,7) , (4,5,6,7)]"
      ],
      "execution_count": 23,
      "outputs": []
    },
    {
      "cell_type": "code",
      "metadata": {
        "id": "OXpPwmlw97-Z",
        "outputId": "4d59c4b4-1845-4ac5-ad23-0cffaf5875f1",
        "colab": {
          "base_uri": "https://localhost:8080/"
        }
      },
      "source": [
        "l"
      ],
      "execution_count": 24,
      "outputs": [
        {
          "output_type": "execute_result",
          "data": {
            "text/plain": [
              "[(3, 4, 5, 6, 7), (4, 5, 6, 7)]"
            ]
          },
          "metadata": {
            "tags": []
          },
          "execution_count": 24
        }
      ]
    },
    {
      "cell_type": "code",
      "metadata": {
        "id": "PrXmp4Uh97-Z"
      },
      "source": [
        "s= {}"
      ],
      "execution_count": 25,
      "outputs": []
    },
    {
      "cell_type": "code",
      "metadata": {
        "id": "1sKceJxh97-Z",
        "outputId": "08e777c8-b987-401b-ff69-1856cb25c84b",
        "colab": {
          "base_uri": "https://localhost:8080/"
        }
      },
      "source": [
        "type(s)"
      ],
      "execution_count": 26,
      "outputs": [
        {
          "output_type": "execute_result",
          "data": {
            "text/plain": [
              "dict"
            ]
          },
          "metadata": {
            "tags": []
          },
          "execution_count": 26
        }
      ]
    },
    {
      "cell_type": "code",
      "metadata": {
        "id": "v-J1rjRV97-a"
      },
      "source": [
        "s1 = {4,5,6}"
      ],
      "execution_count": 27,
      "outputs": []
    },
    {
      "cell_type": "code",
      "metadata": {
        "id": "83NXXnAk97-a",
        "outputId": "95c6f1ff-c3b4-441e-9265-d1d340448b25",
        "colab": {
          "base_uri": "https://localhost:8080/"
        }
      },
      "source": [
        "type(s1)"
      ],
      "execution_count": 28,
      "outputs": [
        {
          "output_type": "execute_result",
          "data": {
            "text/plain": [
              "set"
            ]
          },
          "metadata": {
            "tags": []
          },
          "execution_count": 28
        }
      ]
    },
    {
      "cell_type": "code",
      "metadata": {
        "id": "TdygVuB997-a"
      },
      "source": [
        "s2 = {2,3,4,5,6,7,89,4,5,5,5,5,5,5,5,\"sudh\" , \"sudh\" ,\"sudh\"}"
      ],
      "execution_count": 29,
      "outputs": []
    },
    {
      "cell_type": "code",
      "metadata": {
        "id": "tlhSX2X497-b",
        "outputId": "617588df-b72b-4056-a933-1ddd2ef55e21",
        "colab": {
          "base_uri": "https://localhost:8080/"
        }
      },
      "source": [
        "s2"
      ],
      "execution_count": 30,
      "outputs": [
        {
          "output_type": "execute_result",
          "data": {
            "text/plain": [
              "{2, 3, 4, 5, 6, 7, 89, 'sudh'}"
            ]
          },
          "metadata": {
            "tags": []
          },
          "execution_count": 30
        }
      ]
    },
    {
      "cell_type": "code",
      "metadata": {
        "id": "WRI20x2w97-b"
      },
      "source": [
        "s3 = {\"Sudh\" , \"sudh\"}"
      ],
      "execution_count": 31,
      "outputs": []
    },
    {
      "cell_type": "code",
      "metadata": {
        "id": "uT19WRLG97-b",
        "outputId": "7d4885a1-13a5-44e3-bdae-1ff5d81283d4",
        "colab": {
          "base_uri": "https://localhost:8080/"
        }
      },
      "source": [
        "s3"
      ],
      "execution_count": 32,
      "outputs": [
        {
          "output_type": "execute_result",
          "data": {
            "text/plain": [
              "{'Sudh', 'sudh'}"
            ]
          },
          "metadata": {
            "tags": []
          },
          "execution_count": 32
        }
      ]
    },
    {
      "cell_type": "code",
      "metadata": {
        "id": "3V9RZNfj97-c"
      },
      "source": [
        "s = {334,454,5454,545,454,545,2342,42,22,3,3424234,448,788767,565}"
      ],
      "execution_count": 33,
      "outputs": []
    },
    {
      "cell_type": "code",
      "metadata": {
        "id": "MTOPlFp697-c",
        "outputId": "90419b0b-6a4b-4113-a049-9a46c48947ee",
        "colab": {
          "base_uri": "https://localhost:8080/"
        }
      },
      "source": [
        "s"
      ],
      "execution_count": 34,
      "outputs": [
        {
          "output_type": "execute_result",
          "data": {
            "text/plain": [
              "{3, 22, 42, 334, 448, 454, 545, 565, 2342, 5454, 788767, 3424234}"
            ]
          },
          "metadata": {
            "tags": []
          },
          "execution_count": 34
        }
      ]
    },
    {
      "cell_type": "code",
      "metadata": {
        "id": "_QlQzb-W97-c"
      },
      "source": [
        "s = {\"a\"  ,\"sudh\" , \"kumar\" , 4,5,6,7,34255345,3445455,34535,5345,54}"
      ],
      "execution_count": 35,
      "outputs": []
    },
    {
      "cell_type": "code",
      "metadata": {
        "id": "Ocq8pGNO97-c",
        "outputId": "a3c3edaa-71bf-48be-c85a-dd09ac2082e1",
        "colab": {
          "base_uri": "https://localhost:8080/"
        }
      },
      "source": [
        "s"
      ],
      "execution_count": 36,
      "outputs": [
        {
          "output_type": "execute_result",
          "data": {
            "text/plain": [
              "{34255345, 3445455, 34535, 4, 5, 5345, 54, 6, 7, 'a', 'kumar', 'sudh'}"
            ]
          },
          "metadata": {
            "tags": []
          },
          "execution_count": 36
        }
      ]
    },
    {
      "cell_type": "code",
      "metadata": {
        "id": "4oCfpFUE97-c"
      },
      "source": [
        "s1 = set()"
      ],
      "execution_count": 37,
      "outputs": []
    },
    {
      "cell_type": "code",
      "metadata": {
        "id": "ft35pG_t97-d",
        "outputId": "9e386709-e17b-48aa-8f73-b9ed07448f5d",
        "colab": {
          "base_uri": "https://localhost:8080/"
        }
      },
      "source": [
        "s"
      ],
      "execution_count": 38,
      "outputs": [
        {
          "output_type": "execute_result",
          "data": {
            "text/plain": [
              "{34255345, 3445455, 34535, 4, 5, 5345, 54, 6, 7, 'a', 'kumar', 'sudh'}"
            ]
          },
          "metadata": {
            "tags": []
          },
          "execution_count": 38
        }
      ]
    },
    {
      "cell_type": "code",
      "metadata": {
        "id": "xzfJuh-497-d",
        "outputId": "25d8fd8d-a4c9-4a97-d413-36a2c008f392",
        "colab": {
          "base_uri": "https://localhost:8080/",
          "height": 163
        }
      },
      "source": [
        "s[0]"
      ],
      "execution_count": 39,
      "outputs": [
        {
          "output_type": "error",
          "ename": "TypeError",
          "evalue": "ignored",
          "traceback": [
            "\u001b[0;31m---------------------------------------------------------------------------\u001b[0m",
            "\u001b[0;31mTypeError\u001b[0m                                 Traceback (most recent call last)",
            "\u001b[0;32m<ipython-input-39-c9c96910e542>\u001b[0m in \u001b[0;36m<module>\u001b[0;34m()\u001b[0m\n\u001b[0;32m----> 1\u001b[0;31m \u001b[0ms\u001b[0m\u001b[0;34m[\u001b[0m\u001b[0;36m0\u001b[0m\u001b[0;34m]\u001b[0m\u001b[0;34m\u001b[0m\u001b[0;34m\u001b[0m\u001b[0m\n\u001b[0m",
            "\u001b[0;31mTypeError\u001b[0m: 'set' object is not subscriptable"
          ]
        }
      ]
    },
    {
      "cell_type": "code",
      "metadata": {
        "id": "02B0le7r97-d"
      },
      "source": [
        "l1 = list(s)"
      ],
      "execution_count": 40,
      "outputs": []
    },
    {
      "cell_type": "code",
      "metadata": {
        "id": "vHM3U3_M97-d",
        "outputId": "51af9227-5e16-4aa2-f40d-8d119056bdc1",
        "colab": {
          "base_uri": "https://localhost:8080/"
        }
      },
      "source": [
        "l1"
      ],
      "execution_count": 41,
      "outputs": [
        {
          "output_type": "execute_result",
          "data": {
            "text/plain": [
              "[5345, 4, 5, 6, 7, 34535, 'sudh', 'kumar', 'a', 3445455, 34255345, 54]"
            ]
          },
          "metadata": {
            "tags": []
          },
          "execution_count": 41
        }
      ]
    },
    {
      "cell_type": "code",
      "metadata": {
        "id": "NaRZEFHB97-e",
        "outputId": "0a4d8f9d-955e-45ed-a08d-46c7200f6cf5",
        "colab": {
          "base_uri": "https://localhost:8080/"
        }
      },
      "source": [
        "s2 = l1[4:50]\n",
        "s2"
      ],
      "execution_count": 42,
      "outputs": [
        {
          "output_type": "execute_result",
          "data": {
            "text/plain": [
              "[7, 34535, 'sudh', 'kumar', 'a', 3445455, 34255345, 54]"
            ]
          },
          "metadata": {
            "tags": []
          },
          "execution_count": 42
        }
      ]
    },
    {
      "cell_type": "code",
      "metadata": {
        "id": "nlxd9ITN97-e"
      },
      "source": [
        "s = set(s2)"
      ],
      "execution_count": 43,
      "outputs": []
    },
    {
      "cell_type": "code",
      "metadata": {
        "id": "VXPjUDsw97-e",
        "outputId": "e9e7cddd-05cc-4a46-8d4f-c7898cf53847",
        "colab": {
          "base_uri": "https://localhost:8080/"
        }
      },
      "source": [
        "s"
      ],
      "execution_count": 44,
      "outputs": [
        {
          "output_type": "execute_result",
          "data": {
            "text/plain": [
              "{34255345, 3445455, 34535, 54, 7, 'a', 'kumar', 'sudh'}"
            ]
          },
          "metadata": {
            "tags": []
          },
          "execution_count": 44
        }
      ]
    },
    {
      "cell_type": "code",
      "metadata": {
        "id": "Er2Z0uV597-f",
        "outputId": "ecab9a6a-652e-4891-984c-246085577890",
        "colab": {
          "base_uri": "https://localhost:8080/"
        }
      },
      "source": [
        "t"
      ],
      "execution_count": 45,
      "outputs": [
        {
          "output_type": "execute_result",
          "data": {
            "text/plain": [
              "(4, 5, 6, 7, [2, 3, 4, 5, 6], 'sudh', True, (4+7j), 45.56, (3, 4, 5, 6, 7))"
            ]
          },
          "metadata": {
            "tags": []
          },
          "execution_count": 45
        }
      ]
    },
    {
      "cell_type": "code",
      "metadata": {
        "id": "DzltdOY297-f"
      },
      "source": [
        "l = list(t)"
      ],
      "execution_count": 46,
      "outputs": []
    },
    {
      "cell_type": "code",
      "metadata": {
        "id": "Amc5x7yW97-f",
        "outputId": "6136cee0-6f21-41fb-d3fe-abc45e429e39",
        "colab": {
          "base_uri": "https://localhost:8080/"
        }
      },
      "source": [
        "l"
      ],
      "execution_count": 47,
      "outputs": [
        {
          "output_type": "execute_result",
          "data": {
            "text/plain": [
              "[4, 5, 6, 7, [2, 3, 4, 5, 6], 'sudh', True, (4+7j), 45.56, (3, 4, 5, 6, 7)]"
            ]
          },
          "metadata": {
            "tags": []
          },
          "execution_count": 47
        }
      ]
    },
    {
      "cell_type": "code",
      "metadata": {
        "id": "Y8U2JNgJ97-f"
      },
      "source": [
        "l[0] = 40"
      ],
      "execution_count": 48,
      "outputs": []
    },
    {
      "cell_type": "code",
      "metadata": {
        "id": "kz8nSejr97-f",
        "outputId": "8ade277f-ce63-482b-f97d-2b042c7f9fc3",
        "colab": {
          "base_uri": "https://localhost:8080/"
        }
      },
      "source": [
        "l"
      ],
      "execution_count": 49,
      "outputs": [
        {
          "output_type": "execute_result",
          "data": {
            "text/plain": [
              "[40, 5, 6, 7, [2, 3, 4, 5, 6], 'sudh', True, (4+7j), 45.56, (3, 4, 5, 6, 7)]"
            ]
          },
          "metadata": {
            "tags": []
          },
          "execution_count": 49
        }
      ]
    },
    {
      "cell_type": "code",
      "metadata": {
        "id": "Z752lOJ097-g",
        "outputId": "a262f537-232e-41cd-9176-7519a3065bf4",
        "colab": {
          "base_uri": "https://localhost:8080/"
        }
      },
      "source": [
        "tuple(l)"
      ],
      "execution_count": 50,
      "outputs": [
        {
          "output_type": "execute_result",
          "data": {
            "text/plain": [
              "(40, 5, 6, 7, [2, 3, 4, 5, 6], 'sudh', True, (4+7j), 45.56, (3, 4, 5, 6, 7))"
            ]
          },
          "metadata": {
            "tags": []
          },
          "execution_count": 50
        }
      ]
    },
    {
      "cell_type": "code",
      "metadata": {
        "id": "dOTgRhhN97-g"
      },
      "source": [
        "d = {}"
      ],
      "execution_count": 51,
      "outputs": []
    },
    {
      "cell_type": "code",
      "metadata": {
        "id": "oZf8O2Y-97-g",
        "outputId": "9014f388-cc55-4d7a-b301-c0416ffee79c",
        "colab": {
          "base_uri": "https://localhost:8080/"
        }
      },
      "source": [
        "type(d)"
      ],
      "execution_count": 52,
      "outputs": [
        {
          "output_type": "execute_result",
          "data": {
            "text/plain": [
              "dict"
            ]
          },
          "metadata": {
            "tags": []
          },
          "execution_count": 52
        }
      ]
    },
    {
      "cell_type": "code",
      "metadata": {
        "id": "KXnmrG_v97-g"
      },
      "source": [
        "d = {\"a\" :\"sudh\" , \"name\":\"sudh\",\"number\" :23434453 , \"mailid\" :\"sudfff@2sffa.com\"}"
      ],
      "execution_count": 53,
      "outputs": []
    },
    {
      "cell_type": "code",
      "metadata": {
        "id": "4y7CaO0097-h",
        "outputId": "6eeb24b4-f41a-43ee-e2ff-f31a0e541b2e",
        "colab": {
          "base_uri": "https://localhost:8080/"
        }
      },
      "source": [
        "d"
      ],
      "execution_count": 54,
      "outputs": [
        {
          "output_type": "execute_result",
          "data": {
            "text/plain": [
              "{'a': 'sudh', 'mailid': 'sudfff@2sffa.com', 'name': 'sudh', 'number': 23434453}"
            ]
          },
          "metadata": {
            "tags": []
          },
          "execution_count": 54
        }
      ]
    },
    {
      "cell_type": "code",
      "metadata": {
        "id": "1kSmxbzo97-h"
      },
      "source": [
        "d1 = {\"name\" :\"sudh\" ,\"name\" :\"kumar\"}"
      ],
      "execution_count": 55,
      "outputs": []
    },
    {
      "cell_type": "code",
      "metadata": {
        "id": "rk3EFPrM97-h",
        "outputId": "a477be58-122b-428d-d88f-15df285ff108",
        "colab": {
          "base_uri": "https://localhost:8080/"
        }
      },
      "source": [
        "d1"
      ],
      "execution_count": 56,
      "outputs": [
        {
          "output_type": "execute_result",
          "data": {
            "text/plain": [
              "{'name': 'kumar'}"
            ]
          },
          "metadata": {
            "tags": []
          },
          "execution_count": 56
        }
      ]
    },
    {
      "cell_type": "code",
      "metadata": {
        "id": "zVEg2ZVr97-h"
      },
      "source": [
        "d1 = {345345 :\"sudh\" ,\"name\" :\"kumar\"}"
      ],
      "execution_count": 57,
      "outputs": []
    },
    {
      "cell_type": "code",
      "metadata": {
        "id": "WaMWG7LQ97-i",
        "outputId": "3ec17249-b0eb-4a98-a4cc-0873bb2bbba9",
        "colab": {
          "base_uri": "https://localhost:8080/"
        }
      },
      "source": [
        "d1"
      ],
      "execution_count": 58,
      "outputs": [
        {
          "output_type": "execute_result",
          "data": {
            "text/plain": [
              "{345345: 'sudh', 'name': 'kumar'}"
            ]
          },
          "metadata": {
            "tags": []
          },
          "execution_count": 58
        }
      ]
    },
    {
      "cell_type": "code",
      "metadata": {
        "id": "Xb6xcyyU97-i"
      },
      "source": [
        "d1 = {4.56 :\"sudh\" ,\"name\" :\"kumar\"}"
      ],
      "execution_count": 59,
      "outputs": []
    },
    {
      "cell_type": "code",
      "metadata": {
        "id": "0d1VE9gf97-i",
        "outputId": "3d4c2c9a-f8cd-4e0c-a16c-a4cd21941c20",
        "colab": {
          "base_uri": "https://localhost:8080/"
        }
      },
      "source": [
        "d1"
      ],
      "execution_count": 60,
      "outputs": [
        {
          "output_type": "execute_result",
          "data": {
            "text/plain": [
              "{4.56: 'sudh', 'name': 'kumar'}"
            ]
          },
          "metadata": {
            "tags": []
          },
          "execution_count": 60
        }
      ]
    },
    {
      "cell_type": "code",
      "metadata": {
        "id": "rFqhRWHv97-i",
        "outputId": "4e7b041b-4551-45f0-89e8-3ce331522111",
        "colab": {
          "base_uri": "https://localhost:8080/",
          "height": 129
        }
      },
      "source": [
        "d1 = {_4.56:\"sudh\" ,\"name\" :\"kumar\"}"
      ],
      "execution_count": 63,
      "outputs": [
        {
          "output_type": "error",
          "ename": "SyntaxError",
          "evalue": "ignored",
          "traceback": [
            "\u001b[0;36m  File \u001b[0;32m\"<ipython-input-63-aede9fbf9afc>\"\u001b[0;36m, line \u001b[0;32m1\u001b[0m\n\u001b[0;31m    d1 = {_4.56:\"sudh\" ,\"name\" :\"kumar\"}\u001b[0m\n\u001b[0m              ^\u001b[0m\n\u001b[0;31mSyntaxError\u001b[0m\u001b[0;31m:\u001b[0m invalid syntax\n"
          ]
        }
      ]
    },
    {
      "cell_type": "code",
      "metadata": {
        "id": "5PlHLjzi_IL9",
        "outputId": "69476ef0-6e95-4990-bc71-bff4798a0a33",
        "colab": {
          "base_uri": "https://localhost:8080/"
        }
      },
      "source": [
        "d1_n = {4.56:\"sudh\" ,\"name\" :\"kumar\"}\n",
        "d1_n"
      ],
      "execution_count": 64,
      "outputs": [
        {
          "output_type": "execute_result",
          "data": {
            "text/plain": [
              "{4.56: 'sudh', 'name': 'kumar'}"
            ]
          },
          "metadata": {
            "tags": []
          },
          "execution_count": 64
        }
      ]
    },
    {
      "cell_type": "code",
      "metadata": {
        "id": "ZSjbfi8l97-j"
      },
      "source": [
        "d1 = {\"_4.56\":\"sudh\" ,\"name\" :\"kumar\"}"
      ],
      "execution_count": 65,
      "outputs": []
    },
    {
      "cell_type": "code",
      "metadata": {
        "id": "FZUb7U5L97-j",
        "outputId": "6e716cb0-1747-4f85-bbf2-15f03d1ee0f0",
        "colab": {
          "base_uri": "https://localhost:8080/"
        }
      },
      "source": [
        "d1"
      ],
      "execution_count": 66,
      "outputs": [
        {
          "output_type": "execute_result",
          "data": {
            "text/plain": [
              "{'_4.56': 'sudh', 'name': 'kumar'}"
            ]
          },
          "metadata": {
            "tags": []
          },
          "execution_count": 66
        }
      ]
    },
    {
      "cell_type": "code",
      "metadata": {
        "id": "Y6VmLntJ97-j",
        "outputId": "2f30e4ee-f179-4fbb-ab3c-aea841f125dd",
        "colab": {
          "base_uri": "https://localhost:8080/",
          "height": 129
        }
      },
      "source": [
        "d1 = {#2345:\"sudh\" ,\"name\" :\"kumar\"}"
      ],
      "execution_count": 67,
      "outputs": [
        {
          "output_type": "error",
          "ename": "SyntaxError",
          "evalue": "ignored",
          "traceback": [
            "\u001b[0;36m  File \u001b[0;32m\"<ipython-input-67-52f522fe7ec7>\"\u001b[0;36m, line \u001b[0;32m1\u001b[0m\n\u001b[0;31m    d1 = {#2345:\"sudh\" ,\"name\" :\"kumar\"}\u001b[0m\n\u001b[0m                                        ^\u001b[0m\n\u001b[0;31mSyntaxError\u001b[0m\u001b[0;31m:\u001b[0m unexpected EOF while parsing\n"
          ]
        }
      ]
    },
    {
      "cell_type": "code",
      "metadata": {
        "id": "ibCsPysC97-j"
      },
      "source": [
        "d1 = {\"#fsff\":\"sudh\" ,\"name\" :\"kumar\"}"
      ],
      "execution_count": 68,
      "outputs": []
    },
    {
      "cell_type": "code",
      "metadata": {
        "id": "p16522EE97-k",
        "outputId": "e3a59d58-6006-4249-95e1-29d6f2f66d99",
        "colab": {
          "base_uri": "https://localhost:8080/"
        }
      },
      "source": [
        "d1"
      ],
      "execution_count": 69,
      "outputs": [
        {
          "output_type": "execute_result",
          "data": {
            "text/plain": [
              "{'#fsff': 'sudh', 'name': 'kumar'}"
            ]
          },
          "metadata": {
            "tags": []
          },
          "execution_count": 69
        }
      ]
    },
    {
      "cell_type": "code",
      "metadata": {
        "id": "xT3LPOBM97-k"
      },
      "source": [
        "d1 = {\"#fsff\":\"sudh\" ,\"name\" :\"kumar\",\"n\" :[4,5,5,6,7,\"sudh\",(3,4,5,66)],'t':(3,4,5,6) , \"s\" :{4,5,6,7,8} , \"d\" :{\"y\" : \"fsdsf\"}}"
      ],
      "execution_count": 70,
      "outputs": []
    },
    {
      "cell_type": "code",
      "metadata": {
        "id": "iVjQivw997-k",
        "outputId": "9d3e7e30-4070-41a0-b5c2-adc4e03553cd",
        "colab": {
          "base_uri": "https://localhost:8080/"
        }
      },
      "source": [
        "d1"
      ],
      "execution_count": 71,
      "outputs": [
        {
          "output_type": "execute_result",
          "data": {
            "text/plain": [
              "{'#fsff': 'sudh',\n",
              " 'd': {'y': 'fsdsf'},\n",
              " 'n': [4, 5, 5, 6, 7, 'sudh', (3, 4, 5, 66)],\n",
              " 'name': 'kumar',\n",
              " 's': {4, 5, 6, 7, 8},\n",
              " 't': (3, 4, 5, 6)}"
            ]
          },
          "metadata": {
            "tags": []
          },
          "execution_count": 71
        }
      ]
    },
    {
      "cell_type": "code",
      "metadata": {
        "id": "F-x4jqnA97-l",
        "outputId": "0b66ead4-0ec7-4fdf-9348-b78f1779d4c1",
        "colab": {
          "base_uri": "https://localhost:8080/",
          "height": 163
        }
      },
      "source": [
        "d1 = {\"#fsff\":\"sudh\" ,[3,4,5] :\"kumar\"}"
      ],
      "execution_count": 72,
      "outputs": [
        {
          "output_type": "error",
          "ename": "TypeError",
          "evalue": "ignored",
          "traceback": [
            "\u001b[0;31m---------------------------------------------------------------------------\u001b[0m",
            "\u001b[0;31mTypeError\u001b[0m                                 Traceback (most recent call last)",
            "\u001b[0;32m<ipython-input-72-d1be33872490>\u001b[0m in \u001b[0;36m<module>\u001b[0;34m()\u001b[0m\n\u001b[0;32m----> 1\u001b[0;31m \u001b[0md1\u001b[0m \u001b[0;34m=\u001b[0m \u001b[0;34m{\u001b[0m\u001b[0;34m\"#fsff\"\u001b[0m\u001b[0;34m:\u001b[0m\u001b[0;34m\"sudh\"\u001b[0m \u001b[0;34m,\u001b[0m\u001b[0;34m[\u001b[0m\u001b[0;36m3\u001b[0m\u001b[0;34m,\u001b[0m\u001b[0;36m4\u001b[0m\u001b[0;34m,\u001b[0m\u001b[0;36m5\u001b[0m\u001b[0;34m]\u001b[0m \u001b[0;34m:\u001b[0m\u001b[0;34m\"kumar\"\u001b[0m\u001b[0;34m}\u001b[0m\u001b[0;34m\u001b[0m\u001b[0;34m\u001b[0m\u001b[0m\n\u001b[0m",
            "\u001b[0;31mTypeError\u001b[0m: unhashable type: 'list'"
          ]
        }
      ]
    },
    {
      "cell_type": "code",
      "metadata": {
        "id": "OIV4VW9o97-l"
      },
      "source": [
        "d1 = {\"#fsff\":\"sudh\" ,\"U\":\"kumar\" , \"N\":\"kumar\"}"
      ],
      "execution_count": 73,
      "outputs": []
    },
    {
      "cell_type": "code",
      "metadata": {
        "id": "G2NOR_3R97-l",
        "outputId": "3be690ed-24d1-4a42-8308-3c83bcf68283",
        "colab": {
          "base_uri": "https://localhost:8080/"
        }
      },
      "source": [
        "d1"
      ],
      "execution_count": 74,
      "outputs": [
        {
          "output_type": "execute_result",
          "data": {
            "text/plain": [
              "{'#fsff': 'sudh', 'N': 'kumar', 'U': 'kumar'}"
            ]
          },
          "metadata": {
            "tags": []
          },
          "execution_count": 74
        }
      ]
    },
    {
      "cell_type": "code",
      "metadata": {
        "id": "qmeYvQVr97-m",
        "outputId": "1f3e3296-b0e0-4db5-f59d-ceca8abde1be",
        "colab": {
          "base_uri": "https://localhost:8080/",
          "height": 35
        }
      },
      "source": [
        "d1['#fsff']"
      ],
      "execution_count": 75,
      "outputs": [
        {
          "output_type": "execute_result",
          "data": {
            "application/vnd.google.colaboratory.intrinsic+json": {
              "type": "string"
            },
            "text/plain": [
              "'sudh'"
            ]
          },
          "metadata": {
            "tags": []
          },
          "execution_count": 75
        }
      ]
    },
    {
      "cell_type": "code",
      "metadata": {
        "id": "kplZH1z397-m",
        "outputId": "956a4db0-6ffb-4e15-a5a9-9a87a76825ba",
        "colab": {
          "base_uri": "https://localhost:8080/",
          "height": 163
        }
      },
      "source": [
        "d1[0]"
      ],
      "execution_count": 76,
      "outputs": [
        {
          "output_type": "error",
          "ename": "KeyError",
          "evalue": "ignored",
          "traceback": [
            "\u001b[0;31m---------------------------------------------------------------------------\u001b[0m",
            "\u001b[0;31mKeyError\u001b[0m                                  Traceback (most recent call last)",
            "\u001b[0;32m<ipython-input-76-f64ff61913e8>\u001b[0m in \u001b[0;36m<module>\u001b[0;34m()\u001b[0m\n\u001b[0;32m----> 1\u001b[0;31m \u001b[0md1\u001b[0m\u001b[0;34m[\u001b[0m\u001b[0;36m0\u001b[0m\u001b[0;34m]\u001b[0m\u001b[0;34m\u001b[0m\u001b[0;34m\u001b[0m\u001b[0m\n\u001b[0m",
            "\u001b[0;31mKeyError\u001b[0m: 0"
          ]
        }
      ]
    },
    {
      "cell_type": "code",
      "metadata": {
        "id": "GfXNSQDS97-m"
      },
      "source": [
        "d = {(2,3,4,5) :\"sdfasfasf\"}"
      ],
      "execution_count": 77,
      "outputs": []
    },
    {
      "cell_type": "code",
      "metadata": {
        "id": "yyfLewmE97-n",
        "outputId": "981e1574-7c65-4a49-a704-37f8ae4bac30",
        "colab": {
          "base_uri": "https://localhost:8080/"
        }
      },
      "source": [
        "d"
      ],
      "execution_count": 78,
      "outputs": [
        {
          "output_type": "execute_result",
          "data": {
            "text/plain": [
              "{(2, 3, 4, 5): 'sdfasfasf'}"
            ]
          },
          "metadata": {
            "tags": []
          },
          "execution_count": 78
        }
      ]
    },
    {
      "cell_type": "code",
      "metadata": {
        "id": "EJ66ufO897-n",
        "outputId": "3345d66a-5aab-4067-c8c7-61e6fa26e6de",
        "colab": {
          "base_uri": "https://localhost:8080/",
          "height": 163
        }
      },
      "source": [
        "d = {{4,5,6,7} :\"fsdfsf\"}"
      ],
      "execution_count": 80,
      "outputs": [
        {
          "output_type": "error",
          "ename": "TypeError",
          "evalue": "ignored",
          "traceback": [
            "\u001b[0;31m---------------------------------------------------------------------------\u001b[0m",
            "\u001b[0;31mTypeError\u001b[0m                                 Traceback (most recent call last)",
            "\u001b[0;32m<ipython-input-80-b0a71138c274>\u001b[0m in \u001b[0;36m<module>\u001b[0;34m()\u001b[0m\n\u001b[0;32m----> 1\u001b[0;31m \u001b[0md\u001b[0m \u001b[0;34m=\u001b[0m \u001b[0;34m{\u001b[0m\u001b[0;34m{\u001b[0m\u001b[0;36m4\u001b[0m\u001b[0;34m,\u001b[0m\u001b[0;36m5\u001b[0m\u001b[0;34m,\u001b[0m\u001b[0;36m6\u001b[0m\u001b[0;34m,\u001b[0m\u001b[0;36m7\u001b[0m\u001b[0;34m}\u001b[0m \u001b[0;34m:\u001b[0m\u001b[0;34m\"fsdfsf\"\u001b[0m\u001b[0;34m}\u001b[0m\u001b[0;34m\u001b[0m\u001b[0;34m\u001b[0m\u001b[0m\n\u001b[0m",
            "\u001b[0;31mTypeError\u001b[0m: unhashable type: 'set'"
          ]
        }
      ]
    },
    {
      "cell_type": "code",
      "metadata": {
        "id": "wgwYUtHA97-n",
        "outputId": "78d9c041-9083-43af-ccb3-b93053d2d3d0",
        "colab": {
          "base_uri": "https://localhost:8080/",
          "height": 163
        }
      },
      "source": [
        "d = {{'y':\"ffsfsf\"}:\"fsdfsfsfdfd\"}"
      ],
      "execution_count": 81,
      "outputs": [
        {
          "output_type": "error",
          "ename": "TypeError",
          "evalue": "ignored",
          "traceback": [
            "\u001b[0;31m---------------------------------------------------------------------------\u001b[0m",
            "\u001b[0;31mTypeError\u001b[0m                                 Traceback (most recent call last)",
            "\u001b[0;32m<ipython-input-81-f800bbcd9974>\u001b[0m in \u001b[0;36m<module>\u001b[0;34m()\u001b[0m\n\u001b[0;32m----> 1\u001b[0;31m \u001b[0md\u001b[0m \u001b[0;34m=\u001b[0m \u001b[0;34m{\u001b[0m\u001b[0;34m{\u001b[0m\u001b[0;34m'y'\u001b[0m\u001b[0;34m:\u001b[0m\u001b[0;34m\"ffsfsf\"\u001b[0m\u001b[0;34m}\u001b[0m\u001b[0;34m:\u001b[0m\u001b[0;34m\"fsdfsfsfdfd\"\u001b[0m\u001b[0;34m}\u001b[0m\u001b[0;34m\u001b[0m\u001b[0;34m\u001b[0m\u001b[0m\n\u001b[0m",
            "\u001b[0;31mTypeError\u001b[0m: unhashable type: 'dict'"
          ]
        }
      ]
    },
    {
      "cell_type": "code",
      "metadata": {
        "id": "gky_GDyx97-o"
      },
      "source": [
        "d = {\"dfdf\" :\"fsdfsf\"}"
      ],
      "execution_count": 82,
      "outputs": []
    },
    {
      "cell_type": "code",
      "metadata": {
        "id": "GsaPhGqG97-o"
      },
      "source": [
        "s = \"sudh\""
      ],
      "execution_count": 83,
      "outputs": []
    },
    {
      "cell_type": "code",
      "metadata": {
        "id": "ZwaE-h_V97-o",
        "outputId": "4b75027f-d694-43dd-ee85-a096510235fc",
        "colab": {
          "base_uri": "https://localhost:8080/",
          "height": 35
        }
      },
      "source": [
        "s[0]"
      ],
      "execution_count": 84,
      "outputs": [
        {
          "output_type": "execute_result",
          "data": {
            "application/vnd.google.colaboratory.intrinsic+json": {
              "type": "string"
            },
            "text/plain": [
              "'s'"
            ]
          },
          "metadata": {
            "tags": []
          },
          "execution_count": 84
        }
      ]
    },
    {
      "cell_type": "code",
      "metadata": {
        "id": "TX_7k1UV97-p",
        "outputId": "ef50e397-bfd3-4fd1-f5b7-2ef2de44e1a5",
        "colab": {
          "base_uri": "https://localhost:8080/",
          "height": 163
        }
      },
      "source": [
        "s[0] = 'v'"
      ],
      "execution_count": 85,
      "outputs": [
        {
          "output_type": "error",
          "ename": "TypeError",
          "evalue": "ignored",
          "traceback": [
            "\u001b[0;31m---------------------------------------------------------------------------\u001b[0m",
            "\u001b[0;31mTypeError\u001b[0m                                 Traceback (most recent call last)",
            "\u001b[0;32m<ipython-input-85-3868546884ef>\u001b[0m in \u001b[0;36m<module>\u001b[0;34m()\u001b[0m\n\u001b[0;32m----> 1\u001b[0;31m \u001b[0ms\u001b[0m\u001b[0;34m[\u001b[0m\u001b[0;36m0\u001b[0m\u001b[0;34m]\u001b[0m \u001b[0;34m=\u001b[0m \u001b[0;34m'v'\u001b[0m\u001b[0;34m\u001b[0m\u001b[0;34m\u001b[0m\u001b[0m\n\u001b[0m",
            "\u001b[0;31mTypeError\u001b[0m: 'str' object does not support item assignment"
          ]
        }
      ]
    },
    {
      "cell_type": "code",
      "metadata": {
        "id": "ziBmk3g897-p"
      },
      "source": [
        "d1 = {\"#fsff\":\"sudh\" ,\"name\" :\"kumar\",\"n\" :[4,5,5,6,7,\"sudh\",(3,4,5,66)],'t':(3,4,5,6) , \"s\" :{4,5,6,7,8} , \"d\" :{\"y\" : \"fsdsf\"}}"
      ],
      "execution_count": 86,
      "outputs": []
    },
    {
      "cell_type": "code",
      "metadata": {
        "id": "b5sZrTEn97-p",
        "outputId": "1bdba31b-eba2-4738-e18e-3ae436f9f20f",
        "colab": {
          "base_uri": "https://localhost:8080/"
        }
      },
      "source": [
        "d1"
      ],
      "execution_count": 87,
      "outputs": [
        {
          "output_type": "execute_result",
          "data": {
            "text/plain": [
              "{'#fsff': 'sudh',\n",
              " 'd': {'y': 'fsdsf'},\n",
              " 'n': [4, 5, 5, 6, 7, 'sudh', (3, 4, 5, 66)],\n",
              " 'name': 'kumar',\n",
              " 's': {4, 5, 6, 7, 8},\n",
              " 't': (3, 4, 5, 6)}"
            ]
          },
          "metadata": {
            "tags": []
          },
          "execution_count": 87
        }
      ]
    },
    {
      "cell_type": "code",
      "metadata": {
        "id": "BiM1F_ci97-q",
        "outputId": "6395a0a7-9f25-4b3a-b65c-f2226e3ca107",
        "colab": {
          "base_uri": "https://localhost:8080/"
        }
      },
      "source": [
        "d1['n'][0]"
      ],
      "execution_count": 88,
      "outputs": [
        {
          "output_type": "execute_result",
          "data": {
            "text/plain": [
              "4"
            ]
          },
          "metadata": {
            "tags": []
          },
          "execution_count": 88
        }
      ]
    },
    {
      "cell_type": "code",
      "metadata": {
        "id": "6RBndlFf97-q",
        "outputId": "5bf046fa-d8fa-43e9-8f7f-af89589d5ca9",
        "colab": {
          "base_uri": "https://localhost:8080/"
        }
      },
      "source": [
        "d1['t'][2]"
      ],
      "execution_count": 89,
      "outputs": [
        {
          "output_type": "execute_result",
          "data": {
            "text/plain": [
              "5"
            ]
          },
          "metadata": {
            "tags": []
          },
          "execution_count": 89
        }
      ]
    },
    {
      "cell_type": "code",
      "metadata": {
        "id": "kyke5Yt197-q",
        "outputId": "6e682958-6c89-4ab2-c019-3675cb315a35",
        "colab": {
          "base_uri": "https://localhost:8080/",
          "height": 163
        }
      },
      "source": [
        "d1[\"s\"][4]"
      ],
      "execution_count": 90,
      "outputs": [
        {
          "output_type": "error",
          "ename": "TypeError",
          "evalue": "ignored",
          "traceback": [
            "\u001b[0;31m---------------------------------------------------------------------------\u001b[0m",
            "\u001b[0;31mTypeError\u001b[0m                                 Traceback (most recent call last)",
            "\u001b[0;32m<ipython-input-90-4a52ed685968>\u001b[0m in \u001b[0;36m<module>\u001b[0;34m()\u001b[0m\n\u001b[0;32m----> 1\u001b[0;31m \u001b[0md1\u001b[0m\u001b[0;34m[\u001b[0m\u001b[0;34m\"s\"\u001b[0m\u001b[0;34m]\u001b[0m\u001b[0;34m[\u001b[0m\u001b[0;36m4\u001b[0m\u001b[0;34m]\u001b[0m\u001b[0;34m\u001b[0m\u001b[0;34m\u001b[0m\u001b[0m\n\u001b[0m",
            "\u001b[0;31mTypeError\u001b[0m: 'set' object is not subscriptable"
          ]
        }
      ]
    },
    {
      "cell_type": "code",
      "metadata": {
        "id": "gpsAOKKd97-r",
        "outputId": "d84b6cd5-d12e-420c-a2e8-3280c5f4fba5",
        "colab": {
          "base_uri": "https://localhost:8080/"
        }
      },
      "source": [
        "tuple(d1['s'])[4]"
      ],
      "execution_count": 91,
      "outputs": [
        {
          "output_type": "execute_result",
          "data": {
            "text/plain": [
              "8"
            ]
          },
          "metadata": {
            "tags": []
          },
          "execution_count": 91
        }
      ]
    },
    {
      "cell_type": "code",
      "metadata": {
        "id": "minn-5EI97-r",
        "outputId": "a346470a-60fa-43ad-a722-360463d61d66",
        "colab": {
          "base_uri": "https://localhost:8080/"
        }
      },
      "source": [
        "list(d1['s'])[4]"
      ],
      "execution_count": 92,
      "outputs": [
        {
          "output_type": "execute_result",
          "data": {
            "text/plain": [
              "8"
            ]
          },
          "metadata": {
            "tags": []
          },
          "execution_count": 92
        }
      ]
    },
    {
      "cell_type": "code",
      "metadata": {
        "id": "ohsIU9fV97-s",
        "outputId": "d302828c-8485-4d4c-9f83-f476720f0e16",
        "colab": {
          "base_uri": "https://localhost:8080/"
        }
      },
      "source": [
        "d1"
      ],
      "execution_count": 93,
      "outputs": [
        {
          "output_type": "execute_result",
          "data": {
            "text/plain": [
              "{'#fsff': 'sudh',\n",
              " 'd': {'y': 'fsdsf'},\n",
              " 'n': [4, 5, 5, 6, 7, 'sudh', (3, 4, 5, 66)],\n",
              " 'name': 'kumar',\n",
              " 's': {4, 5, 6, 7, 8},\n",
              " 't': (3, 4, 5, 6)}"
            ]
          },
          "metadata": {
            "tags": []
          },
          "execution_count": 93
        }
      ]
    },
    {
      "cell_type": "code",
      "metadata": {
        "id": "-8nBOr1097-s",
        "outputId": "def20117-7a98-46f7-e6c3-ddafa79ea456",
        "colab": {
          "base_uri": "https://localhost:8080/",
          "height": 35
        }
      },
      "source": [
        "d1['d']['y']"
      ],
      "execution_count": 94,
      "outputs": [
        {
          "output_type": "execute_result",
          "data": {
            "application/vnd.google.colaboratory.intrinsic+json": {
              "type": "string"
            },
            "text/plain": [
              "'fsdsf'"
            ]
          },
          "metadata": {
            "tags": []
          },
          "execution_count": 94
        }
      ]
    },
    {
      "cell_type": "code",
      "metadata": {
        "id": "RBjGRHHL97-s",
        "outputId": "b544a025-231e-4226-c807-479c528c61f9",
        "colab": {
          "base_uri": "https://localhost:8080/"
        }
      },
      "source": [
        "d1['n'][-1]"
      ],
      "execution_count": 95,
      "outputs": [
        {
          "output_type": "execute_result",
          "data": {
            "text/plain": [
              "(3, 4, 5, 66)"
            ]
          },
          "metadata": {
            "tags": []
          },
          "execution_count": 95
        }
      ]
    },
    {
      "cell_type": "code",
      "metadata": {
        "id": "J2K3uIn-97-t",
        "outputId": "43c6ebb3-d3b0-456f-f03b-2a83f200cc5f",
        "colab": {
          "base_uri": "https://localhost:8080/"
        }
      },
      "source": [
        "d"
      ],
      "execution_count": 96,
      "outputs": [
        {
          "output_type": "execute_result",
          "data": {
            "text/plain": [
              "{'dfdf': 'fsdfsf'}"
            ]
          },
          "metadata": {
            "tags": []
          },
          "execution_count": 96
        }
      ]
    },
    {
      "cell_type": "code",
      "metadata": {
        "id": "oXskUk4_97-t"
      },
      "source": [
        "d[\"name\"] = \"sudh\""
      ],
      "execution_count": 97,
      "outputs": []
    },
    {
      "cell_type": "code",
      "metadata": {
        "id": "3mo_CnOW97-t",
        "outputId": "47f0c6f5-fe11-46f3-d654-9a8f10cad168",
        "colab": {
          "base_uri": "https://localhost:8080/"
        }
      },
      "source": [
        " d"
      ],
      "execution_count": 98,
      "outputs": [
        {
          "output_type": "execute_result",
          "data": {
            "text/plain": [
              "{'dfdf': 'fsdfsf', 'name': 'sudh'}"
            ]
          },
          "metadata": {
            "tags": []
          },
          "execution_count": 98
        }
      ]
    },
    {
      "cell_type": "code",
      "metadata": {
        "id": "fTsZMC4d97-u"
      },
      "source": [
        "d[\"name\"] = \"sudhfsdfsfsaf\""
      ],
      "execution_count": 99,
      "outputs": []
    },
    {
      "cell_type": "code",
      "metadata": {
        "id": "cb-o3sE_97-u",
        "outputId": "22cf722d-63f5-422f-970f-a44d313461b5",
        "colab": {
          "base_uri": "https://localhost:8080/"
        }
      },
      "source": [
        "d"
      ],
      "execution_count": 100,
      "outputs": [
        {
          "output_type": "execute_result",
          "data": {
            "text/plain": [
              "{'dfdf': 'fsdfsf', 'name': 'sudhfsdfsfsaf'}"
            ]
          },
          "metadata": {
            "tags": []
          },
          "execution_count": 100
        }
      ]
    },
    {
      "cell_type": "code",
      "metadata": {
        "id": "nMFZFFjU97-u",
        "outputId": "272c8840-8d9f-4c2b-bf20-b17cff2964a0",
        "colab": {
          "base_uri": "https://localhost:8080/",
          "height": 163
        }
      },
      "source": [
        "d[[\"fd\"]] = \"fsdfs\""
      ],
      "execution_count": 101,
      "outputs": [
        {
          "output_type": "error",
          "ename": "TypeError",
          "evalue": "ignored",
          "traceback": [
            "\u001b[0;31m---------------------------------------------------------------------------\u001b[0m",
            "\u001b[0;31mTypeError\u001b[0m                                 Traceback (most recent call last)",
            "\u001b[0;32m<ipython-input-101-0bdb8601072c>\u001b[0m in \u001b[0;36m<module>\u001b[0;34m()\u001b[0m\n\u001b[0;32m----> 1\u001b[0;31m \u001b[0md\u001b[0m\u001b[0;34m[\u001b[0m\u001b[0;34m[\u001b[0m\u001b[0;34m\"fd\"\u001b[0m\u001b[0;34m]\u001b[0m\u001b[0;34m]\u001b[0m \u001b[0;34m=\u001b[0m \u001b[0;34m\"fsdfs\"\u001b[0m\u001b[0;34m\u001b[0m\u001b[0;34m\u001b[0m\u001b[0m\n\u001b[0m",
            "\u001b[0;31mTypeError\u001b[0m: unhashable type: 'list'"
          ]
        }
      ]
    },
    {
      "cell_type": "code",
      "metadata": {
        "id": "n2D52oPf97-v"
      },
      "source": [
        "d[(4,5,6)] =  \"fdsfdsf\""
      ],
      "execution_count": 102,
      "outputs": []
    },
    {
      "cell_type": "code",
      "metadata": {
        "id": "L-qH7W_B97-v",
        "outputId": "5fc61b4e-2629-41a0-decd-7536a4cc0a62",
        "colab": {
          "base_uri": "https://localhost:8080/"
        }
      },
      "source": [
        "d"
      ],
      "execution_count": 103,
      "outputs": [
        {
          "output_type": "execute_result",
          "data": {
            "text/plain": [
              "{(4, 5, 6): 'fdsfdsf', 'dfdf': 'fsdfsf', 'name': 'sudhfsdfsfsaf'}"
            ]
          },
          "metadata": {
            "tags": []
          },
          "execution_count": 103
        }
      ]
    },
    {
      "cell_type": "code",
      "metadata": {
        "id": "38TRwwG697-v",
        "outputId": "f6558a92-5243-498c-86c0-33b1b4ae9d99",
        "colab": {
          "base_uri": "https://localhost:8080/",
          "height": 35
        }
      },
      "source": [
        "d[(4,5,6)]"
      ],
      "execution_count": 104,
      "outputs": [
        {
          "output_type": "execute_result",
          "data": {
            "application/vnd.google.colaboratory.intrinsic+json": {
              "type": "string"
            },
            "text/plain": [
              "'fdsfdsf'"
            ]
          },
          "metadata": {
            "tags": []
          },
          "execution_count": 104
        }
      ]
    },
    {
      "cell_type": "code",
      "metadata": {
        "id": "afP4CY2g97-w"
      },
      "source": [
        "l = [5,6,7,7,7,8,8,9,0]"
      ],
      "execution_count": 105,
      "outputs": []
    },
    {
      "cell_type": "code",
      "metadata": {
        "id": "xnPTjPFD97-w",
        "outputId": "ea2a1b47-7fa1-43fc-8146-e0b062e40328",
        "colab": {
          "base_uri": "https://localhost:8080/"
        }
      },
      "source": [
        "l[0:5]"
      ],
      "execution_count": 106,
      "outputs": [
        {
          "output_type": "execute_result",
          "data": {
            "text/plain": [
              "[5, 6, 7, 7, 7]"
            ]
          },
          "metadata": {
            "tags": []
          },
          "execution_count": 106
        }
      ]
    },
    {
      "cell_type": "code",
      "metadata": {
        "id": "YukEZYEB97-x",
        "outputId": "61983e1d-679a-472b-804a-35f5d9fb0f82",
        "colab": {
          "base_uri": "https://localhost:8080/"
        }
      },
      "source": [
        "for i in l :\n",
        "    print(i)"
      ],
      "execution_count": 107,
      "outputs": [
        {
          "output_type": "stream",
          "text": [
            "5\n",
            "6\n",
            "7\n",
            "7\n",
            "7\n",
            "8\n",
            "8\n",
            "9\n",
            "0\n"
          ],
          "name": "stdout"
        }
      ]
    },
    {
      "cell_type": "code",
      "metadata": {
        "id": "C0VpCCj397-x"
      },
      "source": [
        "l = [5,6,7,7,\"sudh\" , (4,5,6,7) ,(45,67,67,6,7), {\"name\" : \"sudh\"} , {5,6,7,8} , [1,2,54,5]]"
      ],
      "execution_count": 108,
      "outputs": []
    },
    {
      "cell_type": "code",
      "metadata": {
        "id": "pk2zcU4b97-x",
        "outputId": "cf409ae7-4e2a-4b9c-845d-719f27cb6f3d",
        "colab": {
          "base_uri": "https://localhost:8080/"
        }
      },
      "source": [
        "for i in l :\n",
        "    if type(i) == tuple:\n",
        "        print(i)\n",
        "        for j in i :\n",
        "            if j == 6 :\n",
        "                print(j)"
      ],
      "execution_count": 109,
      "outputs": [
        {
          "output_type": "stream",
          "text": [
            "(4, 5, 6, 7)\n",
            "6\n",
            "(45, 67, 67, 6, 7)\n",
            "6\n"
          ],
          "name": "stdout"
        }
      ]
    },
    {
      "cell_type": "code",
      "metadata": {
        "id": "r7aSgMU097-y"
      },
      "source": [
        ""
      ],
      "execution_count": null,
      "outputs": []
    },
    {
      "cell_type": "code",
      "metadata": {
        "id": "blCRcheW97-y",
        "outputId": "816f2050-9633-494e-fdb8-6de281518fcc",
        "colab": {
          "base_uri": "https://localhost:8080/"
        }
      },
      "source": [
        "for i in l :\n",
        "    if type(i) == list:\n",
        "        for j in i :\n",
        "            if j == 3 :\n",
        "                print(\"yes i am able to get three \")\n",
        "            else :\n",
        "                print(\"no there is no 3 available\")"
      ],
      "execution_count": 112,
      "outputs": [
        {
          "output_type": "stream",
          "text": [
            "no there is no 3 available\n",
            "no there is no 3 available\n",
            "no there is no 3 available\n",
            "no there is no 3 available\n"
          ],
          "name": "stdout"
        }
      ]
    },
    {
      "cell_type": "code",
      "metadata": {
        "id": "MzMCm-nJ97-z"
      },
      "source": [
        ""
      ],
      "execution_count": 112,
      "outputs": []
    },
    {
      "cell_type": "code",
      "metadata": {
        "id": "OnuaDYgd97-z",
        "outputId": "f02cda31-7f30-4f3c-cb7a-3a2f4ed3e5a5",
        "colab": {
          "base_uri": "https://localhost:8080/"
        }
      },
      "source": [
        "for v  in l :\n",
        "    print(v)"
      ],
      "execution_count": 113,
      "outputs": [
        {
          "output_type": "stream",
          "text": [
            "5\n",
            "6\n",
            "7\n",
            "7\n",
            "sudh\n",
            "(4, 5, 6, 7)\n",
            "(45, 67, 67, 6, 7)\n",
            "{'name': 'sudh'}\n",
            "{8, 5, 6, 7}\n",
            "[1, 2, 54, 5]\n"
          ],
          "name": "stdout"
        }
      ]
    },
    {
      "cell_type": "code",
      "metadata": {
        "id": "1fDJL_Oj97-z"
      },
      "source": [
        ""
      ],
      "execution_count": 113,
      "outputs": []
    },
    {
      "cell_type": "code",
      "metadata": {
        "id": "PVxpHpEJ97-z",
        "outputId": "aedc9cdd-5e75-4242-d8f5-35f3299ff440",
        "colab": {
          "base_uri": "https://localhost:8080/"
        }
      },
      "source": [
        "for v  in l :\n",
        "    if type(v) == int:\n",
        "        print(v)"
      ],
      "execution_count": 114,
      "outputs": [
        {
          "output_type": "stream",
          "text": [
            "5\n",
            "6\n",
            "7\n",
            "7\n"
          ],
          "name": "stdout"
        }
      ]
    },
    {
      "cell_type": "code",
      "metadata": {
        "id": "tIz6HIxi97-0",
        "outputId": "8a892f85-c6f9-4a67-97bd-ca8dc0454a10",
        "colab": {
          "base_uri": "https://localhost:8080/"
        }
      },
      "source": [
        "l[-1][2]"
      ],
      "execution_count": 115,
      "outputs": [
        {
          "output_type": "execute_result",
          "data": {
            "text/plain": [
              "54"
            ]
          },
          "metadata": {
            "tags": []
          },
          "execution_count": 115
        }
      ]
    },
    {
      "cell_type": "code",
      "metadata": {
        "id": "8BriYDGE97-0"
      },
      "source": [
        "t = (3,4,5,6)"
      ],
      "execution_count": 116,
      "outputs": []
    },
    {
      "cell_type": "code",
      "metadata": {
        "id": "brw6jUEp97-0",
        "outputId": "72a4097c-2199-4ddd-879c-a44bd38ca61a",
        "colab": {
          "base_uri": "https://localhost:8080/"
        }
      },
      "source": [
        "for i in t :\n",
        "    print(i)"
      ],
      "execution_count": 117,
      "outputs": [
        {
          "output_type": "stream",
          "text": [
            "3\n",
            "4\n",
            "5\n",
            "6\n"
          ],
          "name": "stdout"
        }
      ]
    },
    {
      "cell_type": "code",
      "metadata": {
        "id": "I_eVFeQN97-1"
      },
      "source": [
        "s = {5,6,7,8}"
      ],
      "execution_count": 118,
      "outputs": []
    },
    {
      "cell_type": "code",
      "metadata": {
        "id": "XpolQIWV97-1",
        "outputId": "be69960e-1482-4e9f-d62d-b89cfb9da420",
        "colab": {
          "base_uri": "https://localhost:8080/"
        }
      },
      "source": [
        "for i in s :\n",
        "    print(i)"
      ],
      "execution_count": 119,
      "outputs": [
        {
          "output_type": "stream",
          "text": [
            "8\n",
            "5\n",
            "6\n",
            "7\n"
          ],
          "name": "stdout"
        }
      ]
    },
    {
      "cell_type": "code",
      "metadata": {
        "id": "-rI2CaVJ97-1"
      },
      "source": [
        "s1 = \"sudhanshu\""
      ],
      "execution_count": 120,
      "outputs": []
    },
    {
      "cell_type": "code",
      "metadata": {
        "id": "XCeJEozK97-2",
        "outputId": "e60ac1f4-13cc-4fa7-9617-ed18a7f6b664",
        "colab": {
          "base_uri": "https://localhost:8080/"
        }
      },
      "source": [
        "for i in s1:\n",
        "    print(i)"
      ],
      "execution_count": 121,
      "outputs": [
        {
          "output_type": "stream",
          "text": [
            "s\n",
            "u\n",
            "d\n",
            "h\n",
            "a\n",
            "n\n",
            "s\n",
            "h\n",
            "u\n"
          ],
          "name": "stdout"
        }
      ]
    },
    {
      "cell_type": "code",
      "metadata": {
        "id": "Qvl2k6lK97-2"
      },
      "source": [
        "s = {4,5,6,7}"
      ],
      "execution_count": 122,
      "outputs": []
    },
    {
      "cell_type": "code",
      "metadata": {
        "id": "_Bo4jZT397-2",
        "outputId": "af890d35-9967-417e-cb3c-1962c3036cc6",
        "colab": {
          "base_uri": "https://localhost:8080/",
          "height": 163
        }
      },
      "source": [
        "s[0]"
      ],
      "execution_count": 123,
      "outputs": [
        {
          "output_type": "error",
          "ename": "TypeError",
          "evalue": "ignored",
          "traceback": [
            "\u001b[0;31m---------------------------------------------------------------------------\u001b[0m",
            "\u001b[0;31mTypeError\u001b[0m                                 Traceback (most recent call last)",
            "\u001b[0;32m<ipython-input-123-c9c96910e542>\u001b[0m in \u001b[0;36m<module>\u001b[0;34m()\u001b[0m\n\u001b[0;32m----> 1\u001b[0;31m \u001b[0ms\u001b[0m\u001b[0;34m[\u001b[0m\u001b[0;36m0\u001b[0m\u001b[0;34m]\u001b[0m\u001b[0;34m\u001b[0m\u001b[0;34m\u001b[0m\u001b[0m\n\u001b[0m",
            "\u001b[0;31mTypeError\u001b[0m: 'set' object is not subscriptable"
          ]
        }
      ]
    },
    {
      "cell_type": "code",
      "metadata": {
        "id": "SrN_LJIG97-3"
      },
      "source": [
        "t = (5,6,7,8,899,9,9,9,9,9)"
      ],
      "execution_count": 124,
      "outputs": []
    },
    {
      "cell_type": "code",
      "metadata": {
        "id": "KSP9afRo97-3",
        "outputId": "63c42cb4-5f5b-4d6f-91f8-c5afd0aa3ce6",
        "colab": {
          "base_uri": "https://localhost:8080/"
        }
      },
      "source": [
        "t[::-1]"
      ],
      "execution_count": 125,
      "outputs": [
        {
          "output_type": "execute_result",
          "data": {
            "text/plain": [
              "(9, 9, 9, 9, 9, 899, 8, 7, 6, 5)"
            ]
          },
          "metadata": {
            "tags": []
          },
          "execution_count": 125
        }
      ]
    },
    {
      "cell_type": "code",
      "metadata": {
        "id": "R2YXUK5U97-3"
      },
      "source": [
        ""
      ],
      "execution_count": 125,
      "outputs": []
    },
    {
      "cell_type": "code",
      "metadata": {
        "id": "bt0SZMym97-4",
        "outputId": "4d8b61bb-e8cb-4af9-bf39-754cb61e5693",
        "colab": {
          "base_uri": "https://localhost:8080/",
          "height": 129
        }
      },
      "source": [
        "d = {\"name\" :\"sudh\" , \"mail\" :\"Fsdf s\" , \"no\":[454,54,454,54,5]}\n",
        "d[]"
      ],
      "execution_count": 126,
      "outputs": [
        {
          "output_type": "error",
          "ename": "SyntaxError",
          "evalue": "ignored",
          "traceback": [
            "\u001b[0;36m  File \u001b[0;32m\"<ipython-input-126-150b515ad326>\"\u001b[0;36m, line \u001b[0;32m2\u001b[0m\n\u001b[0;31m    d[]\u001b[0m\n\u001b[0m      ^\u001b[0m\n\u001b[0;31mSyntaxError\u001b[0m\u001b[0;31m:\u001b[0m invalid syntax\n"
          ]
        }
      ]
    },
    {
      "cell_type": "code",
      "metadata": {
        "id": "BnctL-sI97-4"
      },
      "source": [
        "for i in d.items():\n",
        "    if type(i[1])== list:\n",
        "        print(i[1])\n",
        "        for j in i[1]:\n",
        "            if j > 60 :\n",
        "                print(\"element\" , j )\n",
        "            else :\n",
        "                print(\"fsffs\")"
      ],
      "execution_count": 127,
      "outputs": []
    },
    {
      "cell_type": "code",
      "metadata": {
        "id": "3ZcBOBAo97-4"
      },
      "source": [
        "for i in d.items():\n",
        "    if type(i[1]) == list:\n",
        "        for j in i[1]:\n",
        "            if j >60:\n",
        "                print(\"elemetn\" , j)\n",
        "            else :\n",
        "                print(\"no element lesser then 60 \")\n",
        "    "
      ],
      "execution_count": 128,
      "outputs": []
    },
    {
      "cell_type": "code",
      "metadata": {
        "id": "RH6RVh0F97-5",
        "outputId": "b5985d3b-4909-42c9-a446-94b15f57512e",
        "colab": {
          "base_uri": "https://localhost:8080/"
        }
      },
      "source": [
        "for i in d :\n",
        "    print(i)"
      ],
      "execution_count": 129,
      "outputs": [
        {
          "output_type": "stream",
          "text": [
            "dfdf\n",
            "name\n",
            "(4, 5, 6)\n"
          ],
          "name": "stdout"
        }
      ]
    },
    {
      "cell_type": "code",
      "metadata": {
        "id": "RHrMp-LZ97-5",
        "outputId": "1015c3d6-399b-4a21-8c3d-12b643cb6b0f",
        "colab": {
          "base_uri": "https://localhost:8080/"
        }
      },
      "source": [
        "for i in d.keys():\n",
        "    if type(d[i])== list:\n",
        "        print(d[i])\n",
        "    else :\n",
        "        print(\"fsfs \")"
      ],
      "execution_count": 130,
      "outputs": [
        {
          "output_type": "stream",
          "text": [
            "fsfs \n",
            "fsfs \n",
            "fsfs \n"
          ],
          "name": "stdout"
        }
      ]
    },
    {
      "cell_type": "code",
      "metadata": {
        "id": "PfhRN5zR97-6",
        "outputId": "36f7aa5d-5a14-4a34-ae2a-e499e3c8ea87",
        "colab": {
          "base_uri": "https://localhost:8080/"
        }
      },
      "source": [
        "for i in d.values():\n",
        "    print(i)"
      ],
      "execution_count": 131,
      "outputs": [
        {
          "output_type": "stream",
          "text": [
            "fsdfsf\n",
            "sudhfsdfsfsaf\n",
            "fdsfdsf\n"
          ],
          "name": "stdout"
        }
      ]
    },
    {
      "cell_type": "code",
      "metadata": {
        "id": "CTBrGPMJ97-6"
      },
      "source": [
        ""
      ],
      "execution_count": 131,
      "outputs": []
    }
  ]
}