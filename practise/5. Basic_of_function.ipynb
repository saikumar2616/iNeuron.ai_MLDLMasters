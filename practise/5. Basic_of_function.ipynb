{
  "nbformat": 4,
  "nbformat_minor": 0,
  "metadata": {
    "kernelspec": {
      "display_name": "Python 3",
      "language": "python",
      "name": "python3"
    },
    "language_info": {
      "codemirror_mode": {
        "name": "ipython",
        "version": 3
      },
      "file_extension": ".py",
      "mimetype": "text/x-python",
      "name": "python",
      "nbconvert_exporter": "python",
      "pygments_lexer": "ipython3",
      "version": "3.8.5"
    },
    "colab": {
      "name": "Basic of function.ipynb",
      "provenance": []
    }
  },
  "cells": [
    {
      "cell_type": "code",
      "metadata": {
        "id": "h0keUEMQubHK"
      },
      "source": [
        "s = \"sudh\""
      ],
      "execution_count": 1,
      "outputs": []
    },
    {
      "cell_type": "code",
      "metadata": {
        "id": "j5Wx84bhubHM",
        "outputId": "973fba66-3156-43a0-d7b0-40978ab39a29",
        "colab": {
          "base_uri": "https://localhost:8080/"
        }
      },
      "source": [
        "len(s)"
      ],
      "execution_count": 2,
      "outputs": [
        {
          "output_type": "execute_result",
          "data": {
            "text/plain": [
              "4"
            ]
          },
          "metadata": {
            "tags": []
          },
          "execution_count": 2
        }
      ]
    },
    {
      "cell_type": "code",
      "metadata": {
        "id": "I4MK9Ne3ubHO",
        "outputId": "8965afea-0f6e-43d6-ecc8-53f4e9e6aac0",
        "colab": {
          "base_uri": "https://localhost:8080/"
        }
      },
      "source": [
        "print(s)"
      ],
      "execution_count": 3,
      "outputs": [
        {
          "output_type": "stream",
          "text": [
            "sudh\n"
          ],
          "name": "stdout"
        }
      ]
    },
    {
      "cell_type": "code",
      "metadata": {
        "id": "-HmPFIl3ubHO"
      },
      "source": [
        "def test():\n",
        "    pass"
      ],
      "execution_count": 4,
      "outputs": []
    },
    {
      "cell_type": "code",
      "metadata": {
        "id": "hU0NhCJtubHP"
      },
      "source": [
        "test()"
      ],
      "execution_count": 5,
      "outputs": []
    },
    {
      "cell_type": "code",
      "metadata": {
        "id": "7LrJVYb6ubHP"
      },
      "source": [
        "def test1():\n",
        "    print(\"this is my first fun\")"
      ],
      "execution_count": 6,
      "outputs": []
    },
    {
      "cell_type": "code",
      "metadata": {
        "id": "amDfGBBPubHQ",
        "outputId": "fb2a7e67-f424-46e7-ac2d-3a2bbcae35f5",
        "colab": {
          "base_uri": "https://localhost:8080/"
        }
      },
      "source": [
        "print(\"this is my first fun\")"
      ],
      "execution_count": 7,
      "outputs": [
        {
          "output_type": "stream",
          "text": [
            "this is my first fun\n"
          ],
          "name": "stdout"
        }
      ]
    },
    {
      "cell_type": "code",
      "metadata": {
        "id": "2FhDQT5WubHQ",
        "outputId": "7d917ea6-a7ef-44bd-85bd-38777cae2fd8",
        "colab": {
          "base_uri": "https://localhost:8080/"
        }
      },
      "source": [
        "test1()"
      ],
      "execution_count": 8,
      "outputs": [
        {
          "output_type": "stream",
          "text": [
            "this is my first fun\n"
          ],
          "name": "stdout"
        }
      ]
    },
    {
      "cell_type": "code",
      "metadata": {
        "id": "sINdpPyyubHR",
        "outputId": "4076bf1b-5adb-473e-ae0e-9a2169dc0b6e",
        "colab": {
          "base_uri": "https://localhost:8080/"
        }
      },
      "source": [
        "test1()"
      ],
      "execution_count": 9,
      "outputs": [
        {
          "output_type": "stream",
          "text": [
            "this is my first fun\n"
          ],
          "name": "stdout"
        }
      ]
    },
    {
      "cell_type": "code",
      "metadata": {
        "id": "Q9uvL2KNubHR",
        "outputId": "ecfff465-5ea7-4d25-bbbf-3974f210c93d",
        "colab": {
          "base_uri": "https://localhost:8080/"
        }
      },
      "source": [
        "test1()"
      ],
      "execution_count": 10,
      "outputs": [
        {
          "output_type": "stream",
          "text": [
            "this is my first fun\n"
          ],
          "name": "stdout"
        }
      ]
    },
    {
      "cell_type": "code",
      "metadata": {
        "id": "cQKrD9RaubHS",
        "outputId": "cc45e0d1-fe1a-4940-cc3a-0db7c9f1d809",
        "colab": {
          "base_uri": "https://localhost:8080/"
        }
      },
      "source": [
        "test1()"
      ],
      "execution_count": 11,
      "outputs": [
        {
          "output_type": "stream",
          "text": [
            "this is my first fun\n"
          ],
          "name": "stdout"
        }
      ]
    },
    {
      "cell_type": "code",
      "metadata": {
        "id": "cGE7TPEZubHS",
        "outputId": "0fea0577-5fb8-4066-e086-04a8a95581f6",
        "colab": {
          "base_uri": "https://localhost:8080/"
        }
      },
      "source": [
        "for i in range(10):\n",
        "    test1()"
      ],
      "execution_count": 12,
      "outputs": [
        {
          "output_type": "stream",
          "text": [
            "this is my first fun\n",
            "this is my first fun\n",
            "this is my first fun\n",
            "this is my first fun\n",
            "this is my first fun\n",
            "this is my first fun\n",
            "this is my first fun\n",
            "this is my first fun\n",
            "this is my first fun\n",
            "this is my first fun\n"
          ],
          "name": "stdout"
        }
      ]
    },
    {
      "cell_type": "code",
      "metadata": {
        "id": "fE42wxO6ubHT"
      },
      "source": [
        "def test2(a,b):\n",
        "    print(a,b)\n",
        "    "
      ],
      "execution_count": 13,
      "outputs": []
    },
    {
      "cell_type": "code",
      "metadata": {
        "id": "ulH-YKsUubHT",
        "outputId": "0861a246-f974-4804-d6c4-fa92083b6365",
        "colab": {
          "base_uri": "https://localhost:8080/"
        }
      },
      "source": [
        "test2(\"sudh\",6)"
      ],
      "execution_count": 14,
      "outputs": [
        {
          "output_type": "stream",
          "text": [
            "sudh 6\n"
          ],
          "name": "stdout"
        }
      ]
    },
    {
      "cell_type": "code",
      "metadata": {
        "id": "lODGYBqrubHT"
      },
      "source": [
        "def test3(a,c,b,n,h):\n",
        "    print(b,n,h , a)"
      ],
      "execution_count": 15,
      "outputs": []
    },
    {
      "cell_type": "code",
      "metadata": {
        "id": "X-ZMSud-ubHU",
        "outputId": "db160d15-757d-4352-d1d8-8c28ba0ae6e9",
        "colab": {
          "base_uri": "https://localhost:8080/"
        }
      },
      "source": [
        "test3([3,4,5] , (4,5,6) , \"ffs\", 45,3.45)"
      ],
      "execution_count": 16,
      "outputs": [
        {
          "output_type": "stream",
          "text": [
            "ffs 45 3.45 [3, 4, 5]\n"
          ],
          "name": "stdout"
        }
      ]
    },
    {
      "cell_type": "code",
      "metadata": {
        "id": "a3ZXrr3OubHV"
      },
      "source": [
        "def test4(b , y = \"sudh\"):\n",
        "    \n",
        "    print(b,y)"
      ],
      "execution_count": 17,
      "outputs": []
    },
    {
      "cell_type": "code",
      "metadata": {
        "id": "IB3J_bL6ubHV",
        "outputId": "632a08ae-0cbb-49bc-f84e-93eca88012c3",
        "colab": {
          "base_uri": "https://localhost:8080/"
        }
      },
      "source": [
        "test4(56, \"kumar\")"
      ],
      "execution_count": 18,
      "outputs": [
        {
          "output_type": "stream",
          "text": [
            "56 kumar\n"
          ],
          "name": "stdout"
        }
      ]
    },
    {
      "cell_type": "code",
      "metadata": {
        "id": "YW5IPnM4ubHW",
        "outputId": "0ac6d893-992b-460b-ca71-3ce3d3df5c0f",
        "colab": {
          "base_uri": "https://localhost:8080/"
        }
      },
      "source": [
        "print()"
      ],
      "execution_count": 63,
      "outputs": [
        {
          "output_type": "stream",
          "text": [
            "\n"
          ],
          "name": "stdout"
        }
      ]
    },
    {
      "cell_type": "code",
      "metadata": {
        "id": "goz4skkTubHW"
      },
      "source": [
        "def test5(b,v):\n",
        "    \"\"\"this is my own funsdfs\n",
        "    df\n",
        "    fsd\n",
        "    f\n",
        "    sf\n",
        "    sf\n",
        "    sf\n",
        "    sf\n",
        "    dsf\n",
        "    sf\n",
        "    sdf\n",
        "    sd\n",
        "    fsd\n",
        "    fs\n",
        "    df\n",
        "    sd\n",
        "    sd\n",
        "    fs\n",
        "    \"\"\"\n",
        "    print(\"dfsfsfsd\" , b,v )"
      ],
      "execution_count": 20,
      "outputs": []
    },
    {
      "cell_type": "code",
      "metadata": {
        "id": "fF7C-tC0ubHW",
        "outputId": "ca746d45-6a0c-4951-c0b9-83698a841d03",
        "colab": {
          "base_uri": "https://localhost:8080/"
        }
      },
      "source": [
        "test5(\"fsdsdf\",56546)"
      ],
      "execution_count": 21,
      "outputs": [
        {
          "output_type": "stream",
          "text": [
            "dfsfsfsd fsdsdf 56546\n"
          ],
          "name": "stdout"
        }
      ]
    },
    {
      "cell_type": "code",
      "metadata": {
        "id": "uh48iTQ0ubHX"
      },
      "source": [
        "def test6(a,t):\n",
        "    print(\"fsfsdfsfsdfff sfds\")"
      ],
      "execution_count": 22,
      "outputs": []
    },
    {
      "cell_type": "code",
      "metadata": {
        "id": "YYDvt4mKubHX",
        "outputId": "04f10909-f366-4096-b9a2-4e294e44ab88",
        "colab": {
          "base_uri": "https://localhost:8080/"
        }
      },
      "source": [
        "type(test6(\"fg\",567))"
      ],
      "execution_count": 23,
      "outputs": [
        {
          "output_type": "stream",
          "text": [
            "fsfsdfsfsdfff sfds\n"
          ],
          "name": "stdout"
        },
        {
          "output_type": "execute_result",
          "data": {
            "text/plain": [
              "NoneType"
            ]
          },
          "metadata": {
            "tags": []
          },
          "execution_count": 23
        }
      ]
    },
    {
      "cell_type": "code",
      "metadata": {
        "id": "BDMH-ovmubHX"
      },
      "source": [
        "def test7():\n",
        "    print(\"this is my fun\")"
      ],
      "execution_count": 24,
      "outputs": []
    },
    {
      "cell_type": "code",
      "metadata": {
        "id": "LWyoC5RLubHY",
        "outputId": "8afb4e1e-68d2-4ad3-e641-1ab4a691f418",
        "colab": {
          "base_uri": "https://localhost:8080/"
        }
      },
      "source": [
        "test7()"
      ],
      "execution_count": 25,
      "outputs": [
        {
          "output_type": "stream",
          "text": [
            "this is my fun\n"
          ],
          "name": "stdout"
        }
      ]
    },
    {
      "cell_type": "code",
      "metadata": {
        "id": "fJsmGf_yubHY",
        "outputId": "d6e5a8ad-2310-4ebe-c5d6-df0355c1b971",
        "colab": {
          "base_uri": "https://localhost:8080/",
          "height": 52
        }
      },
      "source": [
        "str(test7()) + \"sudh\""
      ],
      "execution_count": 26,
      "outputs": [
        {
          "output_type": "stream",
          "text": [
            "this is my fun\n"
          ],
          "name": "stdout"
        },
        {
          "output_type": "execute_result",
          "data": {
            "application/vnd.google.colaboratory.intrinsic+json": {
              "type": "string"
            },
            "text/plain": [
              "'Nonesudh'"
            ]
          },
          "metadata": {
            "tags": []
          },
          "execution_count": 26
        }
      ]
    },
    {
      "cell_type": "code",
      "metadata": {
        "id": "pjFwbegoubHY",
        "outputId": "6eb9ab42-a161-49bb-fc98-f8bd5efba19a",
        "colab": {
          "base_uri": "https://localhost:8080/"
        }
      },
      "source": [
        "type(test7())"
      ],
      "execution_count": 27,
      "outputs": [
        {
          "output_type": "stream",
          "text": [
            "this is my fun\n"
          ],
          "name": "stdout"
        },
        {
          "output_type": "execute_result",
          "data": {
            "text/plain": [
              "NoneType"
            ]
          },
          "metadata": {
            "tags": []
          },
          "execution_count": 27
        }
      ]
    },
    {
      "cell_type": "code",
      "metadata": {
        "id": "3d3p3RvpubHZ",
        "outputId": "764f4a00-c512-460a-e69c-494d59f744c6",
        "colab": {
          "base_uri": "https://localhost:8080/"
        }
      },
      "source": [
        "type(print(\"fsdf\"))"
      ],
      "execution_count": 28,
      "outputs": [
        {
          "output_type": "stream",
          "text": [
            "fsdf\n"
          ],
          "name": "stdout"
        },
        {
          "output_type": "execute_result",
          "data": {
            "text/plain": [
              "NoneType"
            ]
          },
          "metadata": {
            "tags": []
          },
          "execution_count": 28
        }
      ]
    },
    {
      "cell_type": "code",
      "metadata": {
        "id": "jGjzdILuubHZ"
      },
      "source": [
        "def test8(a,b):\n",
        "    return a"
      ],
      "execution_count": 29,
      "outputs": []
    },
    {
      "cell_type": "code",
      "metadata": {
        "id": "-VwH4b-LubHZ",
        "outputId": "59ed0054-79c8-42fb-f0d6-c879a3e6a136",
        "colab": {
          "base_uri": "https://localhost:8080/"
        }
      },
      "source": [
        "type(test8(45,\"fsdfs\"))"
      ],
      "execution_count": 30,
      "outputs": [
        {
          "output_type": "execute_result",
          "data": {
            "text/plain": [
              "int"
            ]
          },
          "metadata": {
            "tags": []
          },
          "execution_count": 30
        }
      ]
    },
    {
      "cell_type": "code",
      "metadata": {
        "id": "XVj_6fIbubHZ",
        "outputId": "dfb6296d-527b-4e22-e98b-59d679ad4a5d",
        "colab": {
          "base_uri": "https://localhost:8080/"
        }
      },
      "source": [
        "test8(5646,\"sdfs\" ) + 56"
      ],
      "execution_count": 31,
      "outputs": [
        {
          "output_type": "execute_result",
          "data": {
            "text/plain": [
              "5702"
            ]
          },
          "metadata": {
            "tags": []
          },
          "execution_count": 31
        }
      ]
    },
    {
      "cell_type": "code",
      "metadata": {
        "id": "AYkIgpBmubHa"
      },
      "source": [
        "def test9(a,b):\n",
        "    return a, b*b "
      ],
      "execution_count": 32,
      "outputs": []
    },
    {
      "cell_type": "code",
      "metadata": {
        "id": "gFDg3TicubHa",
        "outputId": "7b05de4c-5866-4bb8-c040-5996ddaf84af",
        "colab": {
          "base_uri": "https://localhost:8080/"
        }
      },
      "source": [
        "type(test9(3,4))"
      ],
      "execution_count": 33,
      "outputs": [
        {
          "output_type": "execute_result",
          "data": {
            "text/plain": [
              "tuple"
            ]
          },
          "metadata": {
            "tags": []
          },
          "execution_count": 33
        }
      ]
    },
    {
      "cell_type": "code",
      "metadata": {
        "id": "9oesyh-nubHa"
      },
      "source": [
        "def test10(a,b):\n",
        "    return a, b , a*b, a/b"
      ],
      "execution_count": 34,
      "outputs": []
    },
    {
      "cell_type": "code",
      "metadata": {
        "id": "ixFBj7S6ubHa",
        "outputId": "8a89c7b6-6802-4325-a2aa-3d72b5310c04",
        "colab": {
          "base_uri": "https://localhost:8080/"
        }
      },
      "source": [
        "for i in test10(3,5) :\n",
        "    print(i)"
      ],
      "execution_count": 35,
      "outputs": [
        {
          "output_type": "stream",
          "text": [
            "3\n",
            "5\n",
            "15\n",
            "0.6\n"
          ],
          "name": "stdout"
        }
      ]
    },
    {
      "cell_type": "code",
      "metadata": {
        "id": "wNrNobhHubHb",
        "outputId": "31d3e553-281d-46ac-bf6e-d5b19a8c760f",
        "colab": {
          "base_uri": "https://localhost:8080/"
        }
      },
      "source": [
        "test10(3,5)[0:3]"
      ],
      "execution_count": 36,
      "outputs": [
        {
          "output_type": "execute_result",
          "data": {
            "text/plain": [
              "(3, 5, 15)"
            ]
          },
          "metadata": {
            "tags": []
          },
          "execution_count": 36
        }
      ]
    },
    {
      "cell_type": "code",
      "metadata": {
        "id": "s1hT979wubHb"
      },
      "source": [
        "def test11(a,b) : \n",
        "    return a,b, a*b"
      ],
      "execution_count": 37,
      "outputs": []
    },
    {
      "cell_type": "code",
      "metadata": {
        "id": "13iFadJvubHb",
        "outputId": "e831816c-47f7-46f5-acf6-ba9405fd79d5",
        "colab": {
          "base_uri": "https://localhost:8080/"
        }
      },
      "source": [
        "test11(\"sudh\" , 3)"
      ],
      "execution_count": 38,
      "outputs": [
        {
          "output_type": "execute_result",
          "data": {
            "text/plain": [
              "('sudh', 3, 'sudhsudhsudh')"
            ]
          },
          "metadata": {
            "tags": []
          },
          "execution_count": 38
        }
      ]
    },
    {
      "cell_type": "code",
      "metadata": {
        "id": "5p_pUXPUubHc"
      },
      "source": [
        "a = 34\n",
        "b = 56\n",
        "c = 23"
      ],
      "execution_count": 39,
      "outputs": []
    },
    {
      "cell_type": "code",
      "metadata": {
        "id": "2i0XUKGrubHc"
      },
      "source": [
        "a,b,c = 344 , 56 , 23"
      ],
      "execution_count": 40,
      "outputs": []
    },
    {
      "cell_type": "code",
      "metadata": {
        "id": "qrIAW6RcubHc"
      },
      "source": [
        "_,_,_ = 23,45,[56,67,88,7]"
      ],
      "execution_count": 41,
      "outputs": []
    },
    {
      "cell_type": "code",
      "metadata": {
        "id": "i_NW4wZGubHd",
        "outputId": "75fb2052-bf4b-4ae6-e910-cbe1d2d2cf84",
        "colab": {
          "base_uri": "https://localhost:8080/"
        }
      },
      "source": [
        "_"
      ],
      "execution_count": 42,
      "outputs": [
        {
          "output_type": "execute_result",
          "data": {
            "text/plain": [
              "[56, 67, 88, 7]"
            ]
          },
          "metadata": {
            "tags": []
          },
          "execution_count": 42
        }
      ]
    },
    {
      "cell_type": "code",
      "metadata": {
        "id": "Gkhzd6cGubHd"
      },
      "source": [
        "def test12(a,b,c):\n",
        "    return a,b,c"
      ],
      "execution_count": 43,
      "outputs": []
    },
    {
      "cell_type": "code",
      "metadata": {
        "id": "1KM4QV8kubHf",
        "outputId": "42347472-d72a-46eb-d18b-7205178b26e7",
        "colab": {
          "base_uri": "https://localhost:8080/"
        }
      },
      "source": [
        "m,p,q = test12(5,3,1)\n",
        "m,p,q "
      ],
      "execution_count": 64,
      "outputs": [
        {
          "output_type": "execute_result",
          "data": {
            "text/plain": [
              "(5, 3, 1)"
            ]
          },
          "metadata": {
            "tags": []
          },
          "execution_count": 64
        }
      ]
    },
    {
      "cell_type": "code",
      "metadata": {
        "id": "iG2x7nZbubHf",
        "outputId": "9716695f-ad2f-483c-90e8-29fbd02e85fe",
        "colab": {
          "base_uri": "https://localhost:8080/"
        }
      },
      "source": [
        "test12(5,3,1)"
      ],
      "execution_count": 45,
      "outputs": [
        {
          "output_type": "execute_result",
          "data": {
            "text/plain": [
              "(5, 3, 1)"
            ]
          },
          "metadata": {
            "tags": []
          },
          "execution_count": 45
        }
      ]
    },
    {
      "cell_type": "code",
      "metadata": {
        "id": "am6-pYswubHf",
        "outputId": "055f460d-a116-4b40-be82-0b124ae13de3",
        "colab": {
          "base_uri": "https://localhost:8080/"
        }
      },
      "source": [
        "m"
      ],
      "execution_count": 46,
      "outputs": [
        {
          "output_type": "execute_result",
          "data": {
            "text/plain": [
              "5"
            ]
          },
          "metadata": {
            "tags": []
          },
          "execution_count": 46
        }
      ]
    },
    {
      "cell_type": "code",
      "metadata": {
        "id": "vfrK5e9ZubHg",
        "outputId": "975bee4d-c78c-435f-e446-c1119fd5d0d3",
        "colab": {
          "base_uri": "https://localhost:8080/"
        }
      },
      "source": [
        "q"
      ],
      "execution_count": 47,
      "outputs": [
        {
          "output_type": "execute_result",
          "data": {
            "text/plain": [
              "1"
            ]
          },
          "metadata": {
            "tags": []
          },
          "execution_count": 47
        }
      ]
    },
    {
      "cell_type": "code",
      "metadata": {
        "id": "WiHH6qAUubHg",
        "outputId": "9aa61bc5-ca0f-4945-875d-ea1458ceae96",
        "colab": {
          "base_uri": "https://localhost:8080/"
        }
      },
      "source": [
        "p"
      ],
      "execution_count": 48,
      "outputs": [
        {
          "output_type": "execute_result",
          "data": {
            "text/plain": [
              "3"
            ]
          },
          "metadata": {
            "tags": []
          },
          "execution_count": 48
        }
      ]
    },
    {
      "cell_type": "code",
      "metadata": {
        "id": "cXdHnmBXubHg"
      },
      "source": [
        "p,_,_ = test12(5,3,1)"
      ],
      "execution_count": 65,
      "outputs": []
    },
    {
      "cell_type": "code",
      "metadata": {
        "id": "IdDzAHXzubHh",
        "outputId": "d1276a1d-7bf7-43b0-fd7c-36f6d069397c",
        "colab": {
          "base_uri": "https://localhost:8080/"
        }
      },
      "source": [
        "p,_,_"
      ],
      "execution_count": 66,
      "outputs": [
        {
          "output_type": "execute_result",
          "data": {
            "text/plain": [
              "(5, 1, 1)"
            ]
          },
          "metadata": {
            "tags": []
          },
          "execution_count": 66
        }
      ]
    },
    {
      "cell_type": "code",
      "metadata": {
        "id": "gp6bJabpubHh"
      },
      "source": [
        "def test13(b,n ):\n",
        "    \"\"\"this is a fun create by me \n",
        "    this fun takes 2 argument \n",
        "    this function is going to multiply you these two argument \n",
        "    and it will give you someting as a return \n",
        "    \"\"\"\n",
        "    c = b * n\n",
        "    return c "
      ],
      "execution_count": 51,
      "outputs": []
    },
    {
      "cell_type": "code",
      "metadata": {
        "id": "C99qjOhAubHh",
        "outputId": "bb92c3fe-1f5d-4741-c5b4-47fd28cc69b4",
        "colab": {
          "base_uri": "https://localhost:8080/",
          "height": 35
        }
      },
      "source": [
        "test13(\"sudh\" , 3)"
      ],
      "execution_count": 52,
      "outputs": [
        {
          "output_type": "execute_result",
          "data": {
            "application/vnd.google.colaboratory.intrinsic+json": {
              "type": "string"
            },
            "text/plain": [
              "'sudhsudhsudh'"
            ]
          },
          "metadata": {
            "tags": []
          },
          "execution_count": 52
        }
      ]
    },
    {
      "cell_type": "code",
      "metadata": {
        "id": "dRozZ1fuubHh"
      },
      "source": [
        "def test(b):\n",
        "    c = []\n",
        "    for i in b :\n",
        "        c.append(i)\n",
        "    return c , c, c "
      ],
      "execution_count": 53,
      "outputs": []
    },
    {
      "cell_type": "code",
      "metadata": {
        "id": "Oh-KpmtgubHi",
        "outputId": "56b07fab-bf14-4811-c85a-fa9a75b18443",
        "colab": {
          "base_uri": "https://localhost:8080/"
        }
      },
      "source": [
        "test([4,5,6])"
      ],
      "execution_count": 54,
      "outputs": [
        {
          "output_type": "execute_result",
          "data": {
            "text/plain": [
              "([4, 5, 6], [4, 5, 6], [4, 5, 6])"
            ]
          },
          "metadata": {
            "tags": []
          },
          "execution_count": 54
        }
      ]
    },
    {
      "cell_type": "code",
      "metadata": {
        "id": "bvXBtnGFubHi",
        "outputId": "0061916b-8fd9-4593-d1cb-93d9c5f937e2",
        "colab": {
          "base_uri": "https://localhost:8080/"
        }
      },
      "source": [
        "test((\"fsdf\",\"fsdfs\" , 45,45))"
      ],
      "execution_count": 55,
      "outputs": [
        {
          "output_type": "execute_result",
          "data": {
            "text/plain": [
              "(['fsdf', 'fsdfs', 45, 45],\n",
              " ['fsdf', 'fsdfs', 45, 45],\n",
              " ['fsdf', 'fsdfs', 45, 45])"
            ]
          },
          "metadata": {
            "tags": []
          },
          "execution_count": 55
        }
      ]
    },
    {
      "cell_type": "code",
      "metadata": {
        "id": "IEu8DMUkubHi",
        "outputId": "36f73035-2573-47ad-a672-3c986f443781",
        "colab": {
          "base_uri": "https://localhost:8080/"
        }
      },
      "source": [
        "a = input()\n",
        "test(a)"
      ],
      "execution_count": 56,
      "outputs": [
        {
          "output_type": "stream",
          "text": [
            "123\n"
          ],
          "name": "stdout"
        },
        {
          "output_type": "execute_result",
          "data": {
            "text/plain": [
              "(['1', '2', '3'], ['1', '2', '3'], ['1', '2', '3'])"
            ]
          },
          "metadata": {
            "tags": []
          },
          "execution_count": 56
        }
      ]
    },
    {
      "cell_type": "code",
      "metadata": {
        "id": "ddae9uUryre7",
        "outputId": "35dd778e-679c-476e-da69-ba71a0b94d17",
        "colab": {
          "base_uri": "https://localhost:8080/"
        }
      },
      "source": [
        "test('asfvsdgb')"
      ],
      "execution_count": 67,
      "outputs": [
        {
          "output_type": "execute_result",
          "data": {
            "text/plain": [
              "(['a', 's', 'f', 'v', 's', 'd', 'g', 'b'],\n",
              " ['a', 's', 'f', 'v', 's', 'd', 'g', 'b'],\n",
              " ['a', 's', 'f', 'v', 's', 'd', 'g', 'b'])"
            ]
          },
          "metadata": {
            "tags": []
          },
          "execution_count": 67
        }
      ]
    },
    {
      "cell_type": "code",
      "metadata": {
        "id": "xzm13T8lubHj"
      },
      "source": [
        "def dict_to_list(dictIn):\n",
        "    \"\"\" This function coverts dict to list for values \n",
        "    where it's string \"\"\"\n",
        "    strList = []\n",
        "    for i in dictIn.values():\n",
        "        if type(i) == str:\n",
        "            strList.append(i)\n",
        "\n",
        "    return strList\n"
      ],
      "execution_count": 57,
      "outputs": []
    },
    {
      "cell_type": "code",
      "metadata": {
        "id": "uRUD3vRtubHj",
        "outputId": "30488b1e-d555-4ad4-bbf3-09b514f01074",
        "colab": {
          "base_uri": "https://localhost:8080/"
        }
      },
      "source": [
        "dict_to_list({\"a \":\"fdsf\" , \"b\" :{\"n\":\"fsdf\"},\"c\":[5,6,7,8],\"d\":456})"
      ],
      "execution_count": 58,
      "outputs": [
        {
          "output_type": "execute_result",
          "data": {
            "text/plain": [
              "['fdsf']"
            ]
          },
          "metadata": {
            "tags": []
          },
          "execution_count": 58
        }
      ]
    },
    {
      "cell_type": "code",
      "metadata": {
        "id": "qbOkNGLJubHj"
      },
      "source": [
        "def test14(d):\n",
        "    l = []\n",
        "    for i in d.values():\n",
        "        if type(i) == str:\n",
        "            l.append(i)\n",
        "            \n",
        "    return l "
      ],
      "execution_count": 59,
      "outputs": []
    },
    {
      "cell_type": "code",
      "metadata": {
        "id": "kUizVRjiubHj",
        "outputId": "8edcd7e4-4716-44b6-e831-2c7b40dde010",
        "colab": {
          "base_uri": "https://localhost:8080/"
        }
      },
      "source": [
        "test14({\"b\":\"sudh\", \"c\" : \"sdfsf\"})"
      ],
      "execution_count": 60,
      "outputs": [
        {
          "output_type": "execute_result",
          "data": {
            "text/plain": [
              "['sudh', 'sdfsf']"
            ]
          },
          "metadata": {
            "tags": []
          },
          "execution_count": 60
        }
      ]
    },
    {
      "cell_type": "code",
      "metadata": {
        "id": "JtJ0GOfMubHk",
        "outputId": "1cfd955c-2d36-46bd-e163-3b58a114a7a1",
        "colab": {
          "base_uri": "https://localhost:8080/"
        }
      },
      "source": [
        "a = 54554\n",
        "if type(a) == dict :\n",
        "    test14(a)\n",
        "else :\n",
        "    print(\"input is not a dict \")"
      ],
      "execution_count": 61,
      "outputs": [
        {
          "output_type": "stream",
          "text": [
            "input is not a dict \n"
          ],
          "name": "stdout"
        }
      ]
    },
    {
      "cell_type": "code",
      "metadata": {
        "id": "mF1ORxSaubHk",
        "outputId": "f06e6b4b-4437-4239-cd9b-2137932bf5f3",
        "colab": {
          "base_uri": "https://localhost:8080/"
        }
      },
      "source": [
        "def func(name, mail, phn):\n",
        "    \"\"\"\n",
        "    This fucntion will take user details and return them \n",
        "    in form of a dictionary\n",
        "    \"\"\"\n",
        "    l = [name, mail, phn]\n",
        "    d = {}\n",
        "    k = 0\n",
        "    for i in l:\n",
        "        d[k] =  l[k]\n",
        "        k = k + 1\n",
        "    return d\n",
        "\n",
        "\n",
        "name = input(\"Enter name = \")\n",
        "mail_id = input(\"Enter a mail id = \")\n",
        "phone = int(input(\"Enter a  phone = \"))\n",
        "func(name,mail_id,phone)\n"
      ],
      "execution_count": 68,
      "outputs": [
        {
          "output_type": "stream",
          "text": [
            "Enter name = sai\n",
            "Enter a mail id = F@asfc\n",
            "Enter a  phone = 451845121\n"
          ],
          "name": "stdout"
        },
        {
          "output_type": "execute_result",
          "data": {
            "text/plain": [
              "{0: 'sai', 1: 'F@asfc', 2: 451845121}"
            ]
          },
          "metadata": {
            "tags": []
          },
          "execution_count": 68
        }
      ]
    },
    {
      "cell_type": "code",
      "metadata": {
        "id": "0XXo0RNHubHk"
      },
      "source": [
        "def test15():\n",
        "    name = input()\n",
        "    mail_id = input()\n",
        "    phone_no = int(input()) \n",
        "    return {\"name\":name, \"mail_id\":mail_id , \"phone_no\":phone_no}\n",
        "    "
      ],
      "execution_count": 70,
      "outputs": []
    },
    {
      "cell_type": "code",
      "metadata": {
        "id": "zGINjrzlubHl",
        "outputId": "af678ce5-cd76-49d2-a8f7-0d49ea321529",
        "colab": {
          "base_uri": "https://localhost:8080/"
        }
      },
      "source": [
        "test15()"
      ],
      "execution_count": 71,
      "outputs": [
        {
          "output_type": "stream",
          "text": [
            "bmcvb\n",
            "vn xcv\n",
            "4565\n"
          ],
          "name": "stdout"
        },
        {
          "output_type": "execute_result",
          "data": {
            "text/plain": [
              "{'mail_id': 'vn xcv', 'name': 'bmcvb', 'phone_no': 4565}"
            ]
          },
          "metadata": {
            "tags": []
          },
          "execution_count": 71
        }
      ]
    },
    {
      "cell_type": "code",
      "metadata": {
        "id": "fQcEdTloubHl"
      },
      "source": [
        "def test16(name , mail_id, phone_no):\n",
        "    t  = ( name, mail_id, phone_no)\n",
        "    d = {}\n",
        "    for i in t : \n",
        "        d[i] = name\n",
        "    return d \n",
        "        "
      ],
      "execution_count": 73,
      "outputs": []
    },
    {
      "cell_type": "code",
      "metadata": {
        "id": "WqpRvG8eubHl",
        "outputId": "e1f95945-6b5d-408b-a96d-7a3636bcc1ff",
        "colab": {
          "base_uri": "https://localhost:8080/"
        }
      },
      "source": [
        "test16(\"sudh\" , \"sdfsf\" , 435654)"
      ],
      "execution_count": 74,
      "outputs": [
        {
          "output_type": "execute_result",
          "data": {
            "text/plain": [
              "{435654: 'sudh', 'sdfsf': 'sudh', 'sudh': 'sudh'}"
            ]
          },
          "metadata": {
            "tags": []
          },
          "execution_count": 74
        }
      ]
    },
    {
      "cell_type": "code",
      "metadata": {
        "id": "REwtO4YxubHm",
        "outputId": "cded96e7-b409-4e58-82ff-aed5529d38eb",
        "colab": {
          "base_uri": "https://localhost:8080/"
        }
      },
      "source": [
        "name = input()"
      ],
      "execution_count": 75,
      "outputs": [
        {
          "output_type": "stream",
          "text": [
            "nxfn\n"
          ],
          "name": "stdout"
        }
      ]
    },
    {
      "cell_type": "code",
      "metadata": {
        "id": "pLogISr5ubHm",
        "outputId": "b772be84-b65d-4daf-f425-9a215cd8e941",
        "colab": {
          "base_uri": "https://localhost:8080/",
          "height": 35
        }
      },
      "source": [
        "name"
      ],
      "execution_count": 76,
      "outputs": [
        {
          "output_type": "execute_result",
          "data": {
            "application/vnd.google.colaboratory.intrinsic+json": {
              "type": "string"
            },
            "text/plain": [
              "'nxfn'"
            ]
          },
          "metadata": {
            "tags": []
          },
          "execution_count": 76
        }
      ]
    },
    {
      "cell_type": "code",
      "metadata": {
        "id": "2UWTpD_UubHm",
        "outputId": "0b5f45e8-f7eb-46b2-f0fe-3641211ba874",
        "colab": {
          "base_uri": "https://localhost:8080/"
        }
      },
      "source": [
        "def person_info(name,phone,mail):\n",
        "    lst1= [name,phone,mail]\n",
        "    lst2 = [\"name\",\"phone\",\"mail\"]\n",
        "    d={}\n",
        "    for i,j in zip(lst1,lst2):\n",
        "        d[j] = i\n",
        "    return d\n",
        "name = input(\"enter your name...\")\n",
        "phone = int(input(\"enter your number...\"))\n",
        "mail = input(\"enter your mail....\")\n",
        "person_info(name,phone,mail)\n"
      ],
      "execution_count": 77,
      "outputs": [
        {
          "output_type": "stream",
          "text": [
            "enter your name...nhxf\n",
            "enter your number...54\n",
            "enter your mail....fdhzfdh\n"
          ],
          "name": "stdout"
        },
        {
          "output_type": "execute_result",
          "data": {
            "text/plain": [
              "{'mail': 'fdhzfdh', 'name': 'nhxf', 'phone': 54}"
            ]
          },
          "metadata": {
            "tags": []
          },
          "execution_count": 77
        }
      ]
    },
    {
      "cell_type": "code",
      "metadata": {
        "id": "Jd8hk0ErubHn"
      },
      "source": [
        "a= [56,56,56,56,5,6]\n",
        "b = 54345"
      ],
      "execution_count": 78,
      "outputs": []
    },
    {
      "cell_type": "code",
      "metadata": {
        "id": "GHrBAIRdubHn",
        "outputId": "245073f0-f064-4673-8159-6c4471d42150",
        "colab": {
          "base_uri": "https://localhost:8080/",
          "height": 162
        }
      },
      "source": [
        "list(zip(a,b))"
      ],
      "execution_count": 79,
      "outputs": [
        {
          "output_type": "error",
          "ename": "TypeError",
          "evalue": "ignored",
          "traceback": [
            "\u001b[0;31m---------------------------------------------------------------------------\u001b[0m",
            "\u001b[0;31mTypeError\u001b[0m                                 Traceback (most recent call last)",
            "\u001b[0;32m<ipython-input-79-3bb8387cd07c>\u001b[0m in \u001b[0;36m<module>\u001b[0;34m()\u001b[0m\n\u001b[0;32m----> 1\u001b[0;31m \u001b[0mlist\u001b[0m\u001b[0;34m(\u001b[0m\u001b[0mzip\u001b[0m\u001b[0;34m(\u001b[0m\u001b[0ma\u001b[0m\u001b[0;34m,\u001b[0m\u001b[0mb\u001b[0m\u001b[0;34m)\u001b[0m\u001b[0;34m)\u001b[0m\u001b[0;34m\u001b[0m\u001b[0;34m\u001b[0m\u001b[0m\n\u001b[0m",
            "\u001b[0;31mTypeError\u001b[0m: zip argument #2 must support iteration"
          ]
        }
      ]
    },
    {
      "cell_type": "code",
      "metadata": {
        "id": "eSQT6RtnubHn"
      },
      "source": [
        "def test17(a,b,c,d):\n",
        "    return a ,b,c,d\n"
      ],
      "execution_count": 80,
      "outputs": []
    },
    {
      "cell_type": "code",
      "metadata": {
        "id": "k43GCZ7uubHn"
      },
      "source": [
        ""
      ],
      "execution_count": null,
      "outputs": []
    }
  ]
}