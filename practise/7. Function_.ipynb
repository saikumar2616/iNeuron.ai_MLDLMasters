{
  "nbformat": 4,
  "nbformat_minor": 0,
  "metadata": {
    "kernelspec": {
      "display_name": "Python 3",
      "language": "python",
      "name": "python3"
    },
    "language_info": {
      "codemirror_mode": {
        "name": "ipython",
        "version": 3
      },
      "file_extension": ".py",
      "mimetype": "text/x-python",
      "name": "python",
      "nbconvert_exporter": "python",
      "pygments_lexer": "ipython3",
      "version": "3.8.5"
    },
    "colab": {
      "name": "Function .ipynb",
      "provenance": []
    }
  },
  "cells": [
    {
      "cell_type": "code",
      "metadata": {
        "id": "esqkipB44FB9"
      },
      "source": [
        "def test(a,b ):\n",
        "    return a+b"
      ],
      "execution_count": 1,
      "outputs": []
    },
    {
      "cell_type": "code",
      "metadata": {
        "id": "CwJCKMBm4FCK",
        "outputId": "95e18d29-a1d0-43a2-ea17-6d194788325d",
        "colab": {
          "base_uri": "https://localhost:8080/"
        }
      },
      "source": [
        "test(45,45)"
      ],
      "execution_count": 2,
      "outputs": [
        {
          "output_type": "execute_result",
          "data": {
            "text/plain": [
              "90"
            ]
          },
          "metadata": {
            "tags": []
          },
          "execution_count": 2
        }
      ]
    },
    {
      "cell_type": "code",
      "metadata": {
        "id": "5tAEdQrD4FCa"
      },
      "source": [
        "def test1(*args):\n",
        "    return args"
      ],
      "execution_count": 3,
      "outputs": []
    },
    {
      "cell_type": "code",
      "metadata": {
        "id": "kyrDp-Bl4FCf",
        "outputId": "b124eacd-fc1f-4366-c48b-6568b4e4f0eb",
        "colab": {
          "base_uri": "https://localhost:8080/"
        }
      },
      "source": [
        "test1()"
      ],
      "execution_count": 4,
      "outputs": [
        {
          "output_type": "execute_result",
          "data": {
            "text/plain": [
              "()"
            ]
          },
          "metadata": {
            "tags": []
          },
          "execution_count": 4
        }
      ]
    },
    {
      "cell_type": "code",
      "metadata": {
        "id": "d4qBuLv24FCh",
        "outputId": "483ef54f-d8d9-48dc-946f-9c9e733f2d27",
        "colab": {
          "base_uri": "https://localhost:8080/"
        }
      },
      "source": [
        "test1(34,56,23)"
      ],
      "execution_count": 5,
      "outputs": [
        {
          "output_type": "execute_result",
          "data": {
            "text/plain": [
              "(34, 56, 23)"
            ]
          },
          "metadata": {
            "tags": []
          },
          "execution_count": 5
        }
      ]
    },
    {
      "cell_type": "code",
      "metadata": {
        "id": "DxwTamwb4FCj",
        "outputId": "09be7925-ca69-4e44-b7b8-275dc858db7f",
        "colab": {
          "base_uri": "https://localhost:8080/"
        }
      },
      "source": [
        "test1([3,4,5,6] , 45 , \"sudh\",345,54,54,54,45,45,45)"
      ],
      "execution_count": 6,
      "outputs": [
        {
          "output_type": "execute_result",
          "data": {
            "text/plain": [
              "([3, 4, 5, 6], 45, 'sudh', 345, 54, 54, 54, 45, 45, 45)"
            ]
          },
          "metadata": {
            "tags": []
          },
          "execution_count": 6
        }
      ]
    },
    {
      "cell_type": "code",
      "metadata": {
        "id": "GYCD0VBy4FCl"
      },
      "source": [
        "def test2(*sudh):\n",
        "    for i in sudh:\n",
        "        print(i)\n"
      ],
      "execution_count": 7,
      "outputs": []
    },
    {
      "cell_type": "code",
      "metadata": {
        "id": "3_8l_BCv4FCp",
        "outputId": "9a8c136c-7d83-40ee-cfa2-e84d2568f58d",
        "colab": {
          "base_uri": "https://localhost:8080/"
        }
      },
      "source": [
        "test2(45,56,56,67,67)"
      ],
      "execution_count": 8,
      "outputs": [
        {
          "output_type": "stream",
          "text": [
            "45\n",
            "56\n",
            "56\n",
            "67\n",
            "67\n"
          ],
          "name": "stdout"
        }
      ]
    },
    {
      "cell_type": "code",
      "metadata": {
        "id": "quwFOglG4FCr"
      },
      "source": [
        "def test3(*sudh):\n",
        "    for i in sudh :\n",
        "        if type(i) == list:\n",
        "            print(i)"
      ],
      "execution_count": 9,
      "outputs": []
    },
    {
      "cell_type": "code",
      "metadata": {
        "id": "f7hY4vjw4FCt"
      },
      "source": [
        "test3(45,56,56,\"sdfsf\")"
      ],
      "execution_count": 10,
      "outputs": []
    },
    {
      "cell_type": "code",
      "metadata": {
        "id": "SV-uDDqV4FCv",
        "outputId": "f5e30fba-a4d3-492c-eb5b-36ea147d9b50",
        "colab": {
          "base_uri": "https://localhost:8080/"
        }
      },
      "source": [
        "test3(45,56,[3,4,6,6,7],56,\"sdfsf\")"
      ],
      "execution_count": 11,
      "outputs": [
        {
          "output_type": "stream",
          "text": [
            "[3, 4, 6, 6, 7]\n"
          ],
          "name": "stdout"
        }
      ]
    },
    {
      "cell_type": "code",
      "metadata": {
        "id": "UKob84ra4FCw"
      },
      "source": [
        "def test4(**kwargs):\n",
        "    return kwargs"
      ],
      "execution_count": 12,
      "outputs": []
    },
    {
      "cell_type": "code",
      "metadata": {
        "id": "4SeoQFa-4FCy",
        "outputId": "c8f1427d-1cbe-4b40-9b2b-f22aa5b07f8b",
        "colab": {
          "base_uri": "https://localhost:8080/"
        }
      },
      "source": [
        "test4()"
      ],
      "execution_count": 13,
      "outputs": [
        {
          "output_type": "execute_result",
          "data": {
            "text/plain": [
              "{}"
            ]
          },
          "metadata": {
            "tags": []
          },
          "execution_count": 13
        }
      ]
    },
    {
      "cell_type": "code",
      "metadata": {
        "id": "IG9p97CQ4FC0",
        "outputId": "d75052c4-4a1d-41fc-a7d1-d10f06bc7e6a",
        "colab": {
          "base_uri": "https://localhost:8080/",
          "height": 162
        }
      },
      "source": [
        "test4(\"sudh\")"
      ],
      "execution_count": 14,
      "outputs": [
        {
          "output_type": "error",
          "ename": "TypeError",
          "evalue": "ignored",
          "traceback": [
            "\u001b[0;31m---------------------------------------------------------------------------\u001b[0m",
            "\u001b[0;31mTypeError\u001b[0m                                 Traceback (most recent call last)",
            "\u001b[0;32m<ipython-input-14-4e98ed02152b>\u001b[0m in \u001b[0;36m<module>\u001b[0;34m()\u001b[0m\n\u001b[0;32m----> 1\u001b[0;31m \u001b[0mtest4\u001b[0m\u001b[0;34m(\u001b[0m\u001b[0;34m\"sudh\"\u001b[0m\u001b[0;34m)\u001b[0m\u001b[0;34m\u001b[0m\u001b[0;34m\u001b[0m\u001b[0m\n\u001b[0m",
            "\u001b[0;31mTypeError\u001b[0m: test4() takes 0 positional arguments but 1 was given"
          ]
        }
      ]
    },
    {
      "cell_type": "code",
      "metadata": {
        "id": "JCnihxfJ4FC1",
        "outputId": "ae6175f2-c7c5-4fb8-aa1d-55da8647115e",
        "colab": {
          "base_uri": "https://localhost:8080/"
        }
      },
      "source": [
        "test4(a = \"sudh\" , b = \"fsdfsf\" , c = [2,3,3,4,5,6])"
      ],
      "execution_count": 15,
      "outputs": [
        {
          "output_type": "execute_result",
          "data": {
            "text/plain": [
              "{'a': 'sudh', 'b': 'fsdfsf', 'c': [2, 3, 3, 4, 5, 6]}"
            ]
          },
          "metadata": {
            "tags": []
          },
          "execution_count": 15
        }
      ]
    },
    {
      "cell_type": "code",
      "metadata": {
        "id": "q4Sp_9xl4FC3"
      },
      "source": [
        "def test5(**sudh):\n",
        "    return type(sudh)"
      ],
      "execution_count": 16,
      "outputs": []
    },
    {
      "cell_type": "code",
      "metadata": {
        "id": "phGl6a7b4FC4",
        "outputId": "0d3bff23-f4b4-4740-fd6f-53663b2ebd86",
        "colab": {
          "base_uri": "https://localhost:8080/"
        }
      },
      "source": [
        "test5(a = \"sdfsd\" , b = 5456, c = [4,5,6,7,8])"
      ],
      "execution_count": 17,
      "outputs": [
        {
          "output_type": "execute_result",
          "data": {
            "text/plain": [
              "dict"
            ]
          },
          "metadata": {
            "tags": []
          },
          "execution_count": 17
        }
      ]
    },
    {
      "cell_type": "code",
      "metadata": {
        "id": "tklDp56o4FC5",
        "outputId": "fde4dac2-d2b5-4412-9760-248eb7be0409",
        "colab": {
          "base_uri": "https://localhost:8080/",
          "height": 128
        }
      },
      "source": [
        "def test6(***sudh):\n",
        "    return sudh"
      ],
      "execution_count": 18,
      "outputs": [
        {
          "output_type": "error",
          "ename": "SyntaxError",
          "evalue": "ignored",
          "traceback": [
            "\u001b[0;36m  File \u001b[0;32m\"<ipython-input-18-73daec560bf7>\"\u001b[0;36m, line \u001b[0;32m1\u001b[0m\n\u001b[0;31m    def test6(***sudh):\u001b[0m\n\u001b[0m                ^\u001b[0m\n\u001b[0;31mSyntaxError\u001b[0m\u001b[0;31m:\u001b[0m invalid syntax\n"
          ]
        }
      ]
    },
    {
      "cell_type": "code",
      "metadata": {
        "id": "-Ihn90f94FC6",
        "outputId": "329638d6-f35a-4954-f7e8-cf4eab1b6959",
        "colab": {
          "base_uri": "https://localhost:8080/",
          "height": 128
        }
      },
      "source": [
        "2***3"
      ],
      "execution_count": 19,
      "outputs": [
        {
          "output_type": "error",
          "ename": "SyntaxError",
          "evalue": "ignored",
          "traceback": [
            "\u001b[0;36m  File \u001b[0;32m\"<ipython-input-19-6b1f253a49d9>\"\u001b[0;36m, line \u001b[0;32m1\u001b[0m\n\u001b[0;31m    2***3\u001b[0m\n\u001b[0m       ^\u001b[0m\n\u001b[0;31mSyntaxError\u001b[0m\u001b[0;31m:\u001b[0m invalid syntax\n"
          ]
        }
      ]
    },
    {
      "cell_type": "code",
      "metadata": {
        "id": "bvGMpSDk4FC8"
      },
      "source": [
        "l = [34,56,78,23,2,3]\n",
        "l1= []\n",
        "for i in l :\n",
        "    l1.append(i+2)\n"
      ],
      "execution_count": 20,
      "outputs": []
    },
    {
      "cell_type": "code",
      "metadata": {
        "id": "B48ERvUu4FC9",
        "outputId": "6e359909-a5e6-431f-9815-8f1018599156",
        "colab": {
          "base_uri": "https://localhost:8080/"
        }
      },
      "source": [
        "l1"
      ],
      "execution_count": 22,
      "outputs": [
        {
          "output_type": "execute_result",
          "data": {
            "text/plain": [
              "[36, 58, 80, 25, 4, 5]"
            ]
          },
          "metadata": {
            "tags": []
          },
          "execution_count": 22
        }
      ]
    },
    {
      "cell_type": "code",
      "metadata": {
        "id": "i1kZFYoZ4FC-",
        "outputId": "756ca39c-e1f4-4b41-bd57-0ad2cbc5640c",
        "colab": {
          "base_uri": "https://localhost:8080/"
        }
      },
      "source": [
        "[i+2 for i in l ]"
      ],
      "execution_count": 23,
      "outputs": [
        {
          "output_type": "execute_result",
          "data": {
            "text/plain": [
              "[36, 58, 80, 25, 4, 5]"
            ]
          },
          "metadata": {
            "tags": []
          },
          "execution_count": 23
        }
      ]
    },
    {
      "cell_type": "code",
      "metadata": {
        "id": "sWyoU8BY4FC_"
      },
      "source": [
        "def addtwo(n) :\n",
        "    return n + 2"
      ],
      "execution_count": 24,
      "outputs": []
    },
    {
      "cell_type": "code",
      "metadata": {
        "id": "2k7vdBjU4FDA",
        "outputId": "705b4d1d-2de4-40a8-875c-27ef75113118",
        "colab": {
          "base_uri": "https://localhost:8080/"
        }
      },
      "source": [
        "list(map(addtwo , l))"
      ],
      "execution_count": 25,
      "outputs": [
        {
          "output_type": "execute_result",
          "data": {
            "text/plain": [
              "[36, 58, 80, 25, 4, 5]"
            ]
          },
          "metadata": {
            "tags": []
          },
          "execution_count": 25
        }
      ]
    },
    {
      "cell_type": "code",
      "metadata": {
        "id": "3S2oh9p34FDC",
        "outputId": "29a13651-cdf5-4002-b6dd-409b63bddc0c",
        "colab": {
          "base_uri": "https://localhost:8080/"
        }
      },
      "source": [
        "list(map(lambda a :a+2 , l))"
      ],
      "execution_count": 26,
      "outputs": [
        {
          "output_type": "execute_result",
          "data": {
            "text/plain": [
              "[36, 58, 80, 25, 4, 5]"
            ]
          },
          "metadata": {
            "tags": []
          },
          "execution_count": 26
        }
      ]
    },
    {
      "cell_type": "code",
      "metadata": {
        "id": "rJA14H9X4FDE"
      },
      "source": [
        "l = [2,3,4,'sudh',6,'kumar']\n"
      ],
      "execution_count": 27,
      "outputs": []
    },
    {
      "cell_type": "code",
      "metadata": {
        "id": "tCudoMDi4FDG",
        "outputId": "2e17b2e4-9c8d-4966-c349-057151c967f3",
        "colab": {
          "base_uri": "https://localhost:8080/"
        }
      },
      "source": [
        "list(map(lambda i  : str(i),l))"
      ],
      "execution_count": 28,
      "outputs": [
        {
          "output_type": "execute_result",
          "data": {
            "text/plain": [
              "['2', '3', '4', 'sudh', '6', 'kumar']"
            ]
          },
          "metadata": {
            "tags": []
          },
          "execution_count": 28
        }
      ]
    },
    {
      "cell_type": "code",
      "metadata": {
        "id": "DoaNEzE-4FDH"
      },
      "source": [
        "def mapTest(n):\n",
        "    if type(n)==str:\n",
        "        n = n+\"ok\"\n",
        "    else :\n",
        "        n=n+2\n",
        "    return n\n"
      ],
      "execution_count": 29,
      "outputs": []
    },
    {
      "cell_type": "code",
      "metadata": {
        "id": "C9wT4n3C4FDI",
        "outputId": "e84f85bd-c282-4926-f5e0-fdd7192e9ae3",
        "colab": {
          "base_uri": "https://localhost:8080/"
        }
      },
      "source": [
        "list(map(mapTest,l))"
      ],
      "execution_count": 30,
      "outputs": [
        {
          "output_type": "execute_result",
          "data": {
            "text/plain": [
              "[4, 5, 6, 'sudhok', 8, 'kumarok']"
            ]
          },
          "metadata": {
            "tags": []
          },
          "execution_count": 30
        }
      ]
    },
    {
      "cell_type": "code",
      "metadata": {
        "id": "hwLS6sVZ4FDJ",
        "outputId": "7d13adb1-b89d-43ff-f03b-28038603141c",
        "colab": {
          "base_uri": "https://localhost:8080/"
        }
      },
      "source": [
        "list(map(lambda a: a+'ok' if type(a)==str else a+2,l))"
      ],
      "execution_count": 31,
      "outputs": [
        {
          "output_type": "execute_result",
          "data": {
            "text/plain": [
              "[4, 5, 6, 'sudhok', 8, 'kumarok']"
            ]
          },
          "metadata": {
            "tags": []
          },
          "execution_count": 31
        }
      ]
    },
    {
      "cell_type": "code",
      "metadata": {
        "id": "A8eh7qOr4FDK",
        "outputId": "069ce3df-cb39-4d2b-cbf2-92b58442da11",
        "colab": {
          "base_uri": "https://localhost:8080/"
        }
      },
      "source": [
        "l"
      ],
      "execution_count": 32,
      "outputs": [
        {
          "output_type": "execute_result",
          "data": {
            "text/plain": [
              "[2, 3, 4, 'sudh', 6, 'kumar']"
            ]
          },
          "metadata": {
            "tags": []
          },
          "execution_count": 32
        }
      ]
    },
    {
      "cell_type": "code",
      "metadata": {
        "id": "rcNEW7En4FDL"
      },
      "source": [
        "l = [34,56,56,778,89,34]"
      ],
      "execution_count": 33,
      "outputs": []
    },
    {
      "cell_type": "code",
      "metadata": {
        "id": "bDd0oW7f4FDM"
      },
      "source": [
        "a = 0 \n",
        "for i in l :\n",
        "    a = a + i \n",
        "    "
      ],
      "execution_count": 34,
      "outputs": []
    },
    {
      "cell_type": "code",
      "metadata": {
        "id": "nL4fQ1SC4FDM",
        "outputId": "bb2a08e7-0d69-49ec-ac81-eb94b9e06e5a",
        "colab": {
          "base_uri": "https://localhost:8080/"
        }
      },
      "source": [
        "a"
      ],
      "execution_count": 35,
      "outputs": [
        {
          "output_type": "execute_result",
          "data": {
            "text/plain": [
              "1047"
            ]
          },
          "metadata": {
            "tags": []
          },
          "execution_count": 35
        }
      ]
    },
    {
      "cell_type": "code",
      "metadata": {
        "id": "pdPvCPlA4FDO"
      },
      "source": [
        "from functools import reduce"
      ],
      "execution_count": 36,
      "outputs": []
    },
    {
      "cell_type": "code",
      "metadata": {
        "id": "HIbBXcM84FDP",
        "outputId": "67096f07-052f-4e58-9ee3-a3aeb51dd0d2",
        "colab": {
          "base_uri": "https://localhost:8080/"
        }
      },
      "source": [
        "reduce(lambda a,b : a + b , l)"
      ],
      "execution_count": 37,
      "outputs": [
        {
          "output_type": "execute_result",
          "data": {
            "text/plain": [
              "1047"
            ]
          },
          "metadata": {
            "tags": []
          },
          "execution_count": 37
        }
      ]
    },
    {
      "cell_type": "code",
      "metadata": {
        "id": "RPR0olpS4FDQ"
      },
      "source": [
        "def addi(a,b):\n",
        "    return a+ b "
      ],
      "execution_count": 38,
      "outputs": []
    },
    {
      "cell_type": "code",
      "metadata": {
        "id": "rOmpsaxH4FDR",
        "outputId": "958814ae-aa9a-4547-90bc-e2b901a6d6a3",
        "colab": {
          "base_uri": "https://localhost:8080/"
        }
      },
      "source": [
        "reduce(addi, l )"
      ],
      "execution_count": 39,
      "outputs": [
        {
          "output_type": "execute_result",
          "data": {
            "text/plain": [
              "1047"
            ]
          },
          "metadata": {
            "tags": []
          },
          "execution_count": 39
        }
      ]
    },
    {
      "cell_type": "code",
      "metadata": {
        "id": "mbscorLU4FDS",
        "outputId": "c12d223a-0444-41ec-f9eb-fa3fe92d9d48",
        "colab": {
          "base_uri": "https://localhost:8080/"
        }
      },
      "source": [
        "l"
      ],
      "execution_count": 40,
      "outputs": [
        {
          "output_type": "execute_result",
          "data": {
            "text/plain": [
              "[34, 56, 56, 778, 89, 34]"
            ]
          },
          "metadata": {
            "tags": []
          },
          "execution_count": 40
        }
      ]
    },
    {
      "cell_type": "code",
      "metadata": {
        "id": "Aw1E-8n74FDT"
      },
      "source": [
        "l = [4,5,6,7,7,89,9,4]"
      ],
      "execution_count": 41,
      "outputs": []
    },
    {
      "cell_type": "code",
      "metadata": {
        "id": "YzR7gucI4FDT",
        "outputId": "ae407261-346a-4cb2-e99a-0f8cb8ed6044",
        "colab": {
          "base_uri": "https://localhost:8080/",
          "height": 128
        }
      },
      "source": [
        "reduce(lambda a , b  ,c: , l )"
      ],
      "execution_count": 42,
      "outputs": [
        {
          "output_type": "error",
          "ename": "SyntaxError",
          "evalue": "ignored",
          "traceback": [
            "\u001b[0;36m  File \u001b[0;32m\"<ipython-input-42-db4511a1ca3b>\"\u001b[0;36m, line \u001b[0;32m1\u001b[0m\n\u001b[0;31m    reduce(lambda a , b  ,c: , l )\u001b[0m\n\u001b[0m                             ^\u001b[0m\n\u001b[0;31mSyntaxError\u001b[0m\u001b[0;31m:\u001b[0m invalid syntax\n"
          ]
        }
      ]
    },
    {
      "cell_type": "code",
      "metadata": {
        "id": "ObhkkgDP4FDU",
        "outputId": "96fe6595-2615-433a-b26f-64dc31eee256",
        "colab": {
          "base_uri": "https://localhost:8080/"
        }
      },
      "source": [
        "l = [4,5,6,7,8,9 , \"sudh\"]\n",
        "list(filter(lambda a : a if type(a) == int else \"ok\", l ))"
      ],
      "execution_count": 43,
      "outputs": [
        {
          "output_type": "execute_result",
          "data": {
            "text/plain": [
              "[4, 5, 6, 7, 8, 9, 'sudh']"
            ]
          },
          "metadata": {
            "tags": []
          },
          "execution_count": 43
        }
      ]
    },
    {
      "cell_type": "code",
      "metadata": {
        "id": "yehRmLLa4FDV",
        "outputId": "6f500282-5461-4743-a4c0-c061a351d847",
        "colab": {
          "base_uri": "https://localhost:8080/",
          "height": 128
        }
      },
      "source": [
        "list(filter(lambda a :))"
      ],
      "execution_count": 44,
      "outputs": [
        {
          "output_type": "error",
          "ename": "SyntaxError",
          "evalue": "ignored",
          "traceback": [
            "\u001b[0;36m  File \u001b[0;32m\"<ipython-input-44-f84c081ef8e0>\"\u001b[0;36m, line \u001b[0;32m1\u001b[0m\n\u001b[0;31m    list(filter(lambda a :))\u001b[0m\n\u001b[0m                          ^\u001b[0m\n\u001b[0;31mSyntaxError\u001b[0m\u001b[0;31m:\u001b[0m invalid syntax\n"
          ]
        }
      ]
    },
    {
      "cell_type": "code",
      "metadata": {
        "id": "JfaTlbzP4FDW"
      },
      "source": [
        "def test7(n) :\n",
        "    if type(n) == str:\n",
        "        return True \n",
        "    else :\n",
        "        return False "
      ],
      "execution_count": 45,
      "outputs": []
    },
    {
      "cell_type": "code",
      "metadata": {
        "id": "HY-K4KRJ4FDX",
        "outputId": "88f4eb97-c08d-49e4-f138-e17657e6bc27",
        "colab": {
          "base_uri": "https://localhost:8080/"
        }
      },
      "source": [
        "list(filter(test7 , l ))"
      ],
      "execution_count": 47,
      "outputs": [
        {
          "output_type": "execute_result",
          "data": {
            "text/plain": [
              "['sudh']"
            ]
          },
          "metadata": {
            "tags": []
          },
          "execution_count": 47
        }
      ]
    },
    {
      "cell_type": "code",
      "metadata": {
        "id": "QYgRmewJ4FDY",
        "outputId": "870a3cee-5ea8-4dac-e4bd-246c34596d8c",
        "colab": {
          "base_uri": "https://localhost:8080/"
        }
      },
      "source": [
        "l "
      ],
      "execution_count": 48,
      "outputs": [
        {
          "output_type": "execute_result",
          "data": {
            "text/plain": [
              "[4, 5, 6, 7, 8, 9, 'sudh']"
            ]
          },
          "metadata": {
            "tags": []
          },
          "execution_count": 48
        }
      ]
    },
    {
      "cell_type": "code",
      "metadata": {
        "id": "EJcgZy6R4FDb"
      },
      "source": [
        "def test8(n ) :\n",
        "    if type(n) == int:\n",
        "        return True \n",
        "    else :\n",
        "        return False "
      ],
      "execution_count": 51,
      "outputs": []
    },
    {
      "cell_type": "code",
      "metadata": {
        "id": "73cbAUwK4FDd",
        "outputId": "e8b15f2e-d32f-4bd1-9185-295cbe51b74b",
        "colab": {
          "base_uri": "https://localhost:8080/"
        }
      },
      "source": [
        "list(filter(test8 , l ))"
      ],
      "execution_count": 52,
      "outputs": [
        {
          "output_type": "execute_result",
          "data": {
            "text/plain": [
              "[4, 5, 6, 7, 8, 9]"
            ]
          },
          "metadata": {
            "tags": []
          },
          "execution_count": 52
        }
      ]
    },
    {
      "cell_type": "code",
      "metadata": {
        "id": "QXOjAJUT4FDf",
        "outputId": "00b8bb05-5e04-4899-c6d4-ed838c17443b",
        "colab": {
          "base_uri": "https://localhost:8080/"
        }
      },
      "source": [
        "from functools import reduce\n",
        "l = [1,2,3,5,8,1,'sudh','kumar',]\n",
        "print(reduce(lambda a,b:str(a)+str(b),l))\n",
        "\n",
        "\n",
        "print(list(filter(lambda a : True if type(a)==str and a.startswith('s') else False,l)))\n"
      ],
      "execution_count": 53,
      "outputs": [
        {
          "output_type": "stream",
          "text": [
            "123581sudhkumar\n",
            "['sudh']\n"
          ],
          "name": "stdout"
        }
      ]
    },
    {
      "cell_type": "code",
      "metadata": {
        "id": "f9izlySK4FDg",
        "outputId": "a97edbc9-f1e4-45a1-812a-2303ebd10f6b",
        "colab": {
          "base_uri": "https://localhost:8080/"
        }
      },
      "source": [
        "from functools import reduce\n",
        "l = [1,2,3,5,8,1,'sudh','kumar',]\n",
        "print(reduce(lambda a,b:str(a)+str(b),l))"
      ],
      "execution_count": 54,
      "outputs": [
        {
          "output_type": "stream",
          "text": [
            "123581sudhkumar\n"
          ],
          "name": "stdout"
        }
      ]
    },
    {
      "cell_type": "code",
      "metadata": {
        "id": "dasTmpBP4FDi",
        "outputId": "82c3e508-0353-4114-b4d7-608bcad3bc1e",
        "colab": {
          "base_uri": "https://localhost:8080/"
        }
      },
      "source": [
        "(list(filter(lambda a : True if type(a)==str and a.startswith('s') else False,l)))"
      ],
      "execution_count": 55,
      "outputs": [
        {
          "output_type": "execute_result",
          "data": {
            "text/plain": [
              "['sudh']"
            ]
          },
          "metadata": {
            "tags": []
          },
          "execution_count": 55
        }
      ]
    },
    {
      "cell_type": "code",
      "metadata": {
        "id": "O-9GGQxr4FDj"
      },
      "source": [
        "def funstest(s):\n",
        "    if type(s) == str:\n",
        "        if(s[0]=='s' or s[0] == \"S\"):\n",
        "            return True\n",
        "        else :\n",
        "            return False\n"
      ],
      "execution_count": 57,
      "outputs": []
    },
    {
      "cell_type": "code",
      "metadata": {
        "id": "lmQryCcu4FDk",
        "outputId": "24e93422-3c0e-4e87-c512-ee362cfd7577",
        "colab": {
          "base_uri": "https://localhost:8080/"
        }
      },
      "source": [
        "list(filter(funstest, l))"
      ],
      "execution_count": 58,
      "outputs": [
        {
          "output_type": "execute_result",
          "data": {
            "text/plain": [
              "['sudh']"
            ]
          },
          "metadata": {
            "tags": []
          },
          "execution_count": 58
        }
      ]
    },
    {
      "cell_type": "code",
      "metadata": {
        "id": "691fJlrb4FDl",
        "outputId": "32f18358-9e12-40b5-e287-fe5333306123",
        "colab": {
          "base_uri": "https://localhost:8080/"
        }
      },
      "source": [
        "l"
      ],
      "execution_count": 59,
      "outputs": [
        {
          "output_type": "execute_result",
          "data": {
            "text/plain": [
              "[1, 2, 3, 5, 8, 1, 'sudh', 'kumar']"
            ]
          },
          "metadata": {
            "tags": []
          },
          "execution_count": 59
        }
      ]
    },
    {
      "cell_type": "code",
      "metadata": {
        "id": "4NJv4gZn4FDm"
      },
      "source": [
        "def func1(data):\n",
        "    if type(data) == str:\n",
        "        if(data.startswith('s') == True):\n",
        "            return True\n",
        "        else:\n",
        "            return False\n"
      ],
      "execution_count": 61,
      "outputs": []
    },
    {
      "cell_type": "code",
      "metadata": {
        "id": "IHczQgAc4FDn",
        "outputId": "3786eda9-827b-4676-cbfc-c2da014f9a5b",
        "colab": {
          "base_uri": "https://localhost:8080/"
        }
      },
      "source": [
        "list(filter(func1, l))"
      ],
      "execution_count": 62,
      "outputs": [
        {
          "output_type": "execute_result",
          "data": {
            "text/plain": [
              "['sudh']"
            ]
          },
          "metadata": {
            "tags": []
          },
          "execution_count": 62
        }
      ]
    },
    {
      "cell_type": "code",
      "metadata": {
        "id": "m8gjv_Up4FDo"
      },
      "source": [
        "\n",
        "\n",
        "def con_fun(a,b):\n",
        "    \n",
        "    return str (a) + str(b) \n",
        "\n",
        "\n",
        "\n"
      ],
      "execution_count": 63,
      "outputs": []
    },
    {
      "cell_type": "code",
      "metadata": {
        "id": "NNBN2X8H4FDp",
        "outputId": "3d4bce9d-e986-4edf-a4dc-8367383d3168",
        "colab": {
          "base_uri": "https://localhost:8080/",
          "height": 35
        }
      },
      "source": [
        "reduce(con_fun, l)"
      ],
      "execution_count": 64,
      "outputs": [
        {
          "output_type": "execute_result",
          "data": {
            "application/vnd.google.colaboratory.intrinsic+json": {
              "type": "string"
            },
            "text/plain": [
              "'123581sudhkumar'"
            ]
          },
          "metadata": {
            "tags": []
          },
          "execution_count": 64
        }
      ]
    },
    {
      "cell_type": "code",
      "metadata": {
        "id": "jnwM4gUZ4FDq",
        "outputId": "8780d93f-0136-4f38-9bcf-04d2514aaa8e",
        "colab": {
          "base_uri": "https://localhost:8080/"
        }
      },
      "source": [
        "l=[1]\n",
        "reduce(lambda x,y:x+y,l)\n"
      ],
      "execution_count": 65,
      "outputs": [
        {
          "output_type": "execute_result",
          "data": {
            "text/plain": [
              "1"
            ]
          },
          "metadata": {
            "tags": []
          },
          "execution_count": 65
        }
      ]
    },
    {
      "cell_type": "code",
      "metadata": {
        "id": "WquZbftM4FDr",
        "outputId": "599de729-ce80-4a76-d6c0-fa962c7bf561",
        "colab": {
          "base_uri": "https://localhost:8080/"
        }
      },
      "source": [
        "s  = \"sudh\"\n",
        "s.startswith('s')"
      ],
      "execution_count": 66,
      "outputs": [
        {
          "output_type": "execute_result",
          "data": {
            "text/plain": [
              "True"
            ]
          },
          "metadata": {
            "tags": []
          },
          "execution_count": 66
        }
      ]
    },
    {
      "cell_type": "code",
      "metadata": {
        "id": "lORVNN1e4FDs",
        "outputId": "1fff57ec-ba2b-4045-fd74-9beff582acdb",
        "colab": {
          "base_uri": "https://localhost:8080/",
          "height": 35
        }
      },
      "source": [
        "import functools \n",
        "l = [1,2,3,4,5,6,\"sudh\",\"Kumar\"]\n",
        "functools.reduce(lambda a,b:str(a)+str(b),l)\n"
      ],
      "execution_count": 67,
      "outputs": [
        {
          "output_type": "execute_result",
          "data": {
            "application/vnd.google.colaboratory.intrinsic+json": {
              "type": "string"
            },
            "text/plain": [
              "'123456sudhKumar'"
            ]
          },
          "metadata": {
            "tags": []
          },
          "execution_count": 67
        }
      ]
    },
    {
      "cell_type": "code",
      "metadata": {
        "id": "ZmmRBFJO4FDu"
      },
      "source": [
        "\n",
        "def test(i):\n",
        "        if type(i)==str:\n",
        "            if (i[0]=='s' or i[0]=='S'):\n",
        "                return True\n",
        "            else:\n",
        "                return False\n"
      ],
      "execution_count": 68,
      "outputs": []
    },
    {
      "cell_type": "code",
      "metadata": {
        "id": "lye3QbAp4FDv"
      },
      "source": [
        ""
      ],
      "execution_count": null,
      "outputs": []
    }
  ]
}